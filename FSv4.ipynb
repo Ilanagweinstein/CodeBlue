{
 "cells": [
  {
   "cell_type": "code",
   "execution_count": 43,
   "metadata": {},
   "outputs": [],
   "source": [
    "import pandas as pd\n",
    "import numpy as np\n",
    "# import matplotlib.pyplot as plt\n",
    "# %matplotlib inline\n",
    "# import seaborn as sns\n",
    "# from sklearn import preprocessing\n",
    "# import statistics\n",
    "# import math\n",
    "# import os\n",
    "# import warnings\n",
    "# warnings.filterwarnings('ignore')\n",
    "# from datetime import datetime as dt\n",
    "# pd.set_option('display.max_columns', None)\n",
    "import os\n",
    "\n",
    "from sklearn.tree import DecisionTreeClassifier\n",
    "\n",
    "import matplotlib.pyplot as plt\n",
    "%matplotlib inline"
   ]
  },
  {
   "cell_type": "code",
   "execution_count": 44,
   "metadata": {},
   "outputs": [],
   "source": [
    "from sklearn.ensemble.forest import RandomForestClassifier\n",
    "from sklearn.feature_selection import SelectFromModel\n",
    "#from sklearn import cross_validation\n",
    "#from sklearn.cross_validation import train_test_split\n",
    "from sklearn.model_selection import cross_validate\n",
    "from sklearn.model_selection import train_test_split"
   ]
  },
  {
   "cell_type": "code",
   "execution_count": 45,
   "metadata": {},
   "outputs": [],
   "source": [
    "#import clean and cat data\n",
    "directory = os.getcwd()\n",
    "\n",
    "OG = pd.read_csv(directory + '/EMS_2017_2018_cat_final.csv', sep=',')\n",
    "#cat_values = pd.read_csv(directory + '/cat_values.csv', sep=',')"
   ]
  },
  {
   "cell_type": "code",
   "execution_count": 46,
   "metadata": {},
   "outputs": [
    {
     "data": {
      "text/plain": [
       "Index(['CAD_INCIDENT_ID', 'INCIDENT_DATETIME', 'INITIAL_CALL_TYPE',\n",
       "       'INITIAL_SEVERITY_LEVEL_CODE', 'FIRST_ASSIGNMENT_DATETIME',\n",
       "       'DISPATCH_RESPONSE_SECONDS_QY', 'FIRST_ACTIVATION_DATETIME',\n",
       "       'FIRST_ON_SCENE_DATETIME', 'INCIDENT_RESPONSE_SECONDS_QY',\n",
       "       'INCIDENT_TRAVEL_TM_SECONDS_QY', 'HELD_INDICATOR', 'BOROUGH',\n",
       "       'INCIDENT_DISPATCH_AREA', 'ZIPCODE', 'POLICEPRECINCT',\n",
       "       'CITYCOUNCILDISTRICT', 'COMMUNITYDISTRICT', 'COMMUNITYSCHOOLDISTRICT',\n",
       "       'CONGRESSIONALDISTRICT', 'TRANSFER_INDICATOR', 'INCIDENT_Hour',\n",
       "       'INCIDENT_Month', 'FIRST_ASSIGNMENT_Hour', 'FIRST_ASSIGNMENT_Month',\n",
       "       'FIRST_ACTIVATION_Hour', 'FIRST_ACTIVATION_Month',\n",
       "       'FIRST_ON_SCENE_Hour', 'FIRST_ON_SCENE_Month'],\n",
       "      dtype='object')"
      ]
     },
     "execution_count": 46,
     "metadata": {},
     "output_type": "execute_result"
    }
   ],
   "source": [
    "OG.columns"
   ]
  },
  {
   "cell_type": "code",
   "execution_count": 47,
   "metadata": {},
   "outputs": [],
   "source": [
    "# data = data_wrk.drop(['INCIDENT_DATETIME','FIRST_ASSIGNMENT_DATETIME','FIRST_ACTIVATION_DATETIME',\n",
    "#        'FIRST_ON_SCENE_DATETIME','INCIDENT_Hour',\n",
    "#        'INCIDENT_Month', 'FIRST_ASSIGNMENT_Hour', 'FIRST_ASSIGNMENT_Month',\n",
    "       \n",
    "#        'FIRST_ON_SCENE_Hour', 'FIRST_ON_SCENE_Month'], axis = 1)"
   ]
  },
  {
   "cell_type": "code",
   "execution_count": 48,
   "metadata": {},
   "outputs": [],
   "source": [
    "# 'INITIAL_CALL_TYPE','INITIAL_SEVERITY_LEVEL_CODE'\n",
    "# data = data_wrk.drop(['CAD_INCIDENT_ID'], 1)\n",
    "# data = data_wrk.drop(['DISPATCH_RESPONSE_SECONDS_QY'], 1)\n",
    "# data = data_wrk.drop(['HELD_INDICATOR'], 1)\n",
    "# data = data_wrk.drop(['BOROUGH'], 1)\n",
    "# data = data_wrk.drop(['INCIDENT_RESPONSE_SECONDS_QY'], 1)"
   ]
  },
  {
   "cell_type": "code",
   "execution_count": 49,
   "metadata": {},
   "outputs": [],
   "source": [
    "data = OG[['INITIAL_CALL_TYPE','INITIAL_SEVERITY_LEVEL_CODE',\n",
    "                'DISPATCH_RESPONSE_SECONDS_QY','HELD_INDICATOR','BOROUGH','INCIDENT_RESPONSE_SECONDS_QY',\n",
    "                'INCIDENT_TRAVEL_TM_SECONDS_QY','FIRST_ACTIVATION_Hour', 'FIRST_ACTIVATION_Month', 'ZIPCODE', \n",
    "           'POLICEPRECINCT',]]"
   ]
  },
  {
   "cell_type": "code",
   "execution_count": 50,
   "metadata": {},
   "outputs": [],
   "source": [
    "data_wrk = data.sample(n = 50000) "
   ]
  },
  {
   "cell_type": "code",
   "execution_count": 51,
   "metadata": {},
   "outputs": [],
   "source": [
    "data_wrk = data.sample(n = 50000) \n",
    "X = data_wrk.drop('INCIDENT_TRAVEL_TM_SECONDS_QY', axis=1)\n",
    "Y = data_wrk['INCIDENT_TRAVEL_TM_SECONDS_QY']\n",
    "\n",
    "X_train, X_test, Y_train, Y_test = train_test_split(X, Y, train_size=.75)"
   ]
  },
  {
   "cell_type": "code",
   "execution_count": 52,
   "metadata": {},
   "outputs": [
    {
     "data": {
      "text/plain": [
       "Index(['INITIAL_CALL_TYPE', 'INITIAL_SEVERITY_LEVEL_CODE',\n",
       "       'DISPATCH_RESPONSE_SECONDS_QY', 'HELD_INDICATOR', 'BOROUGH',\n",
       "       'INCIDENT_RESPONSE_SECONDS_QY', 'FIRST_ACTIVATION_Hour',\n",
       "       'FIRST_ACTIVATION_Month', 'ZIPCODE', 'POLICEPRECINCT'],\n",
       "      dtype='object')"
      ]
     },
     "execution_count": 52,
     "metadata": {},
     "output_type": "execute_result"
    }
   ],
   "source": [
    "X_test.columns"
   ]
  },
  {
   "cell_type": "code",
   "execution_count": 53,
   "metadata": {},
   "outputs": [],
   "source": [
    "clf_def = DecisionTreeClassifier(criterion='entropy', min_samples_leaf = 20)"
   ]
  },
  {
   "cell_type": "code",
   "execution_count": 54,
   "metadata": {},
   "outputs": [],
   "source": [
    "clf_def = clf_def.fit(X_train, Y_train)"
   ]
  },
  {
   "cell_type": "code",
   "execution_count": 55,
   "metadata": {},
   "outputs": [],
   "source": [
    "dt_pred = clf_def.predict_proba(X_test)"
   ]
  },
  {
   "cell_type": "code",
   "execution_count": 56,
   "metadata": {},
   "outputs": [],
   "source": [
    "importances = clf_def.feature_importances_\n",
    "indices = np.argsort(importances)\n",
    "features = X_train.columns"
   ]
  },
  {
   "cell_type": "code",
   "execution_count": 57,
   "metadata": {},
   "outputs": [
    {
     "data": {
      "text/plain": [
       "Text(0.5, 0, 'Relative Importance')"
      ]
     },
     "execution_count": 57,
     "metadata": {},
     "output_type": "execute_result"
    },
    {
     "data": {
      "image/png": "[encoded data removed]",
      "text/plain": [
       "<Figure size 432x288 with 1 Axes>"
      ]
     },
     "metadata": {
      "needs_background": "light"
     },
     "output_type": "display_data"
    }
   ],
   "source": [
    "plt.figure(1)\n",
    "plt.title('Feature Importances')\n",
    "plt.barh(range(len(features)), importances[indices], color='b', align='center')\n",
    "plt.yticks(range(len(features)), features[indices])\n",
    "plt.xlabel('Relative Importance')"
   ]
  },
  {
   "cell_type": "code",
   "execution_count": 58,
   "metadata": {},
   "outputs": [],
   "source": [
    "data = OG[['INITIAL_CALL_TYPE','INITIAL_SEVERITY_LEVEL_CODE',\n",
    "                'HELD_INDICATOR','BOROUGH',\n",
    "                'INCIDENT_TRAVEL_TM_SECONDS_QY','FIRST_ACTIVATION_Hour', 'FIRST_ACTIVATION_Month', 'ZIPCODE', \n",
    "           'POLICEPRECINCT','CITYCOUNCILDISTRICT', 'COMMUNITYDISTRICT','INCIDENT_DISPATCH_AREA']]"
   ]
  },
  {
   "cell_type": "code",
   "execution_count": 59,
   "metadata": {},
   "outputs": [],
   "source": [
    "data_wrk = data.sample(n = 50000) \n",
    "X = data_wrk.drop('INCIDENT_TRAVEL_TM_SECONDS_QY', axis=1)\n",
    "Y = data_wrk['INCIDENT_TRAVEL_TM_SECONDS_QY']\n",
    "\n",
    "X_train, X_test, Y_train, Y_test = train_test_split(X, Y, train_size=.75)"
   ]
  },
  {
   "cell_type": "code",
   "execution_count": 60,
   "metadata": {},
   "outputs": [],
   "source": [
    "clf_def = DecisionTreeClassifier(criterion='entropy', min_samples_leaf = 20)"
   ]
  },
  {
   "cell_type": "code",
   "execution_count": 61,
   "metadata": {},
   "outputs": [],
   "source": [
    "clf_def = clf_def.fit(X_train, Y_train)"
   ]
  },
  {
   "cell_type": "code",
   "execution_count": 62,
   "metadata": {},
   "outputs": [],
   "source": [
    "dt_pred = clf_def.predict_proba(X_test)"
   ]
  },
  {
   "cell_type": "code",
   "execution_count": 63,
   "metadata": {},
   "outputs": [],
   "source": [
    "importances = clf_def.feature_importances_\n",
    "indices = np.argsort(importances)\n",
    "features = X_train.columns"
   ]
  },
  {
   "cell_type": "code",
   "execution_count": 64,
   "metadata": {},
   "outputs": [
    {
     "data": {
      "text/plain": [
       "Text(0.5, 0, 'Relative Importance')"
      ]
     },
     "execution_count": 64,
     "metadata": {},
     "output_type": "execute_result"
    },
    {
     "data": {
      "image/png": "[encoded data removed]",
      "text/plain": [
       "<Figure size 432x288 with 1 Axes>"
      ]
     },
     "metadata": {
      "needs_background": "light"
     },
     "output_type": "display_data"
    }
   ],
   "source": [
    "plt.figure(1)\n",
    "plt.title('Feature Importances')\n",
    "plt.barh(range(len(features)), importances[indices], color='b', align='center')\n",
    "plt.yticks(range(len(features)), features[indices])\n",
    "plt.xlabel('Relative Importance')"
   ]
  },
  {
   "cell_type": "code",
   "execution_count": 65,
   "metadata": {},
   "outputs": [],
   "source": [
    "##FINAL DATASET\n",
    "data = OG[['INCIDENT_RESPONSE_SECONDS_QY', 'DISPATCH_RESPONSE_SECONDS_QY','FIRST_ACTIVATION_Hour', 'FIRST_ACTIVATION_Month'\n",
    "          ,'ZIPCODE','INITIAL_CALL_TYPE','CITYCOUNCILDISTRICT','POLICEPRECINCT','COMMUNITYDISTRICT',\n",
    "          'INITIAL_SEVERITY_LEVEL_CODE', 'INCIDENT_DISPATCH_AREA', 'INCIDENT_TRAVEL_TM_SECONDS_QY']]"
   ]
  },
  {
   "cell_type": "code",
   "execution_count": 66,
   "metadata": {},
   "outputs": [],
   "source": [
    "data_wrk = data.sample(n = 50000) \n",
    "X = data_wrk.drop('INCIDENT_TRAVEL_TM_SECONDS_QY', axis=1)\n",
    "Y = data_wrk['INCIDENT_TRAVEL_TM_SECONDS_QY']\n",
    "\n",
    "X_train, X_test, Y_train, Y_test = train_test_split(X, Y, train_size=.75)"
   ]
  },
  {
   "cell_type": "code",
   "execution_count": 67,
   "metadata": {},
   "outputs": [],
   "source": [
    "rf_def = RandomForestClassifier(criterion='entropy', n_estimators=100)"
   ]
  },
  {
   "cell_type": "code",
   "execution_count": 68,
   "metadata": {},
   "outputs": [],
   "source": [
    "rf_def = rf_def.fit(X_train, Y_train)"
   ]
  },
  {
   "cell_type": "code",
   "execution_count": 69,
   "metadata": {},
   "outputs": [],
   "source": [
    "# # #We'll build a RF and compare to a DT\n",
    "#clf_def = DecisionTreeClassifier(criterion='entropy', min_samples_leaf = 20)\n",
    "#clf_def = clf_def.fit(X_train, Y_train)\n",
    "#dt_pred = clf_def.predict_proba(X_test)\n",
    "\n",
    "#rf_def = RandomForestClassifier(criterion='entropy', n_estimators=100)\n",
    "#rf_def = rf_def.fit(X_train, Y_train)\n",
    "#rf_pred = rf_def.predict_proba(X_test)"
   ]
  },
  {
   "cell_type": "code",
   "execution_count": 70,
   "metadata": {},
   "outputs": [
    {
     "data": {
      "text/plain": [
       "<matplotlib.legend.Legend at 0x1a7146d710>"
      ]
     },
     "execution_count": 70,
     "metadata": {},
     "output_type": "execute_result"
    },
    {
     "data": {
      "image/png": "[encoded data removed]",
      "text/plain": [
       "<Figure size 432x288 with 1 Axes>"
      ]
     },
     "metadata": {
      "needs_background": "light"
     },
     "output_type": "display_data"
    }
   ],
   "source": [
    "# %matplotlib inline\n",
    "\n",
    "cols = X_train.columns.values\n",
    "rf_fi = rf_def.feature_importances_\n",
    "dt_fi = clf_def.feature_importances_\n",
    "\n",
    "fig, ax = plt.subplots()\n",
    "width=0.35\n",
    "\n",
    "ax.bar(np.arange(len(cols)), rf_fi, width, color='r', label='RF')\n",
    "ax.bar(np.arange(len(cols))+width, dt_fi, width, color='b', label='DT')\n",
    "\n",
    "ax.set_xticks(np.arange(len(cols)))\n",
    "ax.set_xticklabels(cols, rotation=45)\n",
    "plt.title('Feature Importance from DT and RF')\n",
    "ax.set_ylabel('Normalized Gini Importance')\n",
    "plt.legend(loc=1)"
   ]
  },
  {
   "cell_type": "code",
   "execution_count": 79,
   "metadata": {},
   "outputs": [
    {
     "data": {
      "text/plain": [
       "<matplotlib.legend.Legend at 0x1a68299f98>"
      ]
     },
     "execution_count": 79,
     "metadata": {},
     "output_type": "execute_result"
    },
    {
     "data": {
      "image/png": "[encoded data removed]",
      "text/plain": [
       "<Figure size 432x288 with 1 Axes>"
      ]
     },
     "metadata": {
      "needs_background": "light"
     },
     "output_type": "display_data"
    }
   ],
   "source": [
    "%matplotlib inline\n",
    "\n",
    "cols = X_train.columns.values\n",
    "rf_fi = rf_def.feature_importances_\n",
    "dt_fi = clf_def.feature_importances_\n",
    "\n",
    "fig, ax = plt.subplots()\n",
    "width=0.35\n",
    "\n",
    "ax.barh(np.arange(len(cols)), rf_fi, width, color='r', label='RF')\n",
    "ax.barh(np.arange(len(cols))+width, dt_fi, width, color='b', label='DT')\n",
    "\n",
    "ax.set_yticks(np.arange(len(cols)))\n",
    "ax.set_yticklabels(cols, rotation=45)\n",
    "plt.title('Feature Importance from DT and RF')\n",
    "ax.set_xlabel('Normalized Gini Importance')\n",
    "plt.legend(loc=1)"
   ]
  },
  {
   "cell_type": "code",
   "execution_count": 80,
   "metadata": {},
   "outputs": [
    {
     "data": {
      "text/plain": [
       "DecisionTreeRegressor(criterion='mse', max_depth=None, max_features=None,\n",
       "                      max_leaf_nodes=None, min_impurity_decrease=0.0,\n",
       "                      min_impurity_split=None, min_samples_leaf=1,\n",
       "                      min_samples_split=2, min_weight_fraction_leaf=0.0,\n",
       "                      presort=False, random_state=None, splitter='best')"
      ]
     },
     "execution_count": 80,
     "metadata": {},
     "output_type": "execute_result"
    }
   ],
   "source": [
    "from sklearn.tree import DecisionTreeRegressor\n",
    "regressor = DecisionTreeRegressor()\n",
    "regressor.fit(X_train, Y_train)"
   ]
  },
  {
   "cell_type": "code",
   "execution_count": 81,
   "metadata": {},
   "outputs": [],
   "source": [
    "model_score = regressor.score(X_train,Y_train)"
   ]
  },
  {
   "cell_type": "code",
   "execution_count": 82,
   "metadata": {},
   "outputs": [
    {
     "name": "stdout",
     "output_type": "stream",
     "text": [
      "coefficient of determination R^2 of the prediction.:  1.0\n"
     ]
    }
   ],
   "source": [
    "from sklearn.metrics import mean_squared_error, r2_score\n",
    "print(\"coefficient of determination R^2 of the prediction.: \",model_score)\n",
    "y_predicted = regressor.predict(X_test)"
   ]
  },
  {
   "cell_type": "code",
   "execution_count": 83,
   "metadata": {},
   "outputs": [
    {
     "name": "stdout",
     "output_type": "stream",
     "text": [
      "Mean squared error: 4901.30\n",
      "Test Variance score: 0.96\n"
     ]
    }
   ],
   "source": [
    "# The mean squared error\n",
    "print(\"Mean squared error: %.2f\"% mean_squared_error(Y_test, y_predicted))\n",
    "# Explained variance score: 1 is perfect prediction\n",
    "print('Test Variance score: %.2f' % r2_score(Y_test, y_predicted))"
   ]
  },
  {
   "cell_type": "code",
   "execution_count": 84,
   "metadata": {},
   "outputs": [
    {
     "data": {
      "image/png": "[encoded data removed]",
      "text/plain": [
       "<Figure size 432x288 with 1 Axes>"
      ]
     },
     "metadata": {
      "needs_background": "light"
     },
     "output_type": "display_data"
    }
   ],
   "source": [
    "# model against the test data\n",
    "from sklearn.model_selection import cross_val_predict\n",
    "\n",
    "fig, ax = plt.subplots()\n",
    "ax.scatter(Y_test, y_predicted, edgecolors=(0, 0, 0))\n",
    "ax.plot([Y_test.min(), Y_test.max()], [Y_test.min(), Y_test.max()], 'k--', lw=4)\n",
    "ax.set_xlabel('Actual')\n",
    "ax.set_ylabel('Predicted')\n",
    "ax.set_title(\"Ground Truth vs Predicted\")\n",
    "plt.show()"
   ]
  },
  {
   "cell_type": "code",
   "execution_count": null,
   "metadata": {},
   "outputs": [],
   "source": []
  },
  {
   "cell_type": "code",
   "execution_count": null,
   "metadata": {},
   "outputs": [],
   "source": []
  },
  {
   "cell_type": "code",
   "execution_count": null,
   "metadata": {},
   "outputs": [],
   "source": []
  },
  {
   "cell_type": "code",
   "execution_count": 71,
   "metadata": {},
   "outputs": [],
   "source": [
    "from sklearn.linear_model import Lasso, LogisticRegression\n",
    "from sklearn.feature_selection import SelectFromModel\n",
    "from sklearn.preprocessing import StandardScaler"
   ]
  },
  {
   "cell_type": "code",
   "execution_count": 72,
   "metadata": {},
   "outputs": [
    {
     "name": "stderr",
     "output_type": "stream",
     "text": [
      "//anaconda3/lib/python3.7/site-packages/sklearn/linear_model/logistic.py:432: FutureWarning: Default solver will be changed to 'lbfgs' in 0.22. Specify a solver to silence this warning.\n",
      "  FutureWarning)\n",
      "//anaconda3/lib/python3.7/site-packages/sklearn/linear_model/logistic.py:469: FutureWarning: Default multi_class will be changed to 'auto' in 0.22. Specify the multi_class option to silence this warning.\n",
      "  \"this warning.\", FutureWarning)\n",
      "//anaconda3/lib/python3.7/site-packages/sklearn/svm/base.py:929: ConvergenceWarning: Liblinear failed to converge, increase the number of iterations.\n",
      "  \"the number of iterations.\", ConvergenceWarning)\n"
     ]
    },
    {
     "data": {
      "text/plain": [
       "SelectFromModel(estimator=LogisticRegression(C=1, class_weight=None, dual=False,\n",
       "                                             fit_intercept=True,\n",
       "                                             intercept_scaling=1, l1_ratio=None,\n",
       "                                             max_iter=100, multi_class='warn',\n",
       "                                             n_jobs=None, penalty='l1',\n",
       "                                             random_state=None, solver='warn',\n",
       "                                             tol=0.0001, verbose=0,\n",
       "                                             warm_start=False),\n",
       "                max_features=None, norm_order=1, prefit=False, threshold=None)"
      ]
     },
     "execution_count": 72,
     "metadata": {},
     "output_type": "execute_result"
    }
   ],
   "source": [
    "scaler = StandardScaler()\n",
    "scaler.fit(X_train.fillna(0)) #.fillna(0)\n",
    "\n",
    "sel_ = SelectFromModel(LogisticRegression(C=1, penalty='l1'))\n",
    "sel_.fit(scaler.transform(X_train.fillna(0)), Y_train)"
   ]
  },
  {
   "cell_type": "code",
   "execution_count": 73,
   "metadata": {},
   "outputs": [
    {
     "name": "stderr",
     "output_type": "stream",
     "text": [
      "//anaconda3/lib/python3.7/site-packages/sklearn/linear_model/logistic.py:432: FutureWarning: Default solver will be changed to 'lbfgs' in 0.22. Specify a solver to silence this warning.\n",
      "  FutureWarning)\n",
      "//anaconda3/lib/python3.7/site-packages/sklearn/linear_model/logistic.py:469: FutureWarning: Default multi_class will be changed to 'auto' in 0.22. Specify the multi_class option to silence this warning.\n",
      "  \"this warning.\", FutureWarning)\n",
      "//anaconda3/lib/python3.7/site-packages/sklearn/svm/base.py:929: ConvergenceWarning: Liblinear failed to converge, increase the number of iterations.\n",
      "  \"the number of iterations.\", ConvergenceWarning)\n"
     ]
    },
    {
     "data": {
      "text/plain": [
       "SelectFromModel(estimator=LogisticRegression(C=1, class_weight=None, dual=False,\n",
       "                                             fit_intercept=True,\n",
       "                                             intercept_scaling=1, l1_ratio=None,\n",
       "                                             max_iter=100, multi_class='warn',\n",
       "                                             n_jobs=None, penalty='l1',\n",
       "                                             random_state=None, solver='warn',\n",
       "                                             tol=0.0001, verbose=0,\n",
       "                                             warm_start=False),\n",
       "                max_features=None, norm_order=1, prefit=False, threshold=None)"
      ]
     },
     "execution_count": 73,
     "metadata": {},
     "output_type": "execute_result"
    }
   ],
   "source": [
    "scaler = StandardScaler()\n",
    "scaler.fit(X_train)\n",
    "\n",
    "sel_ = SelectFromModel(LogisticRegression(C=1, penalty='l1'))\n",
    "sel_.fit(scaler.transform(X_train), Y_train)"
   ]
  },
  {
   "cell_type": "code",
   "execution_count": 74,
   "metadata": {},
   "outputs": [
    {
     "data": {
      "text/plain": [
       "array([ True,  True,  True,  True,  True,  True,  True,  True,  True,\n",
       "        True,  True])"
      ]
     },
     "execution_count": 74,
     "metadata": {},
     "output_type": "execute_result"
    }
   ],
   "source": [
    "sel_.get_support()"
   ]
  },
  {
   "cell_type": "code",
   "execution_count": 75,
   "metadata": {},
   "outputs": [
    {
     "name": "stdout",
     "output_type": "stream",
     "text": [
      "total features: 11\n",
      "selected features: 11\n",
      "features with coefficients shrank to zero: 8786\n"
     ]
    }
   ],
   "source": [
    "selected_feat = X_train.columns[(sel_.get_support())]\n",
    "\n",
    "print('total features: {}'.format((X_train.shape[1])))\n",
    "print('selected features: {}'.format(len(selected_feat)))\n",
    "print('features with coefficients shrank to zero: {}'.format(np.sum(sel_.estimator_.coef_ == 0)))"
   ]
  },
  {
   "cell_type": "code",
   "execution_count": null,
   "metadata": {},
   "outputs": [],
   "source": []
  },
  {
   "cell_type": "code",
   "execution_count": 76,
   "metadata": {},
   "outputs": [],
   "source": [
    "# #To see which features are important we can use get_support method on the fitted model.\n",
    "# sel.get_support()\n",
    "# #It will return an array of boolean values. \n",
    "# #True for the features whose importance is greater than the mean importance and False for the rest."
   ]
  },
  {
   "cell_type": "code",
   "execution_count": 77,
   "metadata": {},
   "outputs": [],
   "source": [
    "# selected_feat= X_train.columns[(sel.get_support())]\n",
    "# print(selected_feat)\n",
    "# # To get the name of the features selected"
   ]
  },
  {
   "cell_type": "code",
   "execution_count": null,
   "metadata": {},
   "outputs": [],
   "source": []
  },
  {
   "cell_type": "code",
   "execution_count": null,
   "metadata": {},
   "outputs": [],
   "source": []
  },
  {
   "cell_type": "code",
   "execution_count": null,
   "metadata": {},
   "outputs": [],
   "source": []
  },
  {
   "cell_type": "code",
   "execution_count": null,
   "metadata": {},
   "outputs": [],
   "source": []
  },
  {
   "cell_type": "code",
   "execution_count": 78,
   "metadata": {},
   "outputs": [],
   "source": [
    "# cols = X_train.columns.values\n",
    "# #rf_fi = rf_best.feature_importances_\n",
    "# dt_fi = clf_def.feature_importances_\n",
    "\n",
    "# fig, ax = plt.subplots()\n",
    "# width=0.35\n",
    "\n",
    "# #ax.bar(np.arange(len(cols)), rf_fi, width, color='r', label='RF')\n",
    "# ax.bar(np.arange(len(cols))+width, dt_fi, width, color='b', label='DT')\n",
    "\n",
    "# ax.set_xticks(np.arange(len(cols)))\n",
    "# ax.set_xticklabels(cols, rotation=45)\n",
    "# plt.title('Feature Importance from DT and RF')\n",
    "# ax.set_ylabel('Normalized Gini Importance')\n",
    "# plt.legend(loc=1)"
   ]
  }
 ],
 "metadata": {
  "kernelspec": {
   "display_name": "Python 3",
   "language": "python",
   "name": "python3"
  },
  "language_info": {
   "codemirror_mode": {
    "name": "ipython",
    "version": 3
   },
   "file_extension": ".py",
   "mimetype": "text/x-python",
   "name": "python",
   "nbconvert_exporter": "python",
   "pygments_lexer": "ipython3",
   "version": "3.7.3"
  }
 },
 "nbformat": 4,
 "nbformat_minor": 2
}
