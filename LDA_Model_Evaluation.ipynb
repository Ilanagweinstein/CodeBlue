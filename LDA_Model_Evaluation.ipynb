{
 "cells": [
  {
   "cell_type": "code",
   "execution_count": 1,
   "metadata": {},
   "outputs": [],
   "source": [
    "import os\n",
    "import numpy as np\n",
    "import pandas as pd\n",
    "import sklearn\n",
    "from sklearn.model_selection import cross_validate\n",
    "from sklearn.model_selection import train_test_split\n",
    "from sklearn.metrics import classification_report, confusion_matrix\n",
    "import matplotlib.pyplot as plt\n",
    "from sklearn.metrics import accuracy_score\n",
    "import warnings\n",
    "warnings.filterwarnings('ignore')"
   ]
  },
  {
   "cell_type": "code",
   "execution_count": 2,
   "metadata": {},
   "outputs": [],
   "source": [
    "directory = os.getcwd()\n",
    "data_all = pd.read_csv(directory + '/input_data.csv', sep=',') "
   ]
  },
  {
   "cell_type": "code",
   "execution_count": 3,
   "metadata": {
    "scrolled": true
   },
   "outputs": [
    {
     "data": {
      "text/html": [
       "<div>\n",
       "<style scoped>\n",
       "    .dataframe tbody tr th:only-of-type {\n",
       "        vertical-align: middle;\n",
       "    }\n",
       "\n",
       "    .dataframe tbody tr th {\n",
       "        vertical-align: top;\n",
       "    }\n",
       "\n",
       "    .dataframe thead th {\n",
       "        text-align: right;\n",
       "    }\n",
       "</style>\n",
       "<table border=\"1\" class=\"dataframe\">\n",
       "  <thead>\n",
       "    <tr style=\"text-align: right;\">\n",
       "      <th></th>\n",
       "      <th>INITIAL_SEVERITY_LEVEL_CODE</th>\n",
       "      <th>DISPATCH_RESPONSE_SECONDS_QY</th>\n",
       "      <th>INCIDENT_RESPONSE_SECONDS_QY</th>\n",
       "      <th>INCIDENT_TRAVEL_TM_SECONDS_QY</th>\n",
       "      <th>HELD_INDICATOR</th>\n",
       "      <th>T0</th>\n",
       "      <th>T1</th>\n",
       "      <th>T3</th>\n",
       "      <th>T4</th>\n",
       "      <th>T5</th>\n",
       "      <th>...</th>\n",
       "      <th>Month_3</th>\n",
       "      <th>Month_4</th>\n",
       "      <th>Month_5</th>\n",
       "      <th>Month_6</th>\n",
       "      <th>Month_7</th>\n",
       "      <th>Month_8</th>\n",
       "      <th>Month_9</th>\n",
       "      <th>Month_10</th>\n",
       "      <th>Month_11</th>\n",
       "      <th>Month_12</th>\n",
       "    </tr>\n",
       "  </thead>\n",
       "  <tbody>\n",
       "    <tr>\n",
       "      <th>0</th>\n",
       "      <td>5</td>\n",
       "      <td>4</td>\n",
       "      <td>740.0</td>\n",
       "      <td>736.0</td>\n",
       "      <td>0</td>\n",
       "      <td>0</td>\n",
       "      <td>0</td>\n",
       "      <td>0</td>\n",
       "      <td>0</td>\n",
       "      <td>0</td>\n",
       "      <td>...</td>\n",
       "      <td>0</td>\n",
       "      <td>0</td>\n",
       "      <td>0</td>\n",
       "      <td>0</td>\n",
       "      <td>1</td>\n",
       "      <td>0</td>\n",
       "      <td>0</td>\n",
       "      <td>0</td>\n",
       "      <td>0</td>\n",
       "      <td>0</td>\n",
       "    </tr>\n",
       "    <tr>\n",
       "      <th>1</th>\n",
       "      <td>2</td>\n",
       "      <td>24</td>\n",
       "      <td>409.0</td>\n",
       "      <td>385.0</td>\n",
       "      <td>0</td>\n",
       "      <td>0</td>\n",
       "      <td>0</td>\n",
       "      <td>0</td>\n",
       "      <td>0</td>\n",
       "      <td>0</td>\n",
       "      <td>...</td>\n",
       "      <td>0</td>\n",
       "      <td>0</td>\n",
       "      <td>0</td>\n",
       "      <td>0</td>\n",
       "      <td>0</td>\n",
       "      <td>0</td>\n",
       "      <td>0</td>\n",
       "      <td>1</td>\n",
       "      <td>0</td>\n",
       "      <td>0</td>\n",
       "    </tr>\n",
       "    <tr>\n",
       "      <th>2</th>\n",
       "      <td>5</td>\n",
       "      <td>15</td>\n",
       "      <td>596.0</td>\n",
       "      <td>581.0</td>\n",
       "      <td>0</td>\n",
       "      <td>0</td>\n",
       "      <td>0</td>\n",
       "      <td>0</td>\n",
       "      <td>0</td>\n",
       "      <td>0</td>\n",
       "      <td>...</td>\n",
       "      <td>0</td>\n",
       "      <td>0</td>\n",
       "      <td>0</td>\n",
       "      <td>0</td>\n",
       "      <td>0</td>\n",
       "      <td>1</td>\n",
       "      <td>0</td>\n",
       "      <td>0</td>\n",
       "      <td>0</td>\n",
       "      <td>0</td>\n",
       "    </tr>\n",
       "    <tr>\n",
       "      <th>3</th>\n",
       "      <td>1</td>\n",
       "      <td>29</td>\n",
       "      <td>501.0</td>\n",
       "      <td>472.0</td>\n",
       "      <td>0</td>\n",
       "      <td>0</td>\n",
       "      <td>0</td>\n",
       "      <td>0</td>\n",
       "      <td>1</td>\n",
       "      <td>0</td>\n",
       "      <td>...</td>\n",
       "      <td>0</td>\n",
       "      <td>0</td>\n",
       "      <td>0</td>\n",
       "      <td>0</td>\n",
       "      <td>0</td>\n",
       "      <td>0</td>\n",
       "      <td>0</td>\n",
       "      <td>0</td>\n",
       "      <td>0</td>\n",
       "      <td>1</td>\n",
       "    </tr>\n",
       "    <tr>\n",
       "      <th>4</th>\n",
       "      <td>3</td>\n",
       "      <td>56</td>\n",
       "      <td>264.0</td>\n",
       "      <td>208.0</td>\n",
       "      <td>0</td>\n",
       "      <td>0</td>\n",
       "      <td>0</td>\n",
       "      <td>0</td>\n",
       "      <td>1</td>\n",
       "      <td>0</td>\n",
       "      <td>...</td>\n",
       "      <td>0</td>\n",
       "      <td>0</td>\n",
       "      <td>0</td>\n",
       "      <td>0</td>\n",
       "      <td>0</td>\n",
       "      <td>0</td>\n",
       "      <td>0</td>\n",
       "      <td>1</td>\n",
       "      <td>0</td>\n",
       "      <td>0</td>\n",
       "    </tr>\n",
       "  </tbody>\n",
       "</table>\n",
       "<p>5 rows × 604 columns</p>\n",
       "</div>"
      ],
      "text/plain": [
       "   INITIAL_SEVERITY_LEVEL_CODE  DISPATCH_RESPONSE_SECONDS_QY  \\\n",
       "0                            5                             4   \n",
       "1                            2                            24   \n",
       "2                            5                            15   \n",
       "3                            1                            29   \n",
       "4                            3                            56   \n",
       "\n",
       "   INCIDENT_RESPONSE_SECONDS_QY  INCIDENT_TRAVEL_TM_SECONDS_QY  \\\n",
       "0                         740.0                          736.0   \n",
       "1                         409.0                          385.0   \n",
       "2                         596.0                          581.0   \n",
       "3                         501.0                          472.0   \n",
       "4                         264.0                          208.0   \n",
       "\n",
       "   HELD_INDICATOR  T0  T1  T3  T4  T5  ...  Month_3  Month_4  Month_5  \\\n",
       "0               0   0   0   0   0   0  ...        0        0        0   \n",
       "1               0   0   0   0   0   0  ...        0        0        0   \n",
       "2               0   0   0   0   0   0  ...        0        0        0   \n",
       "3               0   0   0   0   1   0  ...        0        0        0   \n",
       "4               0   0   0   0   1   0  ...        0        0        0   \n",
       "\n",
       "   Month_6  Month_7  Month_8  Month_9  Month_10  Month_11  Month_12  \n",
       "0        0        1        0        0         0         0         0  \n",
       "1        0        0        0        0         1         0         0  \n",
       "2        0        0        1        0         0         0         0  \n",
       "3        0        0        0        0         0         0         1  \n",
       "4        0        0        0        0         1         0         0  \n",
       "\n",
       "[5 rows x 604 columns]"
      ]
     },
     "execution_count": 3,
     "metadata": {},
     "output_type": "execute_result"
    }
   ],
   "source": [
    "#all columns\n",
    "data_all.head()"
   ]
  },
  {
   "cell_type": "markdown",
   "metadata": {},
   "source": [
    "***INCLUDING IMPORTANT FEATURES ONLY***"
   ]
  },
  {
   "cell_type": "code",
   "execution_count": 4,
   "metadata": {},
   "outputs": [],
   "source": [
    "data =data_all.drop(columns = 'DISPATCH_RESPONSE_SECONDS_QY')"
   ]
  },
  {
   "cell_type": "code",
   "execution_count": 5,
   "metadata": {},
   "outputs": [
    {
     "data": {
      "text/html": [
       "<div>\n",
       "<style scoped>\n",
       "    .dataframe tbody tr th:only-of-type {\n",
       "        vertical-align: middle;\n",
       "    }\n",
       "\n",
       "    .dataframe tbody tr th {\n",
       "        vertical-align: top;\n",
       "    }\n",
       "\n",
       "    .dataframe thead th {\n",
       "        text-align: right;\n",
       "    }\n",
       "</style>\n",
       "<table border=\"1\" class=\"dataframe\">\n",
       "  <thead>\n",
       "    <tr style=\"text-align: right;\">\n",
       "      <th></th>\n",
       "      <th>INITIAL_SEVERITY_LEVEL_CODE</th>\n",
       "      <th>INCIDENT_RESPONSE_SECONDS_QY</th>\n",
       "      <th>INCIDENT_TRAVEL_TM_SECONDS_QY</th>\n",
       "      <th>HELD_INDICATOR</th>\n",
       "      <th>T0</th>\n",
       "      <th>T1</th>\n",
       "      <th>T3</th>\n",
       "      <th>T4</th>\n",
       "      <th>T5</th>\n",
       "      <th>T6</th>\n",
       "      <th>...</th>\n",
       "      <th>Month_3</th>\n",
       "      <th>Month_4</th>\n",
       "      <th>Month_5</th>\n",
       "      <th>Month_6</th>\n",
       "      <th>Month_7</th>\n",
       "      <th>Month_8</th>\n",
       "      <th>Month_9</th>\n",
       "      <th>Month_10</th>\n",
       "      <th>Month_11</th>\n",
       "      <th>Month_12</th>\n",
       "    </tr>\n",
       "  </thead>\n",
       "  <tbody>\n",
       "    <tr>\n",
       "      <th>0</th>\n",
       "      <td>5</td>\n",
       "      <td>740.0</td>\n",
       "      <td>736.0</td>\n",
       "      <td>0</td>\n",
       "      <td>0</td>\n",
       "      <td>0</td>\n",
       "      <td>0</td>\n",
       "      <td>0</td>\n",
       "      <td>0</td>\n",
       "      <td>0</td>\n",
       "      <td>...</td>\n",
       "      <td>0</td>\n",
       "      <td>0</td>\n",
       "      <td>0</td>\n",
       "      <td>0</td>\n",
       "      <td>1</td>\n",
       "      <td>0</td>\n",
       "      <td>0</td>\n",
       "      <td>0</td>\n",
       "      <td>0</td>\n",
       "      <td>0</td>\n",
       "    </tr>\n",
       "    <tr>\n",
       "      <th>1</th>\n",
       "      <td>2</td>\n",
       "      <td>409.0</td>\n",
       "      <td>385.0</td>\n",
       "      <td>0</td>\n",
       "      <td>0</td>\n",
       "      <td>0</td>\n",
       "      <td>0</td>\n",
       "      <td>0</td>\n",
       "      <td>0</td>\n",
       "      <td>0</td>\n",
       "      <td>...</td>\n",
       "      <td>0</td>\n",
       "      <td>0</td>\n",
       "      <td>0</td>\n",
       "      <td>0</td>\n",
       "      <td>0</td>\n",
       "      <td>0</td>\n",
       "      <td>0</td>\n",
       "      <td>1</td>\n",
       "      <td>0</td>\n",
       "      <td>0</td>\n",
       "    </tr>\n",
       "    <tr>\n",
       "      <th>2</th>\n",
       "      <td>5</td>\n",
       "      <td>596.0</td>\n",
       "      <td>581.0</td>\n",
       "      <td>0</td>\n",
       "      <td>0</td>\n",
       "      <td>0</td>\n",
       "      <td>0</td>\n",
       "      <td>0</td>\n",
       "      <td>0</td>\n",
       "      <td>0</td>\n",
       "      <td>...</td>\n",
       "      <td>0</td>\n",
       "      <td>0</td>\n",
       "      <td>0</td>\n",
       "      <td>0</td>\n",
       "      <td>0</td>\n",
       "      <td>1</td>\n",
       "      <td>0</td>\n",
       "      <td>0</td>\n",
       "      <td>0</td>\n",
       "      <td>0</td>\n",
       "    </tr>\n",
       "    <tr>\n",
       "      <th>3</th>\n",
       "      <td>1</td>\n",
       "      <td>501.0</td>\n",
       "      <td>472.0</td>\n",
       "      <td>0</td>\n",
       "      <td>0</td>\n",
       "      <td>0</td>\n",
       "      <td>0</td>\n",
       "      <td>1</td>\n",
       "      <td>0</td>\n",
       "      <td>0</td>\n",
       "      <td>...</td>\n",
       "      <td>0</td>\n",
       "      <td>0</td>\n",
       "      <td>0</td>\n",
       "      <td>0</td>\n",
       "      <td>0</td>\n",
       "      <td>0</td>\n",
       "      <td>0</td>\n",
       "      <td>0</td>\n",
       "      <td>0</td>\n",
       "      <td>1</td>\n",
       "    </tr>\n",
       "    <tr>\n",
       "      <th>4</th>\n",
       "      <td>3</td>\n",
       "      <td>264.0</td>\n",
       "      <td>208.0</td>\n",
       "      <td>0</td>\n",
       "      <td>0</td>\n",
       "      <td>0</td>\n",
       "      <td>0</td>\n",
       "      <td>1</td>\n",
       "      <td>0</td>\n",
       "      <td>0</td>\n",
       "      <td>...</td>\n",
       "      <td>0</td>\n",
       "      <td>0</td>\n",
       "      <td>0</td>\n",
       "      <td>0</td>\n",
       "      <td>0</td>\n",
       "      <td>0</td>\n",
       "      <td>0</td>\n",
       "      <td>1</td>\n",
       "      <td>0</td>\n",
       "      <td>0</td>\n",
       "    </tr>\n",
       "  </tbody>\n",
       "</table>\n",
       "<p>5 rows × 603 columns</p>\n",
       "</div>"
      ],
      "text/plain": [
       "   INITIAL_SEVERITY_LEVEL_CODE  INCIDENT_RESPONSE_SECONDS_QY  \\\n",
       "0                            5                         740.0   \n",
       "1                            2                         409.0   \n",
       "2                            5                         596.0   \n",
       "3                            1                         501.0   \n",
       "4                            3                         264.0   \n",
       "\n",
       "   INCIDENT_TRAVEL_TM_SECONDS_QY  HELD_INDICATOR  T0  T1  T3  T4  T5  T6  ...  \\\n",
       "0                          736.0               0   0   0   0   0   0   0  ...   \n",
       "1                          385.0               0   0   0   0   0   0   0  ...   \n",
       "2                          581.0               0   0   0   0   0   0   0  ...   \n",
       "3                          472.0               0   0   0   0   1   0   0  ...   \n",
       "4                          208.0               0   0   0   0   1   0   0  ...   \n",
       "\n",
       "   Month_3  Month_4  Month_5  Month_6  Month_7  Month_8  Month_9  Month_10  \\\n",
       "0        0        0        0        0        1        0        0         0   \n",
       "1        0        0        0        0        0        0        0         1   \n",
       "2        0        0        0        0        0        1        0         0   \n",
       "3        0        0        0        0        0        0        0         0   \n",
       "4        0        0        0        0        0        0        0         1   \n",
       "\n",
       "   Month_11  Month_12  \n",
       "0         0         0  \n",
       "1         0         0  \n",
       "2         0         0  \n",
       "3         0         1  \n",
       "4         0         0  \n",
       "\n",
       "[5 rows x 603 columns]"
      ]
     },
     "execution_count": 5,
     "metadata": {},
     "output_type": "execute_result"
    }
   ],
   "source": [
    "#df without dispatch response seconds\n",
    "data.head()"
   ]
  },
  {
   "cell_type": "code",
   "execution_count": 6,
   "metadata": {},
   "outputs": [
    {
     "data": {
      "text/plain": [
       "(50000, 603)"
      ]
     },
     "execution_count": 6,
     "metadata": {},
     "output_type": "execute_result"
    }
   ],
   "source": [
    "data.shape"
   ]
  },
  {
   "cell_type": "markdown",
   "metadata": {},
   "source": [
    "***BINNING INCIDENT_TRAVEL_TM (DISCRETIZING)***"
   ]
  },
  {
   "cell_type": "code",
   "execution_count": 7,
   "metadata": {},
   "outputs": [
    {
     "data": {
      "text/plain": [
       "205.0"
      ]
     },
     "execution_count": 7,
     "metadata": {},
     "output_type": "execute_result"
    }
   ],
   "source": [
    "#bins; change n to change num of bins\n",
    "n = 5 \n",
    "max = 1025\n",
    "bin_width = max/n #+1 because we have n bins so n+1 endpoints\n",
    "bin_width"
   ]
  },
  {
   "cell_type": "code",
   "execution_count": 8,
   "metadata": {},
   "outputs": [
    {
     "data": {
      "text/plain": [
       "array([   0.,  205.,  410.,  615.,  820., 1025.])"
      ]
     },
     "execution_count": 8,
     "metadata": {},
     "output_type": "execute_result"
    }
   ],
   "source": [
    "#bin ranges\n",
    "bins = np.linspace(0,max,n+1)\n",
    "bins"
   ]
  },
  {
   "cell_type": "code",
   "execution_count": 9,
   "metadata": {},
   "outputs": [
    {
     "data": {
      "text/plain": [
       "[1, 2, 3, 4, 5]"
      ]
     },
     "execution_count": 9,
     "metadata": {},
     "output_type": "execute_result"
    }
   ],
   "source": [
    "#labels for bin ranges\n",
    "labels = list(range(1,n+1))\n",
    "labels"
   ]
  },
  {
   "cell_type": "code",
   "execution_count": 10,
   "metadata": {},
   "outputs": [
    {
     "data": {
      "text/html": [
       "<div>\n",
       "<style scoped>\n",
       "    .dataframe tbody tr th:only-of-type {\n",
       "        vertical-align: middle;\n",
       "    }\n",
       "\n",
       "    .dataframe tbody tr th {\n",
       "        vertical-align: top;\n",
       "    }\n",
       "\n",
       "    .dataframe thead th {\n",
       "        text-align: right;\n",
       "    }\n",
       "</style>\n",
       "<table border=\"1\" class=\"dataframe\">\n",
       "  <thead>\n",
       "    <tr style=\"text-align: right;\">\n",
       "      <th></th>\n",
       "      <th>0</th>\n",
       "      <th>start</th>\n",
       "      <th>end</th>\n",
       "    </tr>\n",
       "  </thead>\n",
       "  <tbody>\n",
       "    <tr>\n",
       "      <th>0</th>\n",
       "      <td>1</td>\n",
       "      <td>0.0</td>\n",
       "      <td>205.0</td>\n",
       "    </tr>\n",
       "    <tr>\n",
       "      <th>1</th>\n",
       "      <td>2</td>\n",
       "      <td>205.0</td>\n",
       "      <td>410.0</td>\n",
       "    </tr>\n",
       "    <tr>\n",
       "      <th>2</th>\n",
       "      <td>3</td>\n",
       "      <td>410.0</td>\n",
       "      <td>615.0</td>\n",
       "    </tr>\n",
       "    <tr>\n",
       "      <th>3</th>\n",
       "      <td>4</td>\n",
       "      <td>615.0</td>\n",
       "      <td>820.0</td>\n",
       "    </tr>\n",
       "    <tr>\n",
       "      <th>4</th>\n",
       "      <td>5</td>\n",
       "      <td>820.0</td>\n",
       "      <td>1025.0</td>\n",
       "    </tr>\n",
       "  </tbody>\n",
       "</table>\n",
       "</div>"
      ],
      "text/plain": [
       "   0  start     end\n",
       "0  1    0.0   205.0\n",
       "1  2  205.0   410.0\n",
       "2  3  410.0   615.0\n",
       "3  4  615.0   820.0\n",
       "4  5  820.0  1025.0"
      ]
     },
     "execution_count": 10,
     "metadata": {},
     "output_type": "execute_result"
    }
   ],
   "source": [
    "#df to visualize bins\n",
    "df = pd.DataFrame(data = labels)\n",
    "df['start'] = bins[:bins.shape[0]-1]\n",
    "df['end'] = bins[1:]\n",
    "df"
   ]
  },
  {
   "cell_type": "code",
   "execution_count": 11,
   "metadata": {},
   "outputs": [
    {
     "data": {
      "text/html": [
       "<div>\n",
       "<style scoped>\n",
       "    .dataframe tbody tr th:only-of-type {\n",
       "        vertical-align: middle;\n",
       "    }\n",
       "\n",
       "    .dataframe tbody tr th {\n",
       "        vertical-align: top;\n",
       "    }\n",
       "\n",
       "    .dataframe thead th {\n",
       "        text-align: right;\n",
       "    }\n",
       "</style>\n",
       "<table border=\"1\" class=\"dataframe\">\n",
       "  <thead>\n",
       "    <tr style=\"text-align: right;\">\n",
       "      <th></th>\n",
       "      <th>INITIAL_SEVERITY_LEVEL_CODE</th>\n",
       "      <th>INCIDENT_RESPONSE_SECONDS_QY</th>\n",
       "      <th>HELD_INDICATOR</th>\n",
       "      <th>T0</th>\n",
       "      <th>T1</th>\n",
       "      <th>T3</th>\n",
       "      <th>T4</th>\n",
       "      <th>T5</th>\n",
       "      <th>T6</th>\n",
       "      <th>T7</th>\n",
       "      <th>...</th>\n",
       "      <th>Month_4</th>\n",
       "      <th>Month_5</th>\n",
       "      <th>Month_6</th>\n",
       "      <th>Month_7</th>\n",
       "      <th>Month_8</th>\n",
       "      <th>Month_9</th>\n",
       "      <th>Month_10</th>\n",
       "      <th>Month_11</th>\n",
       "      <th>Month_12</th>\n",
       "      <th>INCIDENT_TRAVEL_TM_SECONDS_QY_Bin</th>\n",
       "    </tr>\n",
       "  </thead>\n",
       "  <tbody>\n",
       "    <tr>\n",
       "      <th>0</th>\n",
       "      <td>5</td>\n",
       "      <td>740.0</td>\n",
       "      <td>0</td>\n",
       "      <td>0</td>\n",
       "      <td>0</td>\n",
       "      <td>0</td>\n",
       "      <td>0</td>\n",
       "      <td>0</td>\n",
       "      <td>0</td>\n",
       "      <td>0</td>\n",
       "      <td>...</td>\n",
       "      <td>0</td>\n",
       "      <td>0</td>\n",
       "      <td>0</td>\n",
       "      <td>1</td>\n",
       "      <td>0</td>\n",
       "      <td>0</td>\n",
       "      <td>0</td>\n",
       "      <td>0</td>\n",
       "      <td>0</td>\n",
       "      <td>4</td>\n",
       "    </tr>\n",
       "    <tr>\n",
       "      <th>1</th>\n",
       "      <td>2</td>\n",
       "      <td>409.0</td>\n",
       "      <td>0</td>\n",
       "      <td>0</td>\n",
       "      <td>0</td>\n",
       "      <td>0</td>\n",
       "      <td>0</td>\n",
       "      <td>0</td>\n",
       "      <td>0</td>\n",
       "      <td>0</td>\n",
       "      <td>...</td>\n",
       "      <td>0</td>\n",
       "      <td>0</td>\n",
       "      <td>0</td>\n",
       "      <td>0</td>\n",
       "      <td>0</td>\n",
       "      <td>0</td>\n",
       "      <td>1</td>\n",
       "      <td>0</td>\n",
       "      <td>0</td>\n",
       "      <td>2</td>\n",
       "    </tr>\n",
       "    <tr>\n",
       "      <th>2</th>\n",
       "      <td>5</td>\n",
       "      <td>596.0</td>\n",
       "      <td>0</td>\n",
       "      <td>0</td>\n",
       "      <td>0</td>\n",
       "      <td>0</td>\n",
       "      <td>0</td>\n",
       "      <td>0</td>\n",
       "      <td>0</td>\n",
       "      <td>0</td>\n",
       "      <td>...</td>\n",
       "      <td>0</td>\n",
       "      <td>0</td>\n",
       "      <td>0</td>\n",
       "      <td>0</td>\n",
       "      <td>1</td>\n",
       "      <td>0</td>\n",
       "      <td>0</td>\n",
       "      <td>0</td>\n",
       "      <td>0</td>\n",
       "      <td>3</td>\n",
       "    </tr>\n",
       "    <tr>\n",
       "      <th>3</th>\n",
       "      <td>1</td>\n",
       "      <td>501.0</td>\n",
       "      <td>0</td>\n",
       "      <td>0</td>\n",
       "      <td>0</td>\n",
       "      <td>0</td>\n",
       "      <td>1</td>\n",
       "      <td>0</td>\n",
       "      <td>0</td>\n",
       "      <td>0</td>\n",
       "      <td>...</td>\n",
       "      <td>0</td>\n",
       "      <td>0</td>\n",
       "      <td>0</td>\n",
       "      <td>0</td>\n",
       "      <td>0</td>\n",
       "      <td>0</td>\n",
       "      <td>0</td>\n",
       "      <td>0</td>\n",
       "      <td>1</td>\n",
       "      <td>3</td>\n",
       "    </tr>\n",
       "    <tr>\n",
       "      <th>4</th>\n",
       "      <td>3</td>\n",
       "      <td>264.0</td>\n",
       "      <td>0</td>\n",
       "      <td>0</td>\n",
       "      <td>0</td>\n",
       "      <td>0</td>\n",
       "      <td>1</td>\n",
       "      <td>0</td>\n",
       "      <td>0</td>\n",
       "      <td>0</td>\n",
       "      <td>...</td>\n",
       "      <td>0</td>\n",
       "      <td>0</td>\n",
       "      <td>0</td>\n",
       "      <td>0</td>\n",
       "      <td>0</td>\n",
       "      <td>0</td>\n",
       "      <td>1</td>\n",
       "      <td>0</td>\n",
       "      <td>0</td>\n",
       "      <td>2</td>\n",
       "    </tr>\n",
       "  </tbody>\n",
       "</table>\n",
       "<p>5 rows × 603 columns</p>\n",
       "</div>"
      ],
      "text/plain": [
       "   INITIAL_SEVERITY_LEVEL_CODE  INCIDENT_RESPONSE_SECONDS_QY  HELD_INDICATOR  \\\n",
       "0                            5                         740.0               0   \n",
       "1                            2                         409.0               0   \n",
       "2                            5                         596.0               0   \n",
       "3                            1                         501.0               0   \n",
       "4                            3                         264.0               0   \n",
       "\n",
       "   T0  T1  T3  T4  T5  T6  T7  ...  Month_4  Month_5  Month_6  Month_7  \\\n",
       "0   0   0   0   0   0   0   0  ...        0        0        0        1   \n",
       "1   0   0   0   0   0   0   0  ...        0        0        0        0   \n",
       "2   0   0   0   0   0   0   0  ...        0        0        0        0   \n",
       "3   0   0   0   1   0   0   0  ...        0        0        0        0   \n",
       "4   0   0   0   1   0   0   0  ...        0        0        0        0   \n",
       "\n",
       "   Month_8  Month_9  Month_10  Month_11  Month_12  \\\n",
       "0        0        0         0         0         0   \n",
       "1        0        0         1         0         0   \n",
       "2        1        0         0         0         0   \n",
       "3        0        0         0         0         1   \n",
       "4        0        0         1         0         0   \n",
       "\n",
       "   INCIDENT_TRAVEL_TM_SECONDS_QY_Bin  \n",
       "0                                  4  \n",
       "1                                  2  \n",
       "2                                  3  \n",
       "3                                  3  \n",
       "4                                  2  \n",
       "\n",
       "[5 rows x 603 columns]"
      ]
     },
     "execution_count": 11,
     "metadata": {},
     "output_type": "execute_result"
    }
   ],
   "source": [
    "#coding continuous data based on bins/labels, removing continuous data cols\n",
    "data['INCIDENT_TRAVEL_TM_SECONDS_QY_Bin'] = pd.cut(data['INCIDENT_TRAVEL_TM_SECONDS_QY'],bins,labels=labels)\n",
    "data = data.drop(columns = ['INCIDENT_TRAVEL_TM_SECONDS_QY'])\n",
    "data.head()"
   ]
  },
  {
   "cell_type": "code",
   "execution_count": 12,
   "metadata": {},
   "outputs": [],
   "source": [
    "import collections\n",
    "from collections import Counter"
   ]
  },
  {
   "cell_type": "code",
   "execution_count": 13,
   "metadata": {},
   "outputs": [
    {
     "data": {
      "text/plain": [
       "Counter({4: 5700, 2: 22025, 3: 14376, 5: 2210, 1: 5689})"
      ]
     },
     "execution_count": 13,
     "metadata": {},
     "output_type": "execute_result"
    }
   ],
   "source": [
    "travel_tm = collections.Counter(data[\"INCIDENT_TRAVEL_TM_SECONDS_QY_Bin\"])\n",
    "travel_tm_count = sum(travel_tm.values())\n",
    "travel_tm"
   ]
  },
  {
   "cell_type": "code",
   "execution_count": 14,
   "metadata": {},
   "outputs": [
    {
     "data": {
      "image/png": "[encoded data removed]",
      "text/plain": [
       "<Figure size 432x288 with 1 Axes>"
      ]
     },
     "metadata": {
      "needs_background": "light"
     },
     "output_type": "display_data"
    }
   ],
   "source": [
    "#visualize count of data within each bin\n",
    "travel_tm = {k: (v*100) / travel_tm_count for k, v in travel_tm.items()} #mult by 100 to turn into percent\n",
    "plt.bar(travel_tm.keys(),travel_tm.values())\n",
    "plt.grid(axis = 'x')\n",
    "plt.xlabel(\"Travel Time (Binned)\")\n",
    "plt.ylabel(\"Frequency (%)\")\n",
    "plt.show()"
   ]
  },
  {
   "cell_type": "markdown",
   "metadata": {},
   "source": [
    "***SPLITTING TRAIN / TEST***"
   ]
  },
  {
   "cell_type": "code",
   "execution_count": 15,
   "metadata": {},
   "outputs": [],
   "source": [
    "#X is predictors, Y is value to be predicted\n",
    "X = data.drop(columns = [\"INCIDENT_TRAVEL_TM_SECONDS_QY_Bin\"])\n",
    "Y = data[\"INCIDENT_TRAVEL_TM_SECONDS_QY_Bin\"]\n",
    "\n",
    "#splitting into training and testing datasets\n",
    "X_train, X_test, Y_train, Y_test = train_test_split(X, Y, train_size=.75)"
   ]
  },
  {
   "cell_type": "code",
   "execution_count": 16,
   "metadata": {},
   "outputs": [
    {
     "data": {
      "text/html": [
       "<div>\n",
       "<style scoped>\n",
       "    .dataframe tbody tr th:only-of-type {\n",
       "        vertical-align: middle;\n",
       "    }\n",
       "\n",
       "    .dataframe tbody tr th {\n",
       "        vertical-align: top;\n",
       "    }\n",
       "\n",
       "    .dataframe thead th {\n",
       "        text-align: right;\n",
       "    }\n",
       "</style>\n",
       "<table border=\"1\" class=\"dataframe\">\n",
       "  <thead>\n",
       "    <tr style=\"text-align: right;\">\n",
       "      <th></th>\n",
       "      <th>INITIAL_SEVERITY_LEVEL_CODE</th>\n",
       "      <th>INCIDENT_RESPONSE_SECONDS_QY</th>\n",
       "      <th>HELD_INDICATOR</th>\n",
       "      <th>T0</th>\n",
       "      <th>T1</th>\n",
       "      <th>T3</th>\n",
       "      <th>T4</th>\n",
       "      <th>T5</th>\n",
       "      <th>T6</th>\n",
       "      <th>T7</th>\n",
       "      <th>...</th>\n",
       "      <th>Month_4</th>\n",
       "      <th>Month_5</th>\n",
       "      <th>Month_6</th>\n",
       "      <th>Month_7</th>\n",
       "      <th>Month_8</th>\n",
       "      <th>Month_9</th>\n",
       "      <th>Month_10</th>\n",
       "      <th>Month_11</th>\n",
       "      <th>Month_12</th>\n",
       "      <th>INCIDENT_TRAVEL_TM_SECONDS_QY_Bin</th>\n",
       "    </tr>\n",
       "  </thead>\n",
       "  <tbody>\n",
       "    <tr>\n",
       "      <th>16207</th>\n",
       "      <td>5</td>\n",
       "      <td>625.0</td>\n",
       "      <td>0</td>\n",
       "      <td>0</td>\n",
       "      <td>0</td>\n",
       "      <td>0</td>\n",
       "      <td>0</td>\n",
       "      <td>0</td>\n",
       "      <td>0</td>\n",
       "      <td>0</td>\n",
       "      <td>...</td>\n",
       "      <td>0</td>\n",
       "      <td>0</td>\n",
       "      <td>0</td>\n",
       "      <td>0</td>\n",
       "      <td>0</td>\n",
       "      <td>1</td>\n",
       "      <td>0</td>\n",
       "      <td>0</td>\n",
       "      <td>0</td>\n",
       "      <td>3</td>\n",
       "    </tr>\n",
       "    <tr>\n",
       "      <th>47394</th>\n",
       "      <td>2</td>\n",
       "      <td>166.0</td>\n",
       "      <td>0</td>\n",
       "      <td>0</td>\n",
       "      <td>0</td>\n",
       "      <td>0</td>\n",
       "      <td>0</td>\n",
       "      <td>0</td>\n",
       "      <td>0</td>\n",
       "      <td>0</td>\n",
       "      <td>...</td>\n",
       "      <td>0</td>\n",
       "      <td>1</td>\n",
       "      <td>0</td>\n",
       "      <td>0</td>\n",
       "      <td>0</td>\n",
       "      <td>0</td>\n",
       "      <td>0</td>\n",
       "      <td>0</td>\n",
       "      <td>0</td>\n",
       "      <td>1</td>\n",
       "    </tr>\n",
       "    <tr>\n",
       "      <th>9452</th>\n",
       "      <td>6</td>\n",
       "      <td>571.0</td>\n",
       "      <td>0</td>\n",
       "      <td>0</td>\n",
       "      <td>0</td>\n",
       "      <td>0</td>\n",
       "      <td>0</td>\n",
       "      <td>0</td>\n",
       "      <td>0</td>\n",
       "      <td>0</td>\n",
       "      <td>...</td>\n",
       "      <td>0</td>\n",
       "      <td>0</td>\n",
       "      <td>0</td>\n",
       "      <td>0</td>\n",
       "      <td>0</td>\n",
       "      <td>0</td>\n",
       "      <td>0</td>\n",
       "      <td>0</td>\n",
       "      <td>1</td>\n",
       "      <td>3</td>\n",
       "    </tr>\n",
       "    <tr>\n",
       "      <th>3308</th>\n",
       "      <td>6</td>\n",
       "      <td>802.0</td>\n",
       "      <td>0</td>\n",
       "      <td>0</td>\n",
       "      <td>0</td>\n",
       "      <td>0</td>\n",
       "      <td>0</td>\n",
       "      <td>0</td>\n",
       "      <td>0</td>\n",
       "      <td>0</td>\n",
       "      <td>...</td>\n",
       "      <td>0</td>\n",
       "      <td>0</td>\n",
       "      <td>0</td>\n",
       "      <td>0</td>\n",
       "      <td>0</td>\n",
       "      <td>0</td>\n",
       "      <td>0</td>\n",
       "      <td>0</td>\n",
       "      <td>1</td>\n",
       "      <td>4</td>\n",
       "    </tr>\n",
       "    <tr>\n",
       "      <th>14128</th>\n",
       "      <td>5</td>\n",
       "      <td>429.0</td>\n",
       "      <td>0</td>\n",
       "      <td>1</td>\n",
       "      <td>0</td>\n",
       "      <td>0</td>\n",
       "      <td>0</td>\n",
       "      <td>0</td>\n",
       "      <td>0</td>\n",
       "      <td>0</td>\n",
       "      <td>...</td>\n",
       "      <td>0</td>\n",
       "      <td>0</td>\n",
       "      <td>0</td>\n",
       "      <td>0</td>\n",
       "      <td>0</td>\n",
       "      <td>0</td>\n",
       "      <td>0</td>\n",
       "      <td>1</td>\n",
       "      <td>0</td>\n",
       "      <td>3</td>\n",
       "    </tr>\n",
       "  </tbody>\n",
       "</table>\n",
       "<p>5 rows × 603 columns</p>\n",
       "</div>"
      ],
      "text/plain": [
       "       INITIAL_SEVERITY_LEVEL_CODE  INCIDENT_RESPONSE_SECONDS_QY  \\\n",
       "16207                            5                         625.0   \n",
       "47394                            2                         166.0   \n",
       "9452                             6                         571.0   \n",
       "3308                             6                         802.0   \n",
       "14128                            5                         429.0   \n",
       "\n",
       "       HELD_INDICATOR  T0  T1  T3  T4  T5  T6  T7  ...  Month_4  Month_5  \\\n",
       "16207               0   0   0   0   0   0   0   0  ...        0        0   \n",
       "47394               0   0   0   0   0   0   0   0  ...        0        1   \n",
       "9452                0   0   0   0   0   0   0   0  ...        0        0   \n",
       "3308                0   0   0   0   0   0   0   0  ...        0        0   \n",
       "14128               0   1   0   0   0   0   0   0  ...        0        0   \n",
       "\n",
       "       Month_6  Month_7  Month_8  Month_9  Month_10  Month_11  Month_12  \\\n",
       "16207        0        0        0        1         0         0         0   \n",
       "47394        0        0        0        0         0         0         0   \n",
       "9452         0        0        0        0         0         0         1   \n",
       "3308         0        0        0        0         0         0         1   \n",
       "14128        0        0        0        0         0         1         0   \n",
       "\n",
       "       INCIDENT_TRAVEL_TM_SECONDS_QY_Bin  \n",
       "16207                                  3  \n",
       "47394                                  1  \n",
       "9452                                   3  \n",
       "3308                                   4  \n",
       "14128                                  3  \n",
       "\n",
       "[5 rows x 603 columns]"
      ]
     },
     "execution_count": 16,
     "metadata": {},
     "output_type": "execute_result"
    }
   ],
   "source": [
    "df_train = pd.concat([X_train,Y_train],axis = 1)\n",
    "df_train.head()"
   ]
  },
  {
   "cell_type": "code",
   "execution_count": 17,
   "metadata": {},
   "outputs": [
    {
     "data": {
      "text/plain": [
       "(37500, 603)"
      ]
     },
     "execution_count": 17,
     "metadata": {},
     "output_type": "execute_result"
    }
   ],
   "source": [
    "df_train.shape"
   ]
  },
  {
   "cell_type": "markdown",
   "metadata": {},
   "source": [
    "***LINEAR DISCRIMINANT ANALYSIS***"
   ]
  },
  {
   "cell_type": "code",
   "execution_count": 18,
   "metadata": {},
   "outputs": [],
   "source": [
    "from sklearn.discriminant_analysis import LinearDiscriminantAnalysis"
   ]
  },
  {
   "cell_type": "code",
   "execution_count": 19,
   "metadata": {},
   "outputs": [
    {
     "data": {
      "text/plain": [
       "LinearDiscriminantAnalysis(n_components=None, priors=None, shrinkage=None,\n",
       "                           solver='svd', store_covariance=False, tol=0.0001)"
      ]
     },
     "execution_count": 19,
     "metadata": {},
     "output_type": "execute_result"
    }
   ],
   "source": [
    "#default parameters, shrinkage does not apply to SVD\n",
    "lda = LinearDiscriminantAnalysis()\n",
    "lda.fit(X_train,Y_train)"
   ]
  },
  {
   "cell_type": "code",
   "execution_count": 20,
   "metadata": {},
   "outputs": [
    {
     "data": {
      "text/plain": [
       "0.94472"
      ]
     },
     "execution_count": 20,
     "metadata": {},
     "output_type": "execute_result"
    }
   ],
   "source": [
    "lda.score(X_train,Y_train)"
   ]
  },
  {
   "cell_type": "code",
   "execution_count": 21,
   "metadata": {},
   "outputs": [
    {
     "data": {
      "text/plain": [
       "0.93712"
      ]
     },
     "execution_count": 21,
     "metadata": {},
     "output_type": "execute_result"
    }
   ],
   "source": [
    "lda.score(X_test,Y_test)"
   ]
  },
  {
   "cell_type": "code",
   "execution_count": 22,
   "metadata": {},
   "outputs": [
    {
     "data": {
      "text/plain": [
       "array([2, 3, 3, ..., 2, 2, 1])"
      ]
     },
     "execution_count": 22,
     "metadata": {},
     "output_type": "execute_result"
    }
   ],
   "source": [
    "Y_lda_predict = lda.predict(X_test)\n",
    "Y_lda_predict"
   ]
  },
  {
   "cell_type": "code",
   "execution_count": 23,
   "metadata": {},
   "outputs": [
    {
     "name": "stdout",
     "output_type": "stream",
     "text": [
      "=== Classification Report ===\n",
      "              precision    recall  f1-score   support\n",
      "\n",
      "           1       0.93      0.90      0.91      1436\n",
      "           2       0.94      0.95      0.95      5557\n",
      "           3       0.93      0.93      0.93      3529\n",
      "           4       0.93      0.92      0.93      1411\n",
      "           5       0.96      0.94      0.95       567\n",
      "\n",
      "    accuracy                           0.94     12500\n",
      "   macro avg       0.94      0.93      0.93     12500\n",
      "weighted avg       0.94      0.94      0.94     12500\n",
      "\n"
     ]
    }
   ],
   "source": [
    "print(\"=== Classification Report ===\")\n",
    "print(classification_report(Y_test, Y_lda_predict))"
   ]
  },
  {
   "cell_type": "code",
   "execution_count": 24,
   "metadata": {},
   "outputs": [
    {
     "name": "stdout",
     "output_type": "stream",
     "text": [
      "=== Confusion Matrix ===\n",
      "[[1294  142    0    0    0]\n",
      " [ 103 5305  149    0    0]\n",
      " [   0  182 3288   59    0]\n",
      " [   0    0   90 1296   25]\n",
      " [   0    0    0   36  531]]\n"
     ]
    }
   ],
   "source": [
    "print(\"=== Confusion Matrix ===\")\n",
    "print(confusion_matrix(Y_test, Y_lda_predict))"
   ]
  },
  {
   "cell_type": "markdown",
   "metadata": {},
   "source": [
    "***HYPERPARAMETER TUNING***"
   ]
  },
  {
   "cell_type": "markdown",
   "metadata": {},
   "source": [
    "**Solver:** SVD (default), least squares\n",
    "\n",
    "**Shrinkage:** none (default), 'auto' (only lsqr), float between 0 and 1\n",
    "\n",
    "**tol:** threshold used to rank estimation in SVD solver"
   ]
  },
  {
   "cell_type": "markdown",
   "metadata": {},
   "source": [
    "**SVD**"
   ]
  },
  {
   "cell_type": "code",
   "execution_count": 25,
   "metadata": {},
   "outputs": [],
   "source": [
    "#run cross-validation on SVD model with different tol values for optimization\n",
    "#run with 5 bins, 50k samples\n",
    "from sklearn.model_selection import KFold\n",
    "\n",
    "\n",
    "def lda(dataset, label_name, k, tols):\n",
    "    # Code here\n",
    "    cv = KFold(n_splits = k)\n",
    "    scores = {}\n",
    "\n",
    "    for train_index, test_index in cv.split(dataset):\n",
    "        cv_train = dataset.iloc[train_index]\n",
    "        cv_validate = dataset.iloc[test_index]\n",
    "    \n",
    "        for tol in tols:\n",
    "            lda = LinearDiscriminantAnalysis(tol = tol)\n",
    "            lda.fit(cv_train.drop([label_name], 1),cv_train[label_name])\n",
    "            score = lda.score(cv_validate.drop([label_name],1),cv_validate[label_name])\n",
    "\n",
    "            if tol in scores:\n",
    "                scores[tol].append(score)\n",
    "            else:\n",
    "                scores[tol] = [score]\n",
    "    \n",
    "\n",
    "    return scores"
   ]
  },
  {
   "cell_type": "code",
   "execution_count": 26,
   "metadata": {},
   "outputs": [
    {
     "data": {
      "text/plain": [
       "[1e-05, 0.0001, 0.001, 0.01, 0.1, 0.5, 0.75, 1]"
      ]
     },
     "execution_count": 26,
     "metadata": {},
     "output_type": "execute_result"
    }
   ],
   "source": [
    "#default 1e-4\n",
    "tols = [1e-05, 0.0001, 0.001, 0.01, 0.1, 0.5, 0.75, 1]\n",
    "tols"
   ]
  },
  {
   "cell_type": "code",
   "execution_count": 27,
   "metadata": {},
   "outputs": [],
   "source": [
    "#breaks at 10\n",
    "scores = lda(df_train,'INCIDENT_TRAVEL_TM_SECONDS_QY_Bin',5,tols)"
   ]
  },
  {
   "cell_type": "code",
   "execution_count": 28,
   "metadata": {},
   "outputs": [
    {
     "data": {
      "text/plain": [
       "{1e-05: [0.9316,\n",
       "  0.9362666666666667,\n",
       "  0.9269333333333334,\n",
       "  0.9304,\n",
       "  0.9281333333333334],\n",
       " 0.0001: [0.9316,\n",
       "  0.9362666666666667,\n",
       "  0.9269333333333334,\n",
       "  0.9304,\n",
       "  0.9281333333333334],\n",
       " 0.001: [0.9316,\n",
       "  0.9362666666666667,\n",
       "  0.9269333333333334,\n",
       "  0.9304,\n",
       "  0.9281333333333334],\n",
       " 0.01: [0.9316, 0.9364, 0.9269333333333334, 0.9304, 0.9284],\n",
       " 0.1: [0.9428, 0.9437333333333333, 0.9366666666666666, 0.9376, 0.9384],\n",
       " 0.5: [0.9436,\n",
       "  0.9434666666666667,\n",
       "  0.9388,\n",
       "  0.9386666666666666,\n",
       "  0.9406666666666667],\n",
       " 0.75: [0.9450666666666667,\n",
       "  0.9453333333333334,\n",
       "  0.94,\n",
       "  0.9404,\n",
       "  0.9402666666666667],\n",
       " 1: [0.4341333333333333,\n",
       "  0.4396,\n",
       "  0.436,\n",
       "  0.4338666666666667,\n",
       "  0.45213333333333333]}"
      ]
     },
     "execution_count": 28,
     "metadata": {},
     "output_type": "execute_result"
    }
   ],
   "source": [
    "#tol 0.75 produces best results\n",
    "scores"
   ]
  },
  {
   "cell_type": "code",
   "execution_count": 29,
   "metadata": {},
   "outputs": [
    {
     "data": {
      "text/plain": [
       "{1e-05: 0.9306666666666666,\n",
       " 0.0001: 0.9306666666666666,\n",
       " 0.001: 0.9306666666666666,\n",
       " 0.01: 0.9307466666666666,\n",
       " 0.1: 0.9398399999999999,\n",
       " 0.5: 0.9410400000000001,\n",
       " 0.75: 0.9422133333333333,\n",
       " 1: 0.43914666666666663}"
      ]
     },
     "execution_count": 29,
     "metadata": {},
     "output_type": "execute_result"
    }
   ],
   "source": [
    "avg_tol ={}\n",
    "for k, v in scores.items():\n",
    "    avg_tol[k] = sum(v)/float(len(v))\n",
    "    \n",
    "avg_tol"
   ]
  },
  {
   "cell_type": "code",
   "execution_count": 30,
   "metadata": {},
   "outputs": [],
   "source": [
    "lists = sorted(avg_tol.items())\n",
    "x,y = zip(*lists)"
   ]
  },
  {
   "cell_type": "code",
   "execution_count": 31,
   "metadata": {},
   "outputs": [
    {
     "data": {
      "image/png": "[encoded data removed]",
      "text/plain": [
       "<Figure size 432x288 with 1 Axes>"
      ]
     },
     "metadata": {
      "needs_background": "light"
     },
     "output_type": "display_data"
    }
   ],
   "source": [
    "plt.plot(x,y)\n",
    "plt.xlabel(\"Tol \")\n",
    "plt.ylabel(\"Accuracy\")\n",
    "plt.title(\"Tol (SVD solver) vs Accuracy\")\n",
    "plt.show()"
   ]
  },
  {
   "cell_type": "code",
   "execution_count": 41,
   "metadata": {},
   "outputs": [],
   "source": [
    "#run SVD with optimized tol # on all bin sizes\n",
    "lda_svd = []\n",
    "num_bins = [5, 12, 25, 41]\n",
    "\n",
    "for n in num_bins:\n",
    "    \n",
    "    max = 1025\n",
    "    bin_width = max/n\n",
    "\n",
    "    bins = np.linspace(0,max,n+1)\n",
    "    labels = list(range(1,n+1))\n",
    "    \n",
    "    data =data_all.drop(columns = 'DISPATCH_RESPONSE_SECONDS_QY')\n",
    "    data['INCIDENT_TRAVEL_TM_SECONDS_QY_Bin'] = pd.cut(data['INCIDENT_TRAVEL_TM_SECONDS_QY'],bins,labels=labels)\n",
    "    data = data.drop(columns = ['INCIDENT_TRAVEL_TM_SECONDS_QY'])\n",
    "    \n",
    "    ##REPLACE STRING DEFINING MODEL BELOW##\n",
    "\n",
    "\n",
    "    X = data.drop(columns = [\"INCIDENT_TRAVEL_TM_SECONDS_QY_Bin\"])\n",
    "    Y = data[\"INCIDENT_TRAVEL_TM_SECONDS_QY_Bin\"]\n",
    "\n",
    "    X_train, X_test, Y_train, Y_test = train_test_split(X, Y, train_size=.75)\n",
    "\n",
    "    ## REPLACE MODEL below ##\n",
    "\n",
    "    lda = LinearDiscriminantAnalysis(tol = 0.75)\n",
    "    lda.fit(X_train,Y_train)\n",
    "\n",
    "    score = lda.score(X_test,Y_test)\n",
    "\n",
    "    ## REPLACE MODEL above ##\n",
    "\n",
    "    lda_svd.append(score)"
   ]
  },
  {
   "cell_type": "code",
   "execution_count": 42,
   "metadata": {},
   "outputs": [
    {
     "data": {
      "text/plain": [
       "[0.94376, 0.86784, 0.73632, 0.5996]"
      ]
     },
     "execution_count": 42,
     "metadata": {},
     "output_type": "execute_result"
    }
   ],
   "source": [
    "lda_svd"
   ]
  },
  {
   "cell_type": "markdown",
   "metadata": {},
   "source": [
    "**LSQR**"
   ]
  },
  {
   "cell_type": "code",
   "execution_count": 39,
   "metadata": {},
   "outputs": [],
   "source": [
    "#run lsqr with NO shrinkage on all bin sizes\n",
    "lda_lsqr = []\n",
    "num_bins = [5, 12, 25, 41]\n",
    "\n",
    "for n in num_bins:\n",
    "    \n",
    "    max = 1025\n",
    "    bin_width = max/n\n",
    "\n",
    "    bins = np.linspace(0,max,n+1)\n",
    "    labels = list(range(1,n+1))\n",
    "    \n",
    "    data =data_all.drop(columns = 'DISPATCH_RESPONSE_SECONDS_QY')\n",
    "    data['INCIDENT_TRAVEL_TM_SECONDS_QY_Bin'] = pd.cut(data['INCIDENT_TRAVEL_TM_SECONDS_QY'],bins,labels=labels)\n",
    "    data = data.drop(columns = ['INCIDENT_TRAVEL_TM_SECONDS_QY'])\n",
    "    \n",
    "    ##REPLACE STRING DEFINING MODEL BELOW##\n",
    "\n",
    "    X = data.drop(columns = [\"INCIDENT_TRAVEL_TM_SECONDS_QY_Bin\"])\n",
    "    Y = data[\"INCIDENT_TRAVEL_TM_SECONDS_QY_Bin\"]\n",
    "\n",
    "    X_train, X_test, Y_train, Y_test = train_test_split(X, Y, train_size=.75)\n",
    "\n",
    "    ## REPLACE MODEL below ##\n",
    "\n",
    "    lda = LinearDiscriminantAnalysis(solver = 'lsqr')\n",
    "    lda.fit(X_train,Y_train)\n",
    "\n",
    "    score = lda.score(X_test,Y_test)\n",
    "\n",
    "    ## REPLACE MODEL above ##\n",
    "\n",
    "    lda_lsqr.append(score)"
   ]
  },
  {
   "cell_type": "code",
   "execution_count": 40,
   "metadata": {},
   "outputs": [
    {
     "data": {
      "text/plain": [
       "[0.93416, 0.85976, 0.71264, 0.54504]"
      ]
     },
     "execution_count": 40,
     "metadata": {},
     "output_type": "execute_result"
    }
   ],
   "source": [
    "lda_lsqr"
   ]
  },
  {
   "cell_type": "code",
   "execution_count": 36,
   "metadata": {},
   "outputs": [],
   "source": [
    "#run lsqr with shrinkage on all bin sizes\n",
    "lda_lsqr_shrink = []\n",
    "num_bins = [5, 12, 25, 41]\n",
    "\n",
    "for n in num_bins:\n",
    "    \n",
    "    max = 1025\n",
    "    bin_width = max/n\n",
    "\n",
    "    bins = np.linspace(0,max,n+1)\n",
    "    labels = list(range(1,n+1))\n",
    "    \n",
    "    data =data_all.drop(columns = 'DISPATCH_RESPONSE_SECONDS_QY')\n",
    "    data['INCIDENT_TRAVEL_TM_SECONDS_QY_Bin'] = pd.cut(data['INCIDENT_TRAVEL_TM_SECONDS_QY'],bins,labels=labels)\n",
    "    data = data.drop(columns = ['INCIDENT_TRAVEL_TM_SECONDS_QY'])\n",
    "    \n",
    "    ##REPLACE STRING DEFINING MODEL BELOW##\n",
    "    \n",
    "\n",
    "    X = data.drop(columns = [\"INCIDENT_TRAVEL_TM_SECONDS_QY_Bin\"])\n",
    "    Y = data[\"INCIDENT_TRAVEL_TM_SECONDS_QY_Bin\"]\n",
    "\n",
    "    X_train, X_test, Y_train, Y_test = train_test_split(X, Y, train_size=.75)\n",
    "\n",
    "    ## REPLACE MODEL below ##\n",
    "\n",
    "    lda = LinearDiscriminantAnalysis(solver = 'lsqr', shrinkage = 'auto')\n",
    "    lda.fit(X_train,Y_train)\n",
    "\n",
    "    score = lda.score(X_test,Y_test)\n",
    "\n",
    "    ## REPLACE MODEL above ##\n",
    "\n",
    "    lda_lsqr_shrink.append(score)"
   ]
  },
  {
   "cell_type": "code",
   "execution_count": 37,
   "metadata": {},
   "outputs": [
    {
     "data": {
      "text/plain": [
       "[0.938, 0.86752, 0.72408, 0.57736]"
      ]
     },
     "execution_count": 37,
     "metadata": {},
     "output_type": "execute_result"
    }
   ],
   "source": [
    "#with shrinkage is slightly better than without\n",
    "lda_lsqr_shrink"
   ]
  },
  {
   "cell_type": "code",
   "execution_count": 46,
   "metadata": {},
   "outputs": [],
   "source": [
    "frames = [lda_svd, lda_lsqr, lda_lsqr_shrink]"
   ]
  },
  {
   "cell_type": "code",
   "execution_count": 51,
   "metadata": {},
   "outputs": [],
   "source": [
    "solver_compare = pd.DataFrame(frames,columns = [5,12,25,41])\n",
    "solver_compare.rename(index={0:\"SVD\",1:\"LSQR\",2:\"LSQR (with shrinkage)\"}, inplace = True)"
   ]
  },
  {
   "cell_type": "code",
   "execution_count": 57,
   "metadata": {},
   "outputs": [
    {
     "data": {
      "image/png": "[encoded data removed]",
      "text/plain": [
       "<Figure size 432x288 with 1 Axes>"
      ]
     },
     "metadata": {
      "needs_background": "light"
     },
     "output_type": "display_data"
    }
   ],
   "source": [
    "#svd performs the best\n",
    "solver_compare.transpose().plot()\n",
    "plt.xlabel(\"Number of Bins\")\n",
    "plt.ylabel(\"Accuracy\")\n",
    "plt.title(\"LDA Accuracy vs. Number of Bins\")\n",
    "plt.show()"
   ]
  },
  {
   "cell_type": "markdown",
   "metadata": {},
   "source": [
    "***Sample Size vs. Score***"
   ]
  },
  {
   "cell_type": "code",
   "execution_count": 58,
   "metadata": {},
   "outputs": [],
   "source": [
    "np.random.seed(2019)"
   ]
  },
  {
   "cell_type": "code",
   "execution_count": 59,
   "metadata": {},
   "outputs": [],
   "source": [
    "directory = os.getcwd()\n",
    "data_all = pd.read_csv(directory + '/input_data.csv', sep=',')"
   ]
  },
  {
   "cell_type": "code",
   "execution_count": 60,
   "metadata": {},
   "outputs": [],
   "source": [
    "## REPLACE THIS WITH MY EXECUTED DICT AND NEW MODEL NAMES+BIN ##\n",
    "summary_dict = {\"LDA5\":[],\"LDA12\":[],\"LDA25\":[],\"LDA41\":[],}"
   ]
  },
  {
   "cell_type": "code",
   "execution_count": 61,
   "metadata": {},
   "outputs": [],
   "source": [
    "num_bins = [5, 12, 25, 41]\n",
    "samplesize = [1000, 5000, 10000, 25000, 50000]\n",
    "\n",
    "for n in num_bins:\n",
    "    \n",
    "    max = 1025\n",
    "    bin_width = max/n\n",
    "\n",
    "    bins = np.linspace(0,max,n+1)\n",
    "    labels = list(range(1,n+1))\n",
    "    \n",
    "    data =data_all.drop(columns = 'DISPATCH_RESPONSE_SECONDS_QY')\n",
    "    data['INCIDENT_TRAVEL_TM_SECONDS_QY_Bin'] = pd.cut(data['INCIDENT_TRAVEL_TM_SECONDS_QY'],bins,labels=labels)\n",
    "    data = data.drop(columns = ['INCIDENT_TRAVEL_TM_SECONDS_QY'])\n",
    "    \n",
    "    ##REPLACE STRING DEFINING MODEL BELOW##\n",
    "    row_label = 'LDA' + str(n)\n",
    "\n",
    "    for s in samplesize:\n",
    "    \n",
    "        data_sampled = data.sample(n = s)\n",
    "        \n",
    "        X = data_sampled.drop(columns = [\"INCIDENT_TRAVEL_TM_SECONDS_QY_Bin\"])\n",
    "        Y = data_sampled[\"INCIDENT_TRAVEL_TM_SECONDS_QY_Bin\"]\n",
    "\n",
    "        X_train, X_test, Y_train, Y_test = train_test_split(X, Y, train_size=.75)\n",
    "        \n",
    "        ## REPLACE MODEL below ##\n",
    "        \n",
    "        lda = LinearDiscriminantAnalysis(solver = 'svd')\n",
    "        lda.fit(X_train,Y_train)\n",
    "\n",
    "        score = lda.score(X_test,Y_test)\n",
    "                \n",
    "        ## REPLACE MODEL above ##\n",
    "        \n",
    "        summary_dict[row_label].append(score)"
   ]
  },
  {
   "cell_type": "code",
   "execution_count": 71,
   "metadata": {},
   "outputs": [
    {
     "data": {
      "text/plain": [
       "{'LDA5': [0.708, 0.8592, 0.9012, 0.91856, 0.9356],\n",
       " 'LDA12': [0.54, 0.7768, 0.8344, 0.86176, 0.86232],\n",
       " 'LDA25': [0.364, 0.5856, 0.6528, 0.69136, 0.71176],\n",
       " 'LDA41': [0.244, 0.3792, 0.4384, 0.50912, 0.5392]}"
      ]
     },
     "execution_count": 71,
     "metadata": {},
     "output_type": "execute_result"
    }
   ],
   "source": [
    "summary_dict"
   ]
  },
  {
   "cell_type": "code",
   "execution_count": 78,
   "metadata": {},
   "outputs": [
    {
     "data": {
      "text/html": [
       "<div>\n",
       "<style scoped>\n",
       "    .dataframe tbody tr th:only-of-type {\n",
       "        vertical-align: middle;\n",
       "    }\n",
       "\n",
       "    .dataframe tbody tr th {\n",
       "        vertical-align: top;\n",
       "    }\n",
       "\n",
       "    .dataframe thead th {\n",
       "        text-align: right;\n",
       "    }\n",
       "</style>\n",
       "<table border=\"1\" class=\"dataframe\">\n",
       "  <thead>\n",
       "    <tr style=\"text-align: right;\">\n",
       "      <th></th>\n",
       "      <th>1K</th>\n",
       "      <th>5K</th>\n",
       "      <th>10K</th>\n",
       "      <th>25K</th>\n",
       "      <th>50K</th>\n",
       "    </tr>\n",
       "  </thead>\n",
       "  <tbody>\n",
       "    <tr>\n",
       "      <th>LDA5</th>\n",
       "      <td>0.708</td>\n",
       "      <td>0.8592</td>\n",
       "      <td>0.9012</td>\n",
       "      <td>0.91856</td>\n",
       "      <td>0.93560</td>\n",
       "    </tr>\n",
       "    <tr>\n",
       "      <th>LDA12</th>\n",
       "      <td>0.540</td>\n",
       "      <td>0.7768</td>\n",
       "      <td>0.8344</td>\n",
       "      <td>0.86176</td>\n",
       "      <td>0.86232</td>\n",
       "    </tr>\n",
       "    <tr>\n",
       "      <th>LDA25</th>\n",
       "      <td>0.364</td>\n",
       "      <td>0.5856</td>\n",
       "      <td>0.6528</td>\n",
       "      <td>0.69136</td>\n",
       "      <td>0.71176</td>\n",
       "    </tr>\n",
       "    <tr>\n",
       "      <th>LDA41</th>\n",
       "      <td>0.244</td>\n",
       "      <td>0.3792</td>\n",
       "      <td>0.4384</td>\n",
       "      <td>0.50912</td>\n",
       "      <td>0.53920</td>\n",
       "    </tr>\n",
       "  </tbody>\n",
       "</table>\n",
       "</div>"
      ],
      "text/plain": [
       "          1K      5K     10K      25K      50K\n",
       "LDA5   0.708  0.8592  0.9012  0.91856  0.93560\n",
       "LDA12  0.540  0.7768  0.8344  0.86176  0.86232\n",
       "LDA25  0.364  0.5856  0.6528  0.69136  0.71176\n",
       "LDA41  0.244  0.3792  0.4384  0.50912  0.53920"
      ]
     },
     "execution_count": 78,
     "metadata": {},
     "output_type": "execute_result"
    }
   ],
   "source": [
    "df = pd.DataFrame.from_dict(summary_dict,orient = 'index',columns = ['1K','5K','10K','25K','50K'])\n",
    "df"
   ]
  },
  {
   "cell_type": "code",
   "execution_count": 79,
   "metadata": {},
   "outputs": [
    {
     "data": {
      "text/plain": [
       "<matplotlib.axes._subplots.AxesSubplot at 0x1a20ff77b8>"
      ]
     },
     "execution_count": 79,
     "metadata": {},
     "output_type": "execute_result"
    },
    {
     "data": {
      "image/png": "[encoded data removed]",
      "text/plain": [
       "<Figure size 432x288 with 1 Axes>"
      ]
     },
     "metadata": {
      "needs_background": "light"
     },
     "output_type": "display_data"
    }
   ],
   "source": [
    "df.transpose().plot()"
   ]
  },
  {
   "cell_type": "code",
   "execution_count": null,
   "metadata": {},
   "outputs": [],
   "source": []
  }
 ],
 "metadata": {
  "kernelspec": {
   "display_name": "Python 3",
   "language": "python",
   "name": "python3"
  },
  "language_info": {
   "codemirror_mode": {
    "name": "ipython",
    "version": 3
   },
   "file_extension": ".py",
   "mimetype": "text/x-python",
   "name": "python",
   "nbconvert_exporter": "python",
   "pygments_lexer": "ipython3",
   "version": "3.7.3"
  }
 },
 "nbformat": 4,
 "nbformat_minor": 2
}
