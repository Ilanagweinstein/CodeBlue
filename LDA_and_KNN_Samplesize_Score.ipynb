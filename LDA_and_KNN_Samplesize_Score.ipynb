{
 "cells": [
  {
   "cell_type": "code",
   "execution_count": 4,
   "metadata": {},
   "outputs": [],
   "source": [
    "import os\n",
    "import numpy as np\n",
    "import pandas as pd\n",
    "import sklearn\n",
    "from sklearn.model_selection import cross_validate\n",
    "from sklearn.model_selection import train_test_split\n",
    "from sklearn.metrics import classification_report, confusion_matrix\n",
    "import matplotlib.pyplot as plt\n",
    "from sklearn.metrics import accuracy_score\n",
    "import warnings\n",
    "warnings.filterwarnings('ignore')"
   ]
  },
  {
   "cell_type": "code",
   "execution_count": 5,
   "metadata": {},
   "outputs": [],
   "source": [
    "directory = os.getcwd()\n",
    "data_all = pd.read_csv(directory + '/input_data.csv', sep=',') "
   ]
  },
  {
   "cell_type": "code",
   "execution_count": 6,
   "metadata": {
    "scrolled": true
   },
   "outputs": [
    {
     "data": {
      "text/html": [
       "<div>\n",
       "<style scoped>\n",
       "    .dataframe tbody tr th:only-of-type {\n",
       "        vertical-align: middle;\n",
       "    }\n",
       "\n",
       "    .dataframe tbody tr th {\n",
       "        vertical-align: top;\n",
       "    }\n",
       "\n",
       "    .dataframe thead th {\n",
       "        text-align: right;\n",
       "    }\n",
       "</style>\n",
       "<table border=\"1\" class=\"dataframe\">\n",
       "  <thead>\n",
       "    <tr style=\"text-align: right;\">\n",
       "      <th></th>\n",
       "      <th>INITIAL_SEVERITY_LEVEL_CODE</th>\n",
       "      <th>DISPATCH_RESPONSE_SECONDS_QY</th>\n",
       "      <th>INCIDENT_RESPONSE_SECONDS_QY</th>\n",
       "      <th>INCIDENT_TRAVEL_TM_SECONDS_QY</th>\n",
       "      <th>HELD_INDICATOR</th>\n",
       "      <th>T0</th>\n",
       "      <th>T1</th>\n",
       "      <th>T3</th>\n",
       "      <th>T4</th>\n",
       "      <th>T5</th>\n",
       "      <th>...</th>\n",
       "      <th>Month_3</th>\n",
       "      <th>Month_4</th>\n",
       "      <th>Month_5</th>\n",
       "      <th>Month_6</th>\n",
       "      <th>Month_7</th>\n",
       "      <th>Month_8</th>\n",
       "      <th>Month_9</th>\n",
       "      <th>Month_10</th>\n",
       "      <th>Month_11</th>\n",
       "      <th>Month_12</th>\n",
       "    </tr>\n",
       "  </thead>\n",
       "  <tbody>\n",
       "    <tr>\n",
       "      <th>0</th>\n",
       "      <td>5</td>\n",
       "      <td>4</td>\n",
       "      <td>740.0</td>\n",
       "      <td>736.0</td>\n",
       "      <td>0</td>\n",
       "      <td>0</td>\n",
       "      <td>0</td>\n",
       "      <td>0</td>\n",
       "      <td>0</td>\n",
       "      <td>0</td>\n",
       "      <td>...</td>\n",
       "      <td>0</td>\n",
       "      <td>0</td>\n",
       "      <td>0</td>\n",
       "      <td>0</td>\n",
       "      <td>1</td>\n",
       "      <td>0</td>\n",
       "      <td>0</td>\n",
       "      <td>0</td>\n",
       "      <td>0</td>\n",
       "      <td>0</td>\n",
       "    </tr>\n",
       "    <tr>\n",
       "      <th>1</th>\n",
       "      <td>2</td>\n",
       "      <td>24</td>\n",
       "      <td>409.0</td>\n",
       "      <td>385.0</td>\n",
       "      <td>0</td>\n",
       "      <td>0</td>\n",
       "      <td>0</td>\n",
       "      <td>0</td>\n",
       "      <td>0</td>\n",
       "      <td>0</td>\n",
       "      <td>...</td>\n",
       "      <td>0</td>\n",
       "      <td>0</td>\n",
       "      <td>0</td>\n",
       "      <td>0</td>\n",
       "      <td>0</td>\n",
       "      <td>0</td>\n",
       "      <td>0</td>\n",
       "      <td>1</td>\n",
       "      <td>0</td>\n",
       "      <td>0</td>\n",
       "    </tr>\n",
       "    <tr>\n",
       "      <th>2</th>\n",
       "      <td>5</td>\n",
       "      <td>15</td>\n",
       "      <td>596.0</td>\n",
       "      <td>581.0</td>\n",
       "      <td>0</td>\n",
       "      <td>0</td>\n",
       "      <td>0</td>\n",
       "      <td>0</td>\n",
       "      <td>0</td>\n",
       "      <td>0</td>\n",
       "      <td>...</td>\n",
       "      <td>0</td>\n",
       "      <td>0</td>\n",
       "      <td>0</td>\n",
       "      <td>0</td>\n",
       "      <td>0</td>\n",
       "      <td>1</td>\n",
       "      <td>0</td>\n",
       "      <td>0</td>\n",
       "      <td>0</td>\n",
       "      <td>0</td>\n",
       "    </tr>\n",
       "    <tr>\n",
       "      <th>3</th>\n",
       "      <td>1</td>\n",
       "      <td>29</td>\n",
       "      <td>501.0</td>\n",
       "      <td>472.0</td>\n",
       "      <td>0</td>\n",
       "      <td>0</td>\n",
       "      <td>0</td>\n",
       "      <td>0</td>\n",
       "      <td>1</td>\n",
       "      <td>0</td>\n",
       "      <td>...</td>\n",
       "      <td>0</td>\n",
       "      <td>0</td>\n",
       "      <td>0</td>\n",
       "      <td>0</td>\n",
       "      <td>0</td>\n",
       "      <td>0</td>\n",
       "      <td>0</td>\n",
       "      <td>0</td>\n",
       "      <td>0</td>\n",
       "      <td>1</td>\n",
       "    </tr>\n",
       "    <tr>\n",
       "      <th>4</th>\n",
       "      <td>3</td>\n",
       "      <td>56</td>\n",
       "      <td>264.0</td>\n",
       "      <td>208.0</td>\n",
       "      <td>0</td>\n",
       "      <td>0</td>\n",
       "      <td>0</td>\n",
       "      <td>0</td>\n",
       "      <td>1</td>\n",
       "      <td>0</td>\n",
       "      <td>...</td>\n",
       "      <td>0</td>\n",
       "      <td>0</td>\n",
       "      <td>0</td>\n",
       "      <td>0</td>\n",
       "      <td>0</td>\n",
       "      <td>0</td>\n",
       "      <td>0</td>\n",
       "      <td>1</td>\n",
       "      <td>0</td>\n",
       "      <td>0</td>\n",
       "    </tr>\n",
       "  </tbody>\n",
       "</table>\n",
       "<p>5 rows × 604 columns</p>\n",
       "</div>"
      ],
      "text/plain": [
       "   INITIAL_SEVERITY_LEVEL_CODE  DISPATCH_RESPONSE_SECONDS_QY  \\\n",
       "0                            5                             4   \n",
       "1                            2                            24   \n",
       "2                            5                            15   \n",
       "3                            1                            29   \n",
       "4                            3                            56   \n",
       "\n",
       "   INCIDENT_RESPONSE_SECONDS_QY  INCIDENT_TRAVEL_TM_SECONDS_QY  \\\n",
       "0                         740.0                          736.0   \n",
       "1                         409.0                          385.0   \n",
       "2                         596.0                          581.0   \n",
       "3                         501.0                          472.0   \n",
       "4                         264.0                          208.0   \n",
       "\n",
       "   HELD_INDICATOR  T0  T1  T3  T4  T5  ...  Month_3  Month_4  Month_5  \\\n",
       "0               0   0   0   0   0   0  ...        0        0        0   \n",
       "1               0   0   0   0   0   0  ...        0        0        0   \n",
       "2               0   0   0   0   0   0  ...        0        0        0   \n",
       "3               0   0   0   0   1   0  ...        0        0        0   \n",
       "4               0   0   0   0   1   0  ...        0        0        0   \n",
       "\n",
       "   Month_6  Month_7  Month_8  Month_9  Month_10  Month_11  Month_12  \n",
       "0        0        1        0        0         0         0         0  \n",
       "1        0        0        0        0         1         0         0  \n",
       "2        0        0        1        0         0         0         0  \n",
       "3        0        0        0        0         0         0         1  \n",
       "4        0        0        0        0         1         0         0  \n",
       "\n",
       "[5 rows x 604 columns]"
      ]
     },
     "execution_count": 6,
     "metadata": {},
     "output_type": "execute_result"
    }
   ],
   "source": [
    "#all columns\n",
    "data_all.head()"
   ]
  },
  {
   "cell_type": "markdown",
   "metadata": {},
   "source": [
    "***INCLUDING IMPORTANT FEATURES ONLY***"
   ]
  },
  {
   "cell_type": "code",
   "execution_count": 7,
   "metadata": {},
   "outputs": [],
   "source": [
    "data =data_all.drop(columns = 'DISPATCH_RESPONSE_SECONDS_QY')"
   ]
  },
  {
   "cell_type": "code",
   "execution_count": 8,
   "metadata": {},
   "outputs": [
    {
     "data": {
      "text/html": [
       "<div>\n",
       "<style scoped>\n",
       "    .dataframe tbody tr th:only-of-type {\n",
       "        vertical-align: middle;\n",
       "    }\n",
       "\n",
       "    .dataframe tbody tr th {\n",
       "        vertical-align: top;\n",
       "    }\n",
       "\n",
       "    .dataframe thead th {\n",
       "        text-align: right;\n",
       "    }\n",
       "</style>\n",
       "<table border=\"1\" class=\"dataframe\">\n",
       "  <thead>\n",
       "    <tr style=\"text-align: right;\">\n",
       "      <th></th>\n",
       "      <th>INITIAL_SEVERITY_LEVEL_CODE</th>\n",
       "      <th>INCIDENT_RESPONSE_SECONDS_QY</th>\n",
       "      <th>INCIDENT_TRAVEL_TM_SECONDS_QY</th>\n",
       "      <th>HELD_INDICATOR</th>\n",
       "      <th>T0</th>\n",
       "      <th>T1</th>\n",
       "      <th>T3</th>\n",
       "      <th>T4</th>\n",
       "      <th>T5</th>\n",
       "      <th>T6</th>\n",
       "      <th>...</th>\n",
       "      <th>Month_3</th>\n",
       "      <th>Month_4</th>\n",
       "      <th>Month_5</th>\n",
       "      <th>Month_6</th>\n",
       "      <th>Month_7</th>\n",
       "      <th>Month_8</th>\n",
       "      <th>Month_9</th>\n",
       "      <th>Month_10</th>\n",
       "      <th>Month_11</th>\n",
       "      <th>Month_12</th>\n",
       "    </tr>\n",
       "  </thead>\n",
       "  <tbody>\n",
       "    <tr>\n",
       "      <th>0</th>\n",
       "      <td>5</td>\n",
       "      <td>740.0</td>\n",
       "      <td>736.0</td>\n",
       "      <td>0</td>\n",
       "      <td>0</td>\n",
       "      <td>0</td>\n",
       "      <td>0</td>\n",
       "      <td>0</td>\n",
       "      <td>0</td>\n",
       "      <td>0</td>\n",
       "      <td>...</td>\n",
       "      <td>0</td>\n",
       "      <td>0</td>\n",
       "      <td>0</td>\n",
       "      <td>0</td>\n",
       "      <td>1</td>\n",
       "      <td>0</td>\n",
       "      <td>0</td>\n",
       "      <td>0</td>\n",
       "      <td>0</td>\n",
       "      <td>0</td>\n",
       "    </tr>\n",
       "    <tr>\n",
       "      <th>1</th>\n",
       "      <td>2</td>\n",
       "      <td>409.0</td>\n",
       "      <td>385.0</td>\n",
       "      <td>0</td>\n",
       "      <td>0</td>\n",
       "      <td>0</td>\n",
       "      <td>0</td>\n",
       "      <td>0</td>\n",
       "      <td>0</td>\n",
       "      <td>0</td>\n",
       "      <td>...</td>\n",
       "      <td>0</td>\n",
       "      <td>0</td>\n",
       "      <td>0</td>\n",
       "      <td>0</td>\n",
       "      <td>0</td>\n",
       "      <td>0</td>\n",
       "      <td>0</td>\n",
       "      <td>1</td>\n",
       "      <td>0</td>\n",
       "      <td>0</td>\n",
       "    </tr>\n",
       "    <tr>\n",
       "      <th>2</th>\n",
       "      <td>5</td>\n",
       "      <td>596.0</td>\n",
       "      <td>581.0</td>\n",
       "      <td>0</td>\n",
       "      <td>0</td>\n",
       "      <td>0</td>\n",
       "      <td>0</td>\n",
       "      <td>0</td>\n",
       "      <td>0</td>\n",
       "      <td>0</td>\n",
       "      <td>...</td>\n",
       "      <td>0</td>\n",
       "      <td>0</td>\n",
       "      <td>0</td>\n",
       "      <td>0</td>\n",
       "      <td>0</td>\n",
       "      <td>1</td>\n",
       "      <td>0</td>\n",
       "      <td>0</td>\n",
       "      <td>0</td>\n",
       "      <td>0</td>\n",
       "    </tr>\n",
       "    <tr>\n",
       "      <th>3</th>\n",
       "      <td>1</td>\n",
       "      <td>501.0</td>\n",
       "      <td>472.0</td>\n",
       "      <td>0</td>\n",
       "      <td>0</td>\n",
       "      <td>0</td>\n",
       "      <td>0</td>\n",
       "      <td>1</td>\n",
       "      <td>0</td>\n",
       "      <td>0</td>\n",
       "      <td>...</td>\n",
       "      <td>0</td>\n",
       "      <td>0</td>\n",
       "      <td>0</td>\n",
       "      <td>0</td>\n",
       "      <td>0</td>\n",
       "      <td>0</td>\n",
       "      <td>0</td>\n",
       "      <td>0</td>\n",
       "      <td>0</td>\n",
       "      <td>1</td>\n",
       "    </tr>\n",
       "    <tr>\n",
       "      <th>4</th>\n",
       "      <td>3</td>\n",
       "      <td>264.0</td>\n",
       "      <td>208.0</td>\n",
       "      <td>0</td>\n",
       "      <td>0</td>\n",
       "      <td>0</td>\n",
       "      <td>0</td>\n",
       "      <td>1</td>\n",
       "      <td>0</td>\n",
       "      <td>0</td>\n",
       "      <td>...</td>\n",
       "      <td>0</td>\n",
       "      <td>0</td>\n",
       "      <td>0</td>\n",
       "      <td>0</td>\n",
       "      <td>0</td>\n",
       "      <td>0</td>\n",
       "      <td>0</td>\n",
       "      <td>1</td>\n",
       "      <td>0</td>\n",
       "      <td>0</td>\n",
       "    </tr>\n",
       "  </tbody>\n",
       "</table>\n",
       "<p>5 rows × 603 columns</p>\n",
       "</div>"
      ],
      "text/plain": [
       "   INITIAL_SEVERITY_LEVEL_CODE  INCIDENT_RESPONSE_SECONDS_QY  \\\n",
       "0                            5                         740.0   \n",
       "1                            2                         409.0   \n",
       "2                            5                         596.0   \n",
       "3                            1                         501.0   \n",
       "4                            3                         264.0   \n",
       "\n",
       "   INCIDENT_TRAVEL_TM_SECONDS_QY  HELD_INDICATOR  T0  T1  T3  T4  T5  T6  ...  \\\n",
       "0                          736.0               0   0   0   0   0   0   0  ...   \n",
       "1                          385.0               0   0   0   0   0   0   0  ...   \n",
       "2                          581.0               0   0   0   0   0   0   0  ...   \n",
       "3                          472.0               0   0   0   0   1   0   0  ...   \n",
       "4                          208.0               0   0   0   0   1   0   0  ...   \n",
       "\n",
       "   Month_3  Month_4  Month_5  Month_6  Month_7  Month_8  Month_9  Month_10  \\\n",
       "0        0        0        0        0        1        0        0         0   \n",
       "1        0        0        0        0        0        0        0         1   \n",
       "2        0        0        0        0        0        1        0         0   \n",
       "3        0        0        0        0        0        0        0         0   \n",
       "4        0        0        0        0        0        0        0         1   \n",
       "\n",
       "   Month_11  Month_12  \n",
       "0         0         0  \n",
       "1         0         0  \n",
       "2         0         0  \n",
       "3         0         1  \n",
       "4         0         0  \n",
       "\n",
       "[5 rows x 603 columns]"
      ]
     },
     "execution_count": 8,
     "metadata": {},
     "output_type": "execute_result"
    }
   ],
   "source": [
    "#df without dispatch response seconds\n",
    "data.head()"
   ]
  },
  {
   "cell_type": "code",
   "execution_count": 9,
   "metadata": {},
   "outputs": [
    {
     "data": {
      "text/plain": [
       "(50000, 603)"
      ]
     },
     "execution_count": 9,
     "metadata": {},
     "output_type": "execute_result"
    }
   ],
   "source": [
    "data.shape"
   ]
  },
  {
   "cell_type": "markdown",
   "metadata": {},
   "source": [
    "***BINNING INCIDENT_TRAVEL_TM (DISCRETIZING)***"
   ]
  },
  {
   "cell_type": "code",
   "execution_count": 10,
   "metadata": {},
   "outputs": [
    {
     "data": {
      "text/plain": [
       "205.0"
      ]
     },
     "execution_count": 10,
     "metadata": {},
     "output_type": "execute_result"
    }
   ],
   "source": [
    "#bins; change n to change num of bins\n",
    "n = 5 \n",
    "max = 1025\n",
    "bin_width = max/n #+1 because we have n bins so n+1 endpoints\n",
    "bin_width"
   ]
  },
  {
   "cell_type": "code",
   "execution_count": 11,
   "metadata": {},
   "outputs": [
    {
     "data": {
      "text/plain": [
       "array([   0.,  205.,  410.,  615.,  820., 1025.])"
      ]
     },
     "execution_count": 11,
     "metadata": {},
     "output_type": "execute_result"
    }
   ],
   "source": [
    "#bin ranges\n",
    "bins = np.linspace(0,max,n+1)\n",
    "bins"
   ]
  },
  {
   "cell_type": "code",
   "execution_count": 12,
   "metadata": {},
   "outputs": [
    {
     "data": {
      "text/plain": [
       "[1, 2, 3, 4, 5]"
      ]
     },
     "execution_count": 12,
     "metadata": {},
     "output_type": "execute_result"
    }
   ],
   "source": [
    "#labels for bin ranges\n",
    "labels = list(range(1,n+1))\n",
    "labels"
   ]
  },
  {
   "cell_type": "code",
   "execution_count": 13,
   "metadata": {},
   "outputs": [
    {
     "data": {
      "text/html": [
       "<div>\n",
       "<style scoped>\n",
       "    .dataframe tbody tr th:only-of-type {\n",
       "        vertical-align: middle;\n",
       "    }\n",
       "\n",
       "    .dataframe tbody tr th {\n",
       "        vertical-align: top;\n",
       "    }\n",
       "\n",
       "    .dataframe thead th {\n",
       "        text-align: right;\n",
       "    }\n",
       "</style>\n",
       "<table border=\"1\" class=\"dataframe\">\n",
       "  <thead>\n",
       "    <tr style=\"text-align: right;\">\n",
       "      <th></th>\n",
       "      <th>0</th>\n",
       "      <th>start</th>\n",
       "      <th>end</th>\n",
       "    </tr>\n",
       "  </thead>\n",
       "  <tbody>\n",
       "    <tr>\n",
       "      <th>0</th>\n",
       "      <td>1</td>\n",
       "      <td>0.0</td>\n",
       "      <td>205.0</td>\n",
       "    </tr>\n",
       "    <tr>\n",
       "      <th>1</th>\n",
       "      <td>2</td>\n",
       "      <td>205.0</td>\n",
       "      <td>410.0</td>\n",
       "    </tr>\n",
       "    <tr>\n",
       "      <th>2</th>\n",
       "      <td>3</td>\n",
       "      <td>410.0</td>\n",
       "      <td>615.0</td>\n",
       "    </tr>\n",
       "    <tr>\n",
       "      <th>3</th>\n",
       "      <td>4</td>\n",
       "      <td>615.0</td>\n",
       "      <td>820.0</td>\n",
       "    </tr>\n",
       "    <tr>\n",
       "      <th>4</th>\n",
       "      <td>5</td>\n",
       "      <td>820.0</td>\n",
       "      <td>1025.0</td>\n",
       "    </tr>\n",
       "  </tbody>\n",
       "</table>\n",
       "</div>"
      ],
      "text/plain": [
       "   0  start     end\n",
       "0  1    0.0   205.0\n",
       "1  2  205.0   410.0\n",
       "2  3  410.0   615.0\n",
       "3  4  615.0   820.0\n",
       "4  5  820.0  1025.0"
      ]
     },
     "execution_count": 13,
     "metadata": {},
     "output_type": "execute_result"
    }
   ],
   "source": [
    "#df to visualize bins\n",
    "df = pd.DataFrame(data = labels)\n",
    "df['start'] = bins[:bins.shape[0]-1]\n",
    "df['end'] = bins[1:]\n",
    "df"
   ]
  },
  {
   "cell_type": "code",
   "execution_count": 14,
   "metadata": {},
   "outputs": [
    {
     "data": {
      "text/html": [
       "<div>\n",
       "<style scoped>\n",
       "    .dataframe tbody tr th:only-of-type {\n",
       "        vertical-align: middle;\n",
       "    }\n",
       "\n",
       "    .dataframe tbody tr th {\n",
       "        vertical-align: top;\n",
       "    }\n",
       "\n",
       "    .dataframe thead th {\n",
       "        text-align: right;\n",
       "    }\n",
       "</style>\n",
       "<table border=\"1\" class=\"dataframe\">\n",
       "  <thead>\n",
       "    <tr style=\"text-align: right;\">\n",
       "      <th></th>\n",
       "      <th>INITIAL_SEVERITY_LEVEL_CODE</th>\n",
       "      <th>INCIDENT_RESPONSE_SECONDS_QY</th>\n",
       "      <th>HELD_INDICATOR</th>\n",
       "      <th>T0</th>\n",
       "      <th>T1</th>\n",
       "      <th>T3</th>\n",
       "      <th>T4</th>\n",
       "      <th>T5</th>\n",
       "      <th>T6</th>\n",
       "      <th>T7</th>\n",
       "      <th>...</th>\n",
       "      <th>Month_4</th>\n",
       "      <th>Month_5</th>\n",
       "      <th>Month_6</th>\n",
       "      <th>Month_7</th>\n",
       "      <th>Month_8</th>\n",
       "      <th>Month_9</th>\n",
       "      <th>Month_10</th>\n",
       "      <th>Month_11</th>\n",
       "      <th>Month_12</th>\n",
       "      <th>INCIDENT_TRAVEL_TM_SECONDS_QY_Bin</th>\n",
       "    </tr>\n",
       "  </thead>\n",
       "  <tbody>\n",
       "    <tr>\n",
       "      <th>0</th>\n",
       "      <td>5</td>\n",
       "      <td>740.0</td>\n",
       "      <td>0</td>\n",
       "      <td>0</td>\n",
       "      <td>0</td>\n",
       "      <td>0</td>\n",
       "      <td>0</td>\n",
       "      <td>0</td>\n",
       "      <td>0</td>\n",
       "      <td>0</td>\n",
       "      <td>...</td>\n",
       "      <td>0</td>\n",
       "      <td>0</td>\n",
       "      <td>0</td>\n",
       "      <td>1</td>\n",
       "      <td>0</td>\n",
       "      <td>0</td>\n",
       "      <td>0</td>\n",
       "      <td>0</td>\n",
       "      <td>0</td>\n",
       "      <td>4</td>\n",
       "    </tr>\n",
       "    <tr>\n",
       "      <th>1</th>\n",
       "      <td>2</td>\n",
       "      <td>409.0</td>\n",
       "      <td>0</td>\n",
       "      <td>0</td>\n",
       "      <td>0</td>\n",
       "      <td>0</td>\n",
       "      <td>0</td>\n",
       "      <td>0</td>\n",
       "      <td>0</td>\n",
       "      <td>0</td>\n",
       "      <td>...</td>\n",
       "      <td>0</td>\n",
       "      <td>0</td>\n",
       "      <td>0</td>\n",
       "      <td>0</td>\n",
       "      <td>0</td>\n",
       "      <td>0</td>\n",
       "      <td>1</td>\n",
       "      <td>0</td>\n",
       "      <td>0</td>\n",
       "      <td>2</td>\n",
       "    </tr>\n",
       "    <tr>\n",
       "      <th>2</th>\n",
       "      <td>5</td>\n",
       "      <td>596.0</td>\n",
       "      <td>0</td>\n",
       "      <td>0</td>\n",
       "      <td>0</td>\n",
       "      <td>0</td>\n",
       "      <td>0</td>\n",
       "      <td>0</td>\n",
       "      <td>0</td>\n",
       "      <td>0</td>\n",
       "      <td>...</td>\n",
       "      <td>0</td>\n",
       "      <td>0</td>\n",
       "      <td>0</td>\n",
       "      <td>0</td>\n",
       "      <td>1</td>\n",
       "      <td>0</td>\n",
       "      <td>0</td>\n",
       "      <td>0</td>\n",
       "      <td>0</td>\n",
       "      <td>3</td>\n",
       "    </tr>\n",
       "    <tr>\n",
       "      <th>3</th>\n",
       "      <td>1</td>\n",
       "      <td>501.0</td>\n",
       "      <td>0</td>\n",
       "      <td>0</td>\n",
       "      <td>0</td>\n",
       "      <td>0</td>\n",
       "      <td>1</td>\n",
       "      <td>0</td>\n",
       "      <td>0</td>\n",
       "      <td>0</td>\n",
       "      <td>...</td>\n",
       "      <td>0</td>\n",
       "      <td>0</td>\n",
       "      <td>0</td>\n",
       "      <td>0</td>\n",
       "      <td>0</td>\n",
       "      <td>0</td>\n",
       "      <td>0</td>\n",
       "      <td>0</td>\n",
       "      <td>1</td>\n",
       "      <td>3</td>\n",
       "    </tr>\n",
       "    <tr>\n",
       "      <th>4</th>\n",
       "      <td>3</td>\n",
       "      <td>264.0</td>\n",
       "      <td>0</td>\n",
       "      <td>0</td>\n",
       "      <td>0</td>\n",
       "      <td>0</td>\n",
       "      <td>1</td>\n",
       "      <td>0</td>\n",
       "      <td>0</td>\n",
       "      <td>0</td>\n",
       "      <td>...</td>\n",
       "      <td>0</td>\n",
       "      <td>0</td>\n",
       "      <td>0</td>\n",
       "      <td>0</td>\n",
       "      <td>0</td>\n",
       "      <td>0</td>\n",
       "      <td>1</td>\n",
       "      <td>0</td>\n",
       "      <td>0</td>\n",
       "      <td>2</td>\n",
       "    </tr>\n",
       "  </tbody>\n",
       "</table>\n",
       "<p>5 rows × 603 columns</p>\n",
       "</div>"
      ],
      "text/plain": [
       "   INITIAL_SEVERITY_LEVEL_CODE  INCIDENT_RESPONSE_SECONDS_QY  HELD_INDICATOR  \\\n",
       "0                            5                         740.0               0   \n",
       "1                            2                         409.0               0   \n",
       "2                            5                         596.0               0   \n",
       "3                            1                         501.0               0   \n",
       "4                            3                         264.0               0   \n",
       "\n",
       "   T0  T1  T3  T4  T5  T6  T7  ...  Month_4  Month_5  Month_6  Month_7  \\\n",
       "0   0   0   0   0   0   0   0  ...        0        0        0        1   \n",
       "1   0   0   0   0   0   0   0  ...        0        0        0        0   \n",
       "2   0   0   0   0   0   0   0  ...        0        0        0        0   \n",
       "3   0   0   0   1   0   0   0  ...        0        0        0        0   \n",
       "4   0   0   0   1   0   0   0  ...        0        0        0        0   \n",
       "\n",
       "   Month_8  Month_9  Month_10  Month_11  Month_12  \\\n",
       "0        0        0         0         0         0   \n",
       "1        0        0         1         0         0   \n",
       "2        1        0         0         0         0   \n",
       "3        0        0         0         0         1   \n",
       "4        0        0         1         0         0   \n",
       "\n",
       "   INCIDENT_TRAVEL_TM_SECONDS_QY_Bin  \n",
       "0                                  4  \n",
       "1                                  2  \n",
       "2                                  3  \n",
       "3                                  3  \n",
       "4                                  2  \n",
       "\n",
       "[5 rows x 603 columns]"
      ]
     },
     "execution_count": 14,
     "metadata": {},
     "output_type": "execute_result"
    }
   ],
   "source": [
    "#coding continuous data based on bins/labels, removing continuous data cols\n",
    "data['INCIDENT_TRAVEL_TM_SECONDS_QY_Bin'] = pd.cut(data['INCIDENT_TRAVEL_TM_SECONDS_QY'],bins,labels=labels)\n",
    "data = data.drop(columns = ['INCIDENT_TRAVEL_TM_SECONDS_QY'])\n",
    "data.head()"
   ]
  },
  {
   "cell_type": "code",
   "execution_count": 15,
   "metadata": {},
   "outputs": [],
   "source": [
    "import collections\n",
    "from collections import Counter"
   ]
  },
  {
   "cell_type": "code",
   "execution_count": 16,
   "metadata": {},
   "outputs": [
    {
     "data": {
      "text/plain": [
       "Counter({4: 5700, 2: 22025, 3: 14376, 5: 2210, 1: 5689})"
      ]
     },
     "execution_count": 16,
     "metadata": {},
     "output_type": "execute_result"
    }
   ],
   "source": [
    "travel_tm = collections.Counter(data[\"INCIDENT_TRAVEL_TM_SECONDS_QY_Bin\"])\n",
    "travel_tm_count = sum(travel_tm.values())\n",
    "travel_tm"
   ]
  },
  {
   "cell_type": "code",
   "execution_count": 17,
   "metadata": {},
   "outputs": [
    {
     "data": {
      "image/png": "[encoded data removed]",
      "text/plain": [
       "<Figure size 432x288 with 1 Axes>"
      ]
     },
     "metadata": {
      "needs_background": "light"
     },
     "output_type": "display_data"
    }
   ],
   "source": [
    "#visualize count of data within each bin\n",
    "travel_tm = {k: (v*100) / travel_tm_count for k, v in travel_tm.items()} #mult by 100 to turn into percent\n",
    "plt.bar(travel_tm.keys(),travel_tm.values())\n",
    "plt.grid(axis = 'x')\n",
    "plt.xlabel(\"Travel Time (Binned)\")\n",
    "plt.ylabel(\"Frequency (%)\")\n",
    "plt.show()"
   ]
  },
  {
   "cell_type": "markdown",
   "metadata": {},
   "source": [
    "***SPLITTING TRAIN / TEST***"
   ]
  },
  {
   "cell_type": "code",
   "execution_count": 18,
   "metadata": {},
   "outputs": [],
   "source": [
    "#X is predictors, Y is value to be predicted\n",
    "X = data.drop(columns = [\"INCIDENT_TRAVEL_TM_SECONDS_QY_Bin\"])\n",
    "Y = data[\"INCIDENT_TRAVEL_TM_SECONDS_QY_Bin\"]\n",
    "\n",
    "#splitting into training and testing datasets\n",
    "X_train, X_test, Y_train, Y_test = train_test_split(X, Y, train_size=.75)"
   ]
  },
  {
   "cell_type": "markdown",
   "metadata": {},
   "source": [
    "***LINEAR DISCRIMINANT ANALYSIS***"
   ]
  },
  {
   "cell_type": "code",
   "execution_count": 19,
   "metadata": {},
   "outputs": [],
   "source": [
    "from sklearn.discriminant_analysis import LinearDiscriminantAnalysis"
   ]
  },
  {
   "cell_type": "code",
   "execution_count": 20,
   "metadata": {},
   "outputs": [
    {
     "data": {
      "text/plain": [
       "LinearDiscriminantAnalysis(n_components=None, priors=None, shrinkage=None,\n",
       "                           solver='svd', store_covariance=False, tol=0.0001)"
      ]
     },
     "execution_count": 20,
     "metadata": {},
     "output_type": "execute_result"
    }
   ],
   "source": [
    "lda = LinearDiscriminantAnalysis()\n",
    "lda.fit(X_train,Y_train)"
   ]
  },
  {
   "cell_type": "code",
   "execution_count": 21,
   "metadata": {},
   "outputs": [
    {
     "data": {
      "text/plain": [
       "0.9445333333333333"
      ]
     },
     "execution_count": 21,
     "metadata": {},
     "output_type": "execute_result"
    }
   ],
   "source": [
    "lda.score(X_train,Y_train)"
   ]
  },
  {
   "cell_type": "code",
   "execution_count": 22,
   "metadata": {},
   "outputs": [
    {
     "data": {
      "text/plain": [
       "0.93376"
      ]
     },
     "execution_count": 22,
     "metadata": {},
     "output_type": "execute_result"
    }
   ],
   "source": [
    "lda.score(X_test,Y_test)"
   ]
  },
  {
   "cell_type": "code",
   "execution_count": 23,
   "metadata": {},
   "outputs": [
    {
     "data": {
      "text/plain": [
       "array([2, 2, 2, ..., 3, 2, 4])"
      ]
     },
     "execution_count": 23,
     "metadata": {},
     "output_type": "execute_result"
    }
   ],
   "source": [
    "Y_lda_predict = lda.predict(X_test)\n",
    "Y_lda_predict"
   ]
  },
  {
   "cell_type": "code",
   "execution_count": 24,
   "metadata": {},
   "outputs": [
    {
     "name": "stdout",
     "output_type": "stream",
     "text": [
      "=== Classification Report ===\n",
      "              precision    recall  f1-score   support\n",
      "\n",
      "           1       0.92      0.89      0.91      1428\n",
      "           2       0.94      0.96      0.95      5486\n",
      "           3       0.94      0.92      0.93      3622\n",
      "           4       0.92      0.91      0.92      1457\n",
      "           5       0.92      0.95      0.94       507\n",
      "\n",
      "    accuracy                           0.93     12500\n",
      "   macro avg       0.93      0.93      0.93     12500\n",
      "weighted avg       0.93      0.93      0.93     12500\n",
      "\n"
     ]
    }
   ],
   "source": [
    "print(\"=== Classification Report ===\")\n",
    "print(classification_report(Y_test, Y_lda_predict))"
   ]
  },
  {
   "cell_type": "code",
   "execution_count": 25,
   "metadata": {},
   "outputs": [
    {
     "name": "stdout",
     "output_type": "stream",
     "text": [
      "=== Confusion Matrix ===\n",
      "[[1270  158    0    0    0]\n",
      " [ 104 5249  133    0    0]\n",
      " [   0  200 3337   85    0]\n",
      " [   0    0   84 1333   40]\n",
      " [   0    0    0   24  483]]\n"
     ]
    }
   ],
   "source": [
    "print(\"=== Confusion Matrix ===\")\n",
    "print(confusion_matrix(Y_test, Y_lda_predict))"
   ]
  },
  {
   "cell_type": "markdown",
   "metadata": {},
   "source": [
    "***KNN***"
   ]
  },
  {
   "cell_type": "code",
   "execution_count": 26,
   "metadata": {},
   "outputs": [],
   "source": [
    "from sklearn.neighbors import KNeighborsClassifier"
   ]
  },
  {
   "cell_type": "code",
   "execution_count": 27,
   "metadata": {
    "scrolled": true
   },
   "outputs": [
    {
     "data": {
      "text/plain": [
       "KNeighborsClassifier(algorithm='auto', leaf_size=30, metric='minkowski',\n",
       "                     metric_params=None, n_jobs=None, n_neighbors=5, p=2,\n",
       "                     weights='uniform')"
      ]
     },
     "execution_count": 27,
     "metadata": {},
     "output_type": "execute_result"
    }
   ],
   "source": [
    "knn = KNeighborsClassifier()\n",
    "knn.fit(X_train, Y_train)"
   ]
  },
  {
   "cell_type": "code",
   "execution_count": 28,
   "metadata": {},
   "outputs": [
    {
     "data": {
      "text/plain": [
       "0.95704"
      ]
     },
     "execution_count": 28,
     "metadata": {},
     "output_type": "execute_result"
    }
   ],
   "source": [
    "knn.score(X_train, Y_train)"
   ]
  },
  {
   "cell_type": "code",
   "execution_count": 29,
   "metadata": {},
   "outputs": [
    {
     "data": {
      "text/plain": [
       "0.9432"
      ]
     },
     "execution_count": 29,
     "metadata": {},
     "output_type": "execute_result"
    }
   ],
   "source": [
    "knn.score(X_test, Y_test)"
   ]
  },
  {
   "cell_type": "code",
   "execution_count": 30,
   "metadata": {},
   "outputs": [
    {
     "data": {
      "text/plain": [
       "array([2, 2, 2, ..., 3, 2, 4])"
      ]
     },
     "execution_count": 30,
     "metadata": {},
     "output_type": "execute_result"
    }
   ],
   "source": [
    "Y_knn_predict = knn.predict(X_test)\n",
    "Y_knn_predict"
   ]
  },
  {
   "cell_type": "code",
   "execution_count": 31,
   "metadata": {},
   "outputs": [
    {
     "name": "stdout",
     "output_type": "stream",
     "text": [
      "=== Classification Report ===\n",
      "              precision    recall  f1-score   support\n",
      "\n",
      "           1       0.94      0.90      0.92      1428\n",
      "           2       0.95      0.96      0.95      5486\n",
      "           3       0.94      0.94      0.94      3622\n",
      "           4       0.93      0.93      0.93      1457\n",
      "           5       0.92      0.96      0.94       507\n",
      "\n",
      "    accuracy                           0.94     12500\n",
      "   macro avg       0.94      0.94      0.94     12500\n",
      "weighted avg       0.94      0.94      0.94     12500\n",
      "\n"
     ]
    }
   ],
   "source": [
    "print(\"=== Classification Report ===\")\n",
    "print(classification_report(Y_test, Y_knn_predict))"
   ]
  },
  {
   "cell_type": "code",
   "execution_count": 32,
   "metadata": {},
   "outputs": [
    {
     "name": "stdout",
     "output_type": "stream",
     "text": [
      "=== Confusion Matrix ===\n",
      "[[1288  140    0    0    0]\n",
      " [  78 5240  168    0    0]\n",
      " [   0  111 3422   89    0]\n",
      " [   0    0   64 1353   40]\n",
      " [   0    0    0   20  487]]\n"
     ]
    }
   ],
   "source": [
    "print(\"=== Confusion Matrix ===\")\n",
    "print(confusion_matrix(Y_test, Y_knn_predict))"
   ]
  },
  {
   "cell_type": "markdown",
   "metadata": {},
   "source": [
    "***Result Comparison***"
   ]
  },
  {
   "cell_type": "code",
   "execution_count": 33,
   "metadata": {},
   "outputs": [
    {
     "data": {
      "text/html": [
       "<div>\n",
       "<style scoped>\n",
       "    .dataframe tbody tr th:only-of-type {\n",
       "        vertical-align: middle;\n",
       "    }\n",
       "\n",
       "    .dataframe tbody tr th {\n",
       "        vertical-align: top;\n",
       "    }\n",
       "\n",
       "    .dataframe thead th {\n",
       "        text-align: right;\n",
       "    }\n",
       "</style>\n",
       "<table border=\"1\" class=\"dataframe\">\n",
       "  <thead>\n",
       "    <tr style=\"text-align: right;\">\n",
       "      <th></th>\n",
       "      <th>INCIDENT_TRAVEL_TM_SECONDS_QY_Bin</th>\n",
       "      <th>LDA</th>\n",
       "      <th>KNN</th>\n",
       "    </tr>\n",
       "  </thead>\n",
       "  <tbody>\n",
       "    <tr>\n",
       "      <th>18860</th>\n",
       "      <td>2</td>\n",
       "      <td>2</td>\n",
       "      <td>2</td>\n",
       "    </tr>\n",
       "    <tr>\n",
       "      <th>14595</th>\n",
       "      <td>2</td>\n",
       "      <td>2</td>\n",
       "      <td>2</td>\n",
       "    </tr>\n",
       "    <tr>\n",
       "      <th>16065</th>\n",
       "      <td>2</td>\n",
       "      <td>2</td>\n",
       "      <td>2</td>\n",
       "    </tr>\n",
       "    <tr>\n",
       "      <th>38582</th>\n",
       "      <td>3</td>\n",
       "      <td>3</td>\n",
       "      <td>3</td>\n",
       "    </tr>\n",
       "    <tr>\n",
       "      <th>39690</th>\n",
       "      <td>3</td>\n",
       "      <td>3</td>\n",
       "      <td>3</td>\n",
       "    </tr>\n",
       "  </tbody>\n",
       "</table>\n",
       "</div>"
      ],
      "text/plain": [
       "      INCIDENT_TRAVEL_TM_SECONDS_QY_Bin  LDA  KNN\n",
       "18860                                 2    2    2\n",
       "14595                                 2    2    2\n",
       "16065                                 2    2    2\n",
       "38582                                 3    3    3\n",
       "39690                                 3    3    3"
      ]
     },
     "execution_count": 33,
     "metadata": {},
     "output_type": "execute_result"
    }
   ],
   "source": [
    "result = pd.DataFrame(data =Y_test)\n",
    "result['LDA'] = Y_lda_predict\n",
    "result['KNN'] = Y_knn_predict\n",
    "result.head()"
   ]
  },
  {
   "cell_type": "markdown",
   "metadata": {},
   "source": [
    "error rate, lift"
   ]
  },
  {
   "cell_type": "markdown",
   "metadata": {},
   "source": [
    "***Sample Size vs. Score***"
   ]
  },
  {
   "cell_type": "code",
   "execution_count": 34,
   "metadata": {},
   "outputs": [],
   "source": [
    "import random\n",
    "import numpy as np\n",
    "import pandas as pd \n",
    "from sklearn import linear_model\n",
    "from sklearn.svm import SVC\n",
    "#IMPORT YOUR PACKAGES\n",
    "\n",
    "np.random.seed(2019)"
   ]
  },
  {
   "cell_type": "code",
   "execution_count": 35,
   "metadata": {},
   "outputs": [],
   "source": [
    "directory = os.getcwd()\n",
    "data_all = pd.read_csv(directory + '/input_data.csv', sep=',')"
   ]
  },
  {
   "cell_type": "code",
   "execution_count": 40,
   "metadata": {},
   "outputs": [],
   "source": [
    "## REPLACE THIS WITH MY EXECUTED DICT AND NEW MODEL NAMES+BIN ##\n",
    "summary_dict = {\"LDA5\":[],\"LDA12\":[],\"LDA25\":[],\"LDA41\":[],\"KNN5\":[],\"KNN12\":[],\"KNN25\":[],\"KNN41\":[],}"
   ]
  },
  {
   "cell_type": "code",
   "execution_count": 41,
   "metadata": {},
   "outputs": [],
   "source": [
    "num_bins = [5, 12, 25, 41]\n",
    "samplesize = [1000, 5000, 10000, 25000, 50000]\n",
    "\n",
    "for n in num_bins:\n",
    "    \n",
    "    max = 1025\n",
    "    bin_width = max/n\n",
    "\n",
    "    bins = np.linspace(0,max,n+1)\n",
    "    labels = list(range(1,n+1))\n",
    "    \n",
    "    data =data_all.drop(columns = 'DISPATCH_RESPONSE_SECONDS_QY')\n",
    "    data['INCIDENT_TRAVEL_TM_SECONDS_QY_Bin'] = pd.cut(data['INCIDENT_TRAVEL_TM_SECONDS_QY'],bins,labels=labels)\n",
    "    data = data.drop(columns = ['INCIDENT_TRAVEL_TM_SECONDS_QY'])\n",
    "    \n",
    "    ##REPLACE STRING DEFINING MODEL BELOW##\n",
    "    row_label = 'LDA' + str(n)\n",
    "\n",
    "    for s in samplesize:\n",
    "    \n",
    "        data_sampled = data.sample(n = s)\n",
    "        \n",
    "        X = data_sampled.drop(columns = [\"INCIDENT_TRAVEL_TM_SECONDS_QY_Bin\"])\n",
    "        Y = data_sampled[\"INCIDENT_TRAVEL_TM_SECONDS_QY_Bin\"]\n",
    "\n",
    "        X_train, X_test, Y_train, Y_test = train_test_split(X, Y, train_size=.75)\n",
    "        \n",
    "        ## REPLACE MODEL below ##\n",
    "        \n",
    "        lda = LinearDiscriminantAnalysis()\n",
    "        lda.fit(X_train,Y_train)\n",
    "\n",
    "        score = lda.score(X_test,Y_test)\n",
    "                \n",
    "        ## REPLACE MODEL above ##\n",
    "        \n",
    "        summary_dict[row_label].append(score)"
   ]
  },
  {
   "cell_type": "code",
   "execution_count": 43,
   "metadata": {},
   "outputs": [],
   "source": [
    "num_bins = [5, 12, 25, 41]\n",
    "samplesize = [1000, 5000, 10000, 25000, 50000]\n",
    "\n",
    "for n in num_bins:\n",
    "    \n",
    "    max = 1025\n",
    "    bin_width = max/n\n",
    "\n",
    "    bins = np.linspace(0,max,n+1)\n",
    "    labels = list(range(1,n+1))\n",
    "    \n",
    "    data =data_all.drop(columns = 'DISPATCH_RESPONSE_SECONDS_QY')\n",
    "    data['INCIDENT_TRAVEL_TM_SECONDS_QY_Bin'] = pd.cut(data['INCIDENT_TRAVEL_TM_SECONDS_QY'],bins,labels=labels)\n",
    "    data = data.drop(columns = ['INCIDENT_TRAVEL_TM_SECONDS_QY'])\n",
    "    \n",
    "    ##REPLACE STRING DEFINING MODEL BELOW##\n",
    "    row_label = 'KNN' + str(n)\n",
    "\n",
    "    for s in samplesize:\n",
    "    \n",
    "        data_sampled = data.sample(n = s)\n",
    "        \n",
    "        X = data_sampled.drop(columns = [\"INCIDENT_TRAVEL_TM_SECONDS_QY_Bin\"])\n",
    "        Y = data_sampled[\"INCIDENT_TRAVEL_TM_SECONDS_QY_Bin\"]\n",
    "\n",
    "        X_train, X_test, Y_train, Y_test = train_test_split(X, Y, train_size=.75)\n",
    "        \n",
    "        ## REPLACE MODEL below ##\n",
    "        \n",
    "        knn = KNeighborsClassifier()\n",
    "        knn.fit(X_train, Y_train)\n",
    "\n",
    "        score = knn.score(X_test,Y_test)\n",
    "                \n",
    "        ## REPLACE MODEL above ##\n",
    "        \n",
    "        summary_dict[row_label].append(score)"
   ]
  },
  {
   "cell_type": "code",
   "execution_count": 44,
   "metadata": {},
   "outputs": [
    {
     "data": {
      "text/plain": [
       "{'LDA5': [0.764, 0.8904, 0.9028, 0.92304, 0.93296],\n",
       " 'LDA12': [0.588, 0.7976, 0.8208, 0.84768, 0.86216],\n",
       " 'LDA25': [0.368, 0.5896, 0.6412, 0.69008, 0.70872],\n",
       " 'LDA41': [0.312, 0.3792, 0.4508, 0.51968, 0.5456],\n",
       " 'KNN5': [0.96, 0.94, 0.9428, 0.94416, 0.94352],\n",
       " 'KNN12': [0.872, 0.8592, 0.8652, 0.8568, 0.86248],\n",
       " 'KNN25': [0.716, 0.7256, 0.7168, 0.71264, 0.71328],\n",
       " 'KNN41': [0.532, 0.5704, 0.5628, 0.56176, 0.56592]}"
      ]
     },
     "execution_count": 44,
     "metadata": {},
     "output_type": "execute_result"
    }
   ],
   "source": [
    "summary_dict"
   ]
  },
  {
   "cell_type": "code",
   "execution_count": 45,
   "metadata": {},
   "outputs": [
    {
     "data": {
      "text/html": [
       "<div>\n",
       "<style scoped>\n",
       "    .dataframe tbody tr th:only-of-type {\n",
       "        vertical-align: middle;\n",
       "    }\n",
       "\n",
       "    .dataframe tbody tr th {\n",
       "        vertical-align: top;\n",
       "    }\n",
       "\n",
       "    .dataframe thead th {\n",
       "        text-align: right;\n",
       "    }\n",
       "</style>\n",
       "<table border=\"1\" class=\"dataframe\">\n",
       "  <thead>\n",
       "    <tr style=\"text-align: right;\">\n",
       "      <th></th>\n",
       "      <th>1K</th>\n",
       "      <th>5K</th>\n",
       "      <th>10K</th>\n",
       "      <th>25K</th>\n",
       "      <th>50K</th>\n",
       "    </tr>\n",
       "  </thead>\n",
       "  <tbody>\n",
       "    <tr>\n",
       "      <th>LDA5</th>\n",
       "      <td>0.764</td>\n",
       "      <td>0.8904</td>\n",
       "      <td>0.9028</td>\n",
       "      <td>0.92304</td>\n",
       "      <td>0.93296</td>\n",
       "    </tr>\n",
       "    <tr>\n",
       "      <th>LDA12</th>\n",
       "      <td>0.588</td>\n",
       "      <td>0.7976</td>\n",
       "      <td>0.8208</td>\n",
       "      <td>0.84768</td>\n",
       "      <td>0.86216</td>\n",
       "    </tr>\n",
       "    <tr>\n",
       "      <th>LDA25</th>\n",
       "      <td>0.368</td>\n",
       "      <td>0.5896</td>\n",
       "      <td>0.6412</td>\n",
       "      <td>0.69008</td>\n",
       "      <td>0.70872</td>\n",
       "    </tr>\n",
       "    <tr>\n",
       "      <th>LDA41</th>\n",
       "      <td>0.312</td>\n",
       "      <td>0.3792</td>\n",
       "      <td>0.4508</td>\n",
       "      <td>0.51968</td>\n",
       "      <td>0.54560</td>\n",
       "    </tr>\n",
       "    <tr>\n",
       "      <th>KNN5</th>\n",
       "      <td>0.960</td>\n",
       "      <td>0.9400</td>\n",
       "      <td>0.9428</td>\n",
       "      <td>0.94416</td>\n",
       "      <td>0.94352</td>\n",
       "    </tr>\n",
       "    <tr>\n",
       "      <th>KNN12</th>\n",
       "      <td>0.872</td>\n",
       "      <td>0.8592</td>\n",
       "      <td>0.8652</td>\n",
       "      <td>0.85680</td>\n",
       "      <td>0.86248</td>\n",
       "    </tr>\n",
       "    <tr>\n",
       "      <th>KNN25</th>\n",
       "      <td>0.716</td>\n",
       "      <td>0.7256</td>\n",
       "      <td>0.7168</td>\n",
       "      <td>0.71264</td>\n",
       "      <td>0.71328</td>\n",
       "    </tr>\n",
       "    <tr>\n",
       "      <th>KNN41</th>\n",
       "      <td>0.532</td>\n",
       "      <td>0.5704</td>\n",
       "      <td>0.5628</td>\n",
       "      <td>0.56176</td>\n",
       "      <td>0.56592</td>\n",
       "    </tr>\n",
       "  </tbody>\n",
       "</table>\n",
       "</div>"
      ],
      "text/plain": [
       "          1K      5K     10K      25K      50K\n",
       "LDA5   0.764  0.8904  0.9028  0.92304  0.93296\n",
       "LDA12  0.588  0.7976  0.8208  0.84768  0.86216\n",
       "LDA25  0.368  0.5896  0.6412  0.69008  0.70872\n",
       "LDA41  0.312  0.3792  0.4508  0.51968  0.54560\n",
       "KNN5   0.960  0.9400  0.9428  0.94416  0.94352\n",
       "KNN12  0.872  0.8592  0.8652  0.85680  0.86248\n",
       "KNN25  0.716  0.7256  0.7168  0.71264  0.71328\n",
       "KNN41  0.532  0.5704  0.5628  0.56176  0.56592"
      ]
     },
     "execution_count": 45,
     "metadata": {},
     "output_type": "execute_result"
    }
   ],
   "source": [
    "pd.DataFrame.from_dict(summary_dict,orient = 'index',columns = ['1K','5K','10K','25K','50K'])"
   ]
  }
 ],
 "metadata": {
  "kernelspec": {
   "display_name": "Python 3",
   "language": "python",
   "name": "python3"
  },
  "language_info": {
   "codemirror_mode": {
    "name": "ipython",
    "version": 3
   },
   "file_extension": ".py",
   "mimetype": "text/x-python",
   "name": "python",
   "nbconvert_exporter": "python",
   "pygments_lexer": "ipython3",
   "version": "3.7.3"
  }
 },
 "nbformat": 4,
 "nbformat_minor": 2
}
