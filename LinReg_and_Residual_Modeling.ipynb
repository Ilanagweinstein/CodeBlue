{
 "cells": [
  {
   "cell_type": "code",
   "execution_count": 135,
   "metadata": {},
   "outputs": [],
   "source": [
    "import os\n",
    "import numpy as np\n",
    "import pandas as pd\n",
    "import sklearn\n",
    "from sklearn.model_selection import cross_validate\n",
    "from sklearn.model_selection import train_test_split\n",
    "from sklearn import linear_model\n",
    "from sklearn import metrics\n",
    "import matplotlib.pyplot as plt\n",
    "import seaborn as sns\n",
    "import statsmodels.formula.api as sm\n",
    "\n",
    "import warnings\n",
    "warnings.filterwarnings('ignore')"
   ]
  },
  {
   "cell_type": "code",
   "execution_count": 71,
   "metadata": {},
   "outputs": [],
   "source": [
    "directory = os.getcwd()\n",
    "data = pd.read_csv(directory + '/EMS_2017_2018_cat_final.csv', sep=',') "
   ]
  },
  {
   "cell_type": "code",
   "execution_count": 72,
   "metadata": {
    "scrolled": true
   },
   "outputs": [
    {
     "data": {
      "text/html": [
       "<div>\n",
       "<style scoped>\n",
       "    .dataframe tbody tr th:only-of-type {\n",
       "        vertical-align: middle;\n",
       "    }\n",
       "\n",
       "    .dataframe tbody tr th {\n",
       "        vertical-align: top;\n",
       "    }\n",
       "\n",
       "    .dataframe thead th {\n",
       "        text-align: right;\n",
       "    }\n",
       "</style>\n",
       "<table border=\"1\" class=\"dataframe\">\n",
       "  <thead>\n",
       "    <tr style=\"text-align: right;\">\n",
       "      <th></th>\n",
       "      <th>CAD_INCIDENT_ID</th>\n",
       "      <th>INCIDENT_DATETIME</th>\n",
       "      <th>INITIAL_CALL_TYPE</th>\n",
       "      <th>INITIAL_SEVERITY_LEVEL_CODE</th>\n",
       "      <th>FIRST_ASSIGNMENT_DATETIME</th>\n",
       "      <th>DISPATCH_RESPONSE_SECONDS_QY</th>\n",
       "      <th>FIRST_ACTIVATION_DATETIME</th>\n",
       "      <th>FIRST_ON_SCENE_DATETIME</th>\n",
       "      <th>INCIDENT_RESPONSE_SECONDS_QY</th>\n",
       "      <th>INCIDENT_TRAVEL_TM_SECONDS_QY</th>\n",
       "      <th>...</th>\n",
       "      <th>CONGRESSIONALDISTRICT</th>\n",
       "      <th>TRANSFER_INDICATOR</th>\n",
       "      <th>INCIDENT_Hour</th>\n",
       "      <th>INCIDENT_Month</th>\n",
       "      <th>FIRST_ASSIGNMENT_Hour</th>\n",
       "      <th>FIRST_ASSIGNMENT_Month</th>\n",
       "      <th>FIRST_ACTIVATION_Hour</th>\n",
       "      <th>FIRST_ACTIVATION_Month</th>\n",
       "      <th>FIRST_ON_SCENE_Hour</th>\n",
       "      <th>FIRST_ON_SCENE_Month</th>\n",
       "    </tr>\n",
       "  </thead>\n",
       "  <tbody>\n",
       "    <tr>\n",
       "      <th>0</th>\n",
       "      <td>183654386</td>\n",
       "      <td>2018-12-31 23:59:46</td>\n",
       "      <td>14</td>\n",
       "      <td>2</td>\n",
       "      <td>2018-12-31 23:59:54</td>\n",
       "      <td>8</td>\n",
       "      <td>2019-01-01 00:00:51</td>\n",
       "      <td>2019-01-01 00:07:27</td>\n",
       "      <td>461.0</td>\n",
       "      <td>453.0</td>\n",
       "      <td>...</td>\n",
       "      <td>8.0</td>\n",
       "      <td>0</td>\n",
       "      <td>23</td>\n",
       "      <td>12</td>\n",
       "      <td>23</td>\n",
       "      <td>12</td>\n",
       "      <td>0</td>\n",
       "      <td>1</td>\n",
       "      <td>0</td>\n",
       "      <td>1</td>\n",
       "    </tr>\n",
       "    <tr>\n",
       "      <th>1</th>\n",
       "      <td>183654358</td>\n",
       "      <td>2018-12-31 23:49:42</td>\n",
       "      <td>92</td>\n",
       "      <td>2</td>\n",
       "      <td>2018-12-31 23:50:07</td>\n",
       "      <td>25</td>\n",
       "      <td>2018-12-31 23:50:27</td>\n",
       "      <td>2018-12-31 23:55:10</td>\n",
       "      <td>328.0</td>\n",
       "      <td>303.0</td>\n",
       "      <td>...</td>\n",
       "      <td>8.0</td>\n",
       "      <td>0</td>\n",
       "      <td>23</td>\n",
       "      <td>12</td>\n",
       "      <td>23</td>\n",
       "      <td>12</td>\n",
       "      <td>23</td>\n",
       "      <td>12</td>\n",
       "      <td>23</td>\n",
       "      <td>12</td>\n",
       "    </tr>\n",
       "    <tr>\n",
       "      <th>2</th>\n",
       "      <td>183654307</td>\n",
       "      <td>2018-12-31 23:38:46</td>\n",
       "      <td>92</td>\n",
       "      <td>2</td>\n",
       "      <td>2018-12-31 23:39:11</td>\n",
       "      <td>25</td>\n",
       "      <td>2018-12-31 23:39:44</td>\n",
       "      <td>2018-12-31 23:41:00</td>\n",
       "      <td>134.0</td>\n",
       "      <td>109.0</td>\n",
       "      <td>...</td>\n",
       "      <td>7.0</td>\n",
       "      <td>0</td>\n",
       "      <td>23</td>\n",
       "      <td>12</td>\n",
       "      <td>23</td>\n",
       "      <td>12</td>\n",
       "      <td>23</td>\n",
       "      <td>12</td>\n",
       "      <td>23</td>\n",
       "      <td>12</td>\n",
       "    </tr>\n",
       "    <tr>\n",
       "      <th>3</th>\n",
       "      <td>183654254</td>\n",
       "      <td>2018-12-31 23:24:58</td>\n",
       "      <td>81</td>\n",
       "      <td>6</td>\n",
       "      <td>2018-12-31 23:25:09</td>\n",
       "      <td>11</td>\n",
       "      <td>2018-12-31 23:25:37</td>\n",
       "      <td>2018-12-31 23:32:03</td>\n",
       "      <td>425.0</td>\n",
       "      <td>414.0</td>\n",
       "      <td>...</td>\n",
       "      <td>7.0</td>\n",
       "      <td>0</td>\n",
       "      <td>23</td>\n",
       "      <td>12</td>\n",
       "      <td>23</td>\n",
       "      <td>12</td>\n",
       "      <td>23</td>\n",
       "      <td>12</td>\n",
       "      <td>23</td>\n",
       "      <td>12</td>\n",
       "    </tr>\n",
       "    <tr>\n",
       "      <th>4</th>\n",
       "      <td>183654246</td>\n",
       "      <td>2018-12-31 23:23:35</td>\n",
       "      <td>84</td>\n",
       "      <td>7</td>\n",
       "      <td>2018-12-31 23:23:45</td>\n",
       "      <td>10</td>\n",
       "      <td>2018-12-31 23:23:57</td>\n",
       "      <td>2018-12-31 23:38:33</td>\n",
       "      <td>898.0</td>\n",
       "      <td>888.0</td>\n",
       "      <td>...</td>\n",
       "      <td>9.0</td>\n",
       "      <td>0</td>\n",
       "      <td>23</td>\n",
       "      <td>12</td>\n",
       "      <td>23</td>\n",
       "      <td>12</td>\n",
       "      <td>23</td>\n",
       "      <td>12</td>\n",
       "      <td>23</td>\n",
       "      <td>12</td>\n",
       "    </tr>\n",
       "  </tbody>\n",
       "</table>\n",
       "<p>5 rows × 28 columns</p>\n",
       "</div>"
      ],
      "text/plain": [
       "   CAD_INCIDENT_ID    INCIDENT_DATETIME  INITIAL_CALL_TYPE  \\\n",
       "0        183654386  2018-12-31 23:59:46                 14   \n",
       "1        183654358  2018-12-31 23:49:42                 92   \n",
       "2        183654307  2018-12-31 23:38:46                 92   \n",
       "3        183654254  2018-12-31 23:24:58                 81   \n",
       "4        183654246  2018-12-31 23:23:35                 84   \n",
       "\n",
       "   INITIAL_SEVERITY_LEVEL_CODE FIRST_ASSIGNMENT_DATETIME  \\\n",
       "0                            2       2018-12-31 23:59:54   \n",
       "1                            2       2018-12-31 23:50:07   \n",
       "2                            2       2018-12-31 23:39:11   \n",
       "3                            6       2018-12-31 23:25:09   \n",
       "4                            7       2018-12-31 23:23:45   \n",
       "\n",
       "   DISPATCH_RESPONSE_SECONDS_QY FIRST_ACTIVATION_DATETIME  \\\n",
       "0                             8       2019-01-01 00:00:51   \n",
       "1                            25       2018-12-31 23:50:27   \n",
       "2                            25       2018-12-31 23:39:44   \n",
       "3                            11       2018-12-31 23:25:37   \n",
       "4                            10       2018-12-31 23:23:57   \n",
       "\n",
       "  FIRST_ON_SCENE_DATETIME  INCIDENT_RESPONSE_SECONDS_QY  \\\n",
       "0     2019-01-01 00:07:27                         461.0   \n",
       "1     2018-12-31 23:55:10                         328.0   \n",
       "2     2018-12-31 23:41:00                         134.0   \n",
       "3     2018-12-31 23:32:03                         425.0   \n",
       "4     2018-12-31 23:38:33                         898.0   \n",
       "\n",
       "   INCIDENT_TRAVEL_TM_SECONDS_QY  ...  CONGRESSIONALDISTRICT  \\\n",
       "0                          453.0  ...                    8.0   \n",
       "1                          303.0  ...                    8.0   \n",
       "2                          109.0  ...                    7.0   \n",
       "3                          414.0  ...                    7.0   \n",
       "4                          888.0  ...                    9.0   \n",
       "\n",
       "   TRANSFER_INDICATOR  INCIDENT_Hour  INCIDENT_Month  FIRST_ASSIGNMENT_Hour  \\\n",
       "0                   0             23              12                     23   \n",
       "1                   0             23              12                     23   \n",
       "2                   0             23              12                     23   \n",
       "3                   0             23              12                     23   \n",
       "4                   0             23              12                     23   \n",
       "\n",
       "   FIRST_ASSIGNMENT_Month  FIRST_ACTIVATION_Hour  FIRST_ACTIVATION_Month  \\\n",
       "0                      12                      0                       1   \n",
       "1                      12                     23                      12   \n",
       "2                      12                     23                      12   \n",
       "3                      12                     23                      12   \n",
       "4                      12                     23                      12   \n",
       "\n",
       "   FIRST_ON_SCENE_Hour  FIRST_ON_SCENE_Month  \n",
       "0                    0                     1  \n",
       "1                   23                    12  \n",
       "2                   23                    12  \n",
       "3                   23                    12  \n",
       "4                   23                    12  \n",
       "\n",
       "[5 rows x 28 columns]"
      ]
     },
     "execution_count": 72,
     "metadata": {},
     "output_type": "execute_result"
    }
   ],
   "source": [
    "data.head()"
   ]
  },
  {
   "cell_type": "code",
   "execution_count": 73,
   "metadata": {},
   "outputs": [],
   "source": [
    "data = data.drop(columns = [\"INCIDENT_DATETIME\",\"FIRST_ASSIGNMENT_DATETIME\",\"FIRST_ACTIVATION_DATETIME\",\"FIRST_ON_SCENE_DATETIME\"])"
   ]
  },
  {
   "cell_type": "code",
   "execution_count": 74,
   "metadata": {},
   "outputs": [
    {
     "data": {
      "text/html": [
       "<div>\n",
       "<style scoped>\n",
       "    .dataframe tbody tr th:only-of-type {\n",
       "        vertical-align: middle;\n",
       "    }\n",
       "\n",
       "    .dataframe tbody tr th {\n",
       "        vertical-align: top;\n",
       "    }\n",
       "\n",
       "    .dataframe thead th {\n",
       "        text-align: right;\n",
       "    }\n",
       "</style>\n",
       "<table border=\"1\" class=\"dataframe\">\n",
       "  <thead>\n",
       "    <tr style=\"text-align: right;\">\n",
       "      <th></th>\n",
       "      <th>CAD_INCIDENT_ID</th>\n",
       "      <th>INITIAL_CALL_TYPE</th>\n",
       "      <th>INITIAL_SEVERITY_LEVEL_CODE</th>\n",
       "      <th>DISPATCH_RESPONSE_SECONDS_QY</th>\n",
       "      <th>INCIDENT_RESPONSE_SECONDS_QY</th>\n",
       "      <th>INCIDENT_TRAVEL_TM_SECONDS_QY</th>\n",
       "      <th>HELD_INDICATOR</th>\n",
       "      <th>BOROUGH</th>\n",
       "      <th>INCIDENT_DISPATCH_AREA</th>\n",
       "      <th>ZIPCODE</th>\n",
       "      <th>...</th>\n",
       "      <th>CONGRESSIONALDISTRICT</th>\n",
       "      <th>TRANSFER_INDICATOR</th>\n",
       "      <th>INCIDENT_Hour</th>\n",
       "      <th>INCIDENT_Month</th>\n",
       "      <th>FIRST_ASSIGNMENT_Hour</th>\n",
       "      <th>FIRST_ASSIGNMENT_Month</th>\n",
       "      <th>FIRST_ACTIVATION_Hour</th>\n",
       "      <th>FIRST_ACTIVATION_Month</th>\n",
       "      <th>FIRST_ON_SCENE_Hour</th>\n",
       "      <th>FIRST_ON_SCENE_Month</th>\n",
       "    </tr>\n",
       "  </thead>\n",
       "  <tbody>\n",
       "    <tr>\n",
       "      <th>0</th>\n",
       "      <td>183654386</td>\n",
       "      <td>14</td>\n",
       "      <td>2</td>\n",
       "      <td>8</td>\n",
       "      <td>461.0</td>\n",
       "      <td>453.0</td>\n",
       "      <td>0</td>\n",
       "      <td>1</td>\n",
       "      <td>12</td>\n",
       "      <td>11201.0</td>\n",
       "      <td>...</td>\n",
       "      <td>8.0</td>\n",
       "      <td>0</td>\n",
       "      <td>23</td>\n",
       "      <td>12</td>\n",
       "      <td>23</td>\n",
       "      <td>12</td>\n",
       "      <td>0</td>\n",
       "      <td>1</td>\n",
       "      <td>0</td>\n",
       "      <td>1</td>\n",
       "    </tr>\n",
       "    <tr>\n",
       "      <th>1</th>\n",
       "      <td>183654358</td>\n",
       "      <td>92</td>\n",
       "      <td>2</td>\n",
       "      <td>25</td>\n",
       "      <td>328.0</td>\n",
       "      <td>303.0</td>\n",
       "      <td>0</td>\n",
       "      <td>1</td>\n",
       "      <td>12</td>\n",
       "      <td>11201.0</td>\n",
       "      <td>...</td>\n",
       "      <td>8.0</td>\n",
       "      <td>0</td>\n",
       "      <td>23</td>\n",
       "      <td>12</td>\n",
       "      <td>23</td>\n",
       "      <td>12</td>\n",
       "      <td>23</td>\n",
       "      <td>12</td>\n",
       "      <td>23</td>\n",
       "      <td>12</td>\n",
       "    </tr>\n",
       "    <tr>\n",
       "      <th>2</th>\n",
       "      <td>183654307</td>\n",
       "      <td>92</td>\n",
       "      <td>2</td>\n",
       "      <td>25</td>\n",
       "      <td>134.0</td>\n",
       "      <td>109.0</td>\n",
       "      <td>0</td>\n",
       "      <td>1</td>\n",
       "      <td>12</td>\n",
       "      <td>11215.0</td>\n",
       "      <td>...</td>\n",
       "      <td>7.0</td>\n",
       "      <td>0</td>\n",
       "      <td>23</td>\n",
       "      <td>12</td>\n",
       "      <td>23</td>\n",
       "      <td>12</td>\n",
       "      <td>23</td>\n",
       "      <td>12</td>\n",
       "      <td>23</td>\n",
       "      <td>12</td>\n",
       "    </tr>\n",
       "    <tr>\n",
       "      <th>3</th>\n",
       "      <td>183654254</td>\n",
       "      <td>81</td>\n",
       "      <td>6</td>\n",
       "      <td>11</td>\n",
       "      <td>425.0</td>\n",
       "      <td>414.0</td>\n",
       "      <td>0</td>\n",
       "      <td>1</td>\n",
       "      <td>12</td>\n",
       "      <td>11201.0</td>\n",
       "      <td>...</td>\n",
       "      <td>7.0</td>\n",
       "      <td>0</td>\n",
       "      <td>23</td>\n",
       "      <td>12</td>\n",
       "      <td>23</td>\n",
       "      <td>12</td>\n",
       "      <td>23</td>\n",
       "      <td>12</td>\n",
       "      <td>23</td>\n",
       "      <td>12</td>\n",
       "    </tr>\n",
       "    <tr>\n",
       "      <th>4</th>\n",
       "      <td>183654246</td>\n",
       "      <td>84</td>\n",
       "      <td>7</td>\n",
       "      <td>10</td>\n",
       "      <td>898.0</td>\n",
       "      <td>888.0</td>\n",
       "      <td>0</td>\n",
       "      <td>1</td>\n",
       "      <td>12</td>\n",
       "      <td>11215.0</td>\n",
       "      <td>...</td>\n",
       "      <td>9.0</td>\n",
       "      <td>0</td>\n",
       "      <td>23</td>\n",
       "      <td>12</td>\n",
       "      <td>23</td>\n",
       "      <td>12</td>\n",
       "      <td>23</td>\n",
       "      <td>12</td>\n",
       "      <td>23</td>\n",
       "      <td>12</td>\n",
       "    </tr>\n",
       "  </tbody>\n",
       "</table>\n",
       "<p>5 rows × 24 columns</p>\n",
       "</div>"
      ],
      "text/plain": [
       "   CAD_INCIDENT_ID  INITIAL_CALL_TYPE  INITIAL_SEVERITY_LEVEL_CODE  \\\n",
       "0        183654386                 14                            2   \n",
       "1        183654358                 92                            2   \n",
       "2        183654307                 92                            2   \n",
       "3        183654254                 81                            6   \n",
       "4        183654246                 84                            7   \n",
       "\n",
       "   DISPATCH_RESPONSE_SECONDS_QY  INCIDENT_RESPONSE_SECONDS_QY  \\\n",
       "0                             8                         461.0   \n",
       "1                            25                         328.0   \n",
       "2                            25                         134.0   \n",
       "3                            11                         425.0   \n",
       "4                            10                         898.0   \n",
       "\n",
       "   INCIDENT_TRAVEL_TM_SECONDS_QY  HELD_INDICATOR  BOROUGH  \\\n",
       "0                          453.0               0        1   \n",
       "1                          303.0               0        1   \n",
       "2                          109.0               0        1   \n",
       "3                          414.0               0        1   \n",
       "4                          888.0               0        1   \n",
       "\n",
       "   INCIDENT_DISPATCH_AREA  ZIPCODE  ...  CONGRESSIONALDISTRICT  \\\n",
       "0                      12  11201.0  ...                    8.0   \n",
       "1                      12  11201.0  ...                    8.0   \n",
       "2                      12  11215.0  ...                    7.0   \n",
       "3                      12  11201.0  ...                    7.0   \n",
       "4                      12  11215.0  ...                    9.0   \n",
       "\n",
       "   TRANSFER_INDICATOR  INCIDENT_Hour  INCIDENT_Month  FIRST_ASSIGNMENT_Hour  \\\n",
       "0                   0             23              12                     23   \n",
       "1                   0             23              12                     23   \n",
       "2                   0             23              12                     23   \n",
       "3                   0             23              12                     23   \n",
       "4                   0             23              12                     23   \n",
       "\n",
       "   FIRST_ASSIGNMENT_Month  FIRST_ACTIVATION_Hour  FIRST_ACTIVATION_Month  \\\n",
       "0                      12                      0                       1   \n",
       "1                      12                     23                      12   \n",
       "2                      12                     23                      12   \n",
       "3                      12                     23                      12   \n",
       "4                      12                     23                      12   \n",
       "\n",
       "   FIRST_ON_SCENE_Hour  FIRST_ON_SCENE_Month  \n",
       "0                    0                     1  \n",
       "1                   23                    12  \n",
       "2                   23                    12  \n",
       "3                   23                    12  \n",
       "4                   23                    12  \n",
       "\n",
       "[5 rows x 24 columns]"
      ]
     },
     "execution_count": 74,
     "metadata": {},
     "output_type": "execute_result"
    }
   ],
   "source": [
    "data.head()"
   ]
  },
  {
   "cell_type": "code",
   "execution_count": 75,
   "metadata": {},
   "outputs": [],
   "source": [
    "#shuffle the data\n",
    "data['r'] = np.random.random(data.shape[0]) \n",
    "data = data.sort_values(by = 'r').reset_index(drop = True)\n",
    "data = data.drop('r', 1)"
   ]
  },
  {
   "cell_type": "code",
   "execution_count": 76,
   "metadata": {},
   "outputs": [],
   "source": [
    "#using 100,000 rows just for this exercise - for real modeling use all data\n",
    "data = data[:100000]"
   ]
  },
  {
   "cell_type": "code",
   "execution_count": 77,
   "metadata": {},
   "outputs": [
    {
     "data": {
      "text/plain": [
       "(100000, 24)"
      ]
     },
     "execution_count": 77,
     "metadata": {},
     "output_type": "execute_result"
    }
   ],
   "source": [
    "data.shape"
   ]
  },
  {
   "cell_type": "markdown",
   "metadata": {},
   "source": [
    "***LINEAR REGRESSION***"
   ]
  },
  {
   "cell_type": "markdown",
   "metadata": {},
   "source": [
    "Create linear regression model and fit with training dataset"
   ]
  },
  {
   "cell_type": "code",
   "execution_count": 78,
   "metadata": {},
   "outputs": [],
   "source": [
    "from sklearn.linear_model import LinearRegression"
   ]
  },
  {
   "cell_type": "code",
   "execution_count": 79,
   "metadata": {},
   "outputs": [],
   "source": [
    "#X is predictors, Y is value to be predicted\n",
    "X = data.drop(columns = [\"INCIDENT_TRAVEL_TM_SECONDS_QY\"])\n",
    "Y = data[\"INCIDENT_TRAVEL_TM_SECONDS_QY\"]"
   ]
  },
  {
   "cell_type": "code",
   "execution_count": 80,
   "metadata": {},
   "outputs": [],
   "source": [
    "#splitting into training and testing datasets\n",
    "X_train, X_test, Y_train, Y_test = train_test_split(X, Y, train_size=.75)"
   ]
  },
  {
   "cell_type": "code",
   "execution_count": 111,
   "metadata": {},
   "outputs": [
    {
     "data": {
      "text/html": [
       "<div>\n",
       "<style scoped>\n",
       "    .dataframe tbody tr th:only-of-type {\n",
       "        vertical-align: middle;\n",
       "    }\n",
       "\n",
       "    .dataframe tbody tr th {\n",
       "        vertical-align: top;\n",
       "    }\n",
       "\n",
       "    .dataframe thead th {\n",
       "        text-align: right;\n",
       "    }\n",
       "</style>\n",
       "<table border=\"1\" class=\"dataframe\">\n",
       "  <thead>\n",
       "    <tr style=\"text-align: right;\">\n",
       "      <th></th>\n",
       "      <th>CAD_INCIDENT_ID</th>\n",
       "      <th>INITIAL_CALL_TYPE</th>\n",
       "      <th>INITIAL_SEVERITY_LEVEL_CODE</th>\n",
       "      <th>DISPATCH_RESPONSE_SECONDS_QY</th>\n",
       "      <th>INCIDENT_RESPONSE_SECONDS_QY</th>\n",
       "      <th>HELD_INDICATOR</th>\n",
       "      <th>BOROUGH</th>\n",
       "      <th>INCIDENT_DISPATCH_AREA</th>\n",
       "      <th>ZIPCODE</th>\n",
       "      <th>POLICEPRECINCT</th>\n",
       "      <th>...</th>\n",
       "      <th>CONGRESSIONALDISTRICT</th>\n",
       "      <th>TRANSFER_INDICATOR</th>\n",
       "      <th>INCIDENT_Hour</th>\n",
       "      <th>INCIDENT_Month</th>\n",
       "      <th>FIRST_ASSIGNMENT_Hour</th>\n",
       "      <th>FIRST_ASSIGNMENT_Month</th>\n",
       "      <th>FIRST_ACTIVATION_Hour</th>\n",
       "      <th>FIRST_ACTIVATION_Month</th>\n",
       "      <th>FIRST_ON_SCENE_Hour</th>\n",
       "      <th>FIRST_ON_SCENE_Month</th>\n",
       "    </tr>\n",
       "  </thead>\n",
       "  <tbody>\n",
       "    <tr>\n",
       "      <th>51610</th>\n",
       "      <td>180812374</td>\n",
       "      <td>1</td>\n",
       "      <td>5</td>\n",
       "      <td>148</td>\n",
       "      <td>529.0</td>\n",
       "      <td>1</td>\n",
       "      <td>2</td>\n",
       "      <td>22</td>\n",
       "      <td>10033.0</td>\n",
       "      <td>34.0</td>\n",
       "      <td>...</td>\n",
       "      <td>13.0</td>\n",
       "      <td>0</td>\n",
       "      <td>14</td>\n",
       "      <td>3</td>\n",
       "      <td>14</td>\n",
       "      <td>3</td>\n",
       "      <td>14</td>\n",
       "      <td>3</td>\n",
       "      <td>14</td>\n",
       "      <td>3</td>\n",
       "    </tr>\n",
       "    <tr>\n",
       "      <th>74578</th>\n",
       "      <td>170710005</td>\n",
       "      <td>29</td>\n",
       "      <td>4</td>\n",
       "      <td>33</td>\n",
       "      <td>348.0</td>\n",
       "      <td>0</td>\n",
       "      <td>2</td>\n",
       "      <td>16</td>\n",
       "      <td>10121.0</td>\n",
       "      <td>14.0</td>\n",
       "      <td>...</td>\n",
       "      <td>12.0</td>\n",
       "      <td>0</td>\n",
       "      <td>0</td>\n",
       "      <td>3</td>\n",
       "      <td>0</td>\n",
       "      <td>3</td>\n",
       "      <td>0</td>\n",
       "      <td>3</td>\n",
       "      <td>0</td>\n",
       "      <td>3</td>\n",
       "    </tr>\n",
       "    <tr>\n",
       "      <th>3247</th>\n",
       "      <td>180420658</td>\n",
       "      <td>75</td>\n",
       "      <td>4</td>\n",
       "      <td>9</td>\n",
       "      <td>1028.0</td>\n",
       "      <td>0</td>\n",
       "      <td>3</td>\n",
       "      <td>23</td>\n",
       "      <td>11697.0</td>\n",
       "      <td>100.0</td>\n",
       "      <td>...</td>\n",
       "      <td>5.0</td>\n",
       "      <td>0</td>\n",
       "      <td>4</td>\n",
       "      <td>2</td>\n",
       "      <td>4</td>\n",
       "      <td>2</td>\n",
       "      <td>4</td>\n",
       "      <td>2</td>\n",
       "      <td>4</td>\n",
       "      <td>2</td>\n",
       "    </tr>\n",
       "    <tr>\n",
       "      <th>1017</th>\n",
       "      <td>171152444</td>\n",
       "      <td>20</td>\n",
       "      <td>2</td>\n",
       "      <td>14</td>\n",
       "      <td>790.0</td>\n",
       "      <td>0</td>\n",
       "      <td>2</td>\n",
       "      <td>21</td>\n",
       "      <td>10039.0</td>\n",
       "      <td>32.0</td>\n",
       "      <td>...</td>\n",
       "      <td>13.0</td>\n",
       "      <td>0</td>\n",
       "      <td>14</td>\n",
       "      <td>4</td>\n",
       "      <td>14</td>\n",
       "      <td>4</td>\n",
       "      <td>14</td>\n",
       "      <td>4</td>\n",
       "      <td>15</td>\n",
       "      <td>4</td>\n",
       "    </tr>\n",
       "    <tr>\n",
       "      <th>26876</th>\n",
       "      <td>173334406</td>\n",
       "      <td>13</td>\n",
       "      <td>3</td>\n",
       "      <td>19</td>\n",
       "      <td>378.0</td>\n",
       "      <td>0</td>\n",
       "      <td>0</td>\n",
       "      <td>1</td>\n",
       "      <td>10453.0</td>\n",
       "      <td>46.0</td>\n",
       "      <td>...</td>\n",
       "      <td>15.0</td>\n",
       "      <td>0</td>\n",
       "      <td>23</td>\n",
       "      <td>11</td>\n",
       "      <td>23</td>\n",
       "      <td>11</td>\n",
       "      <td>23</td>\n",
       "      <td>11</td>\n",
       "      <td>23</td>\n",
       "      <td>11</td>\n",
       "    </tr>\n",
       "  </tbody>\n",
       "</table>\n",
       "<p>5 rows × 23 columns</p>\n",
       "</div>"
      ],
      "text/plain": [
       "       CAD_INCIDENT_ID  INITIAL_CALL_TYPE  INITIAL_SEVERITY_LEVEL_CODE  \\\n",
       "51610        180812374                  1                            5   \n",
       "74578        170710005                 29                            4   \n",
       "3247         180420658                 75                            4   \n",
       "1017         171152444                 20                            2   \n",
       "26876        173334406                 13                            3   \n",
       "\n",
       "       DISPATCH_RESPONSE_SECONDS_QY  INCIDENT_RESPONSE_SECONDS_QY  \\\n",
       "51610                           148                         529.0   \n",
       "74578                            33                         348.0   \n",
       "3247                              9                        1028.0   \n",
       "1017                             14                         790.0   \n",
       "26876                            19                         378.0   \n",
       "\n",
       "       HELD_INDICATOR  BOROUGH  INCIDENT_DISPATCH_AREA  ZIPCODE  \\\n",
       "51610               1        2                      22  10033.0   \n",
       "74578               0        2                      16  10121.0   \n",
       "3247                0        3                      23  11697.0   \n",
       "1017                0        2                      21  10039.0   \n",
       "26876               0        0                       1  10453.0   \n",
       "\n",
       "       POLICEPRECINCT  ...  CONGRESSIONALDISTRICT  TRANSFER_INDICATOR  \\\n",
       "51610            34.0  ...                   13.0                   0   \n",
       "74578            14.0  ...                   12.0                   0   \n",
       "3247            100.0  ...                    5.0                   0   \n",
       "1017             32.0  ...                   13.0                   0   \n",
       "26876            46.0  ...                   15.0                   0   \n",
       "\n",
       "       INCIDENT_Hour  INCIDENT_Month  FIRST_ASSIGNMENT_Hour  \\\n",
       "51610             14               3                     14   \n",
       "74578              0               3                      0   \n",
       "3247               4               2                      4   \n",
       "1017              14               4                     14   \n",
       "26876             23              11                     23   \n",
       "\n",
       "       FIRST_ASSIGNMENT_Month  FIRST_ACTIVATION_Hour  FIRST_ACTIVATION_Month  \\\n",
       "51610                       3                     14                       3   \n",
       "74578                       3                      0                       3   \n",
       "3247                        2                      4                       2   \n",
       "1017                        4                     14                       4   \n",
       "26876                      11                     23                      11   \n",
       "\n",
       "       FIRST_ON_SCENE_Hour  FIRST_ON_SCENE_Month  \n",
       "51610                   14                     3  \n",
       "74578                    0                     3  \n",
       "3247                     4                     2  \n",
       "1017                    15                     4  \n",
       "26876                   23                    11  \n",
       "\n",
       "[5 rows x 23 columns]"
      ]
     },
     "execution_count": 111,
     "metadata": {},
     "output_type": "execute_result"
    }
   ],
   "source": [
    "X_test.head()"
   ]
  },
  {
   "cell_type": "code",
   "execution_count": 82,
   "metadata": {},
   "outputs": [
    {
     "data": {
      "text/plain": [
       "51610     381.0\n",
       "74578     315.0\n",
       "3247     1019.0\n",
       "1017      776.0\n",
       "26876     359.0\n",
       "Name: INCIDENT_TRAVEL_TM_SECONDS_QY, dtype: float64"
      ]
     },
     "execution_count": 82,
     "metadata": {},
     "output_type": "execute_result"
    }
   ],
   "source": [
    "Y_test.head()"
   ]
  },
  {
   "cell_type": "code",
   "execution_count": 83,
   "metadata": {},
   "outputs": [],
   "source": [
    "#create linear regression model\n",
    "linreg = LinearRegression()\n",
    "linreg = linreg.fit(X_train,Y_train) #fit model with training data"
   ]
  },
  {
   "cell_type": "markdown",
   "metadata": {},
   "source": [
    "***Linear Regression Coeffs***"
   ]
  },
  {
   "cell_type": "code",
   "execution_count": 84,
   "metadata": {},
   "outputs": [
    {
     "name": "stdout",
     "output_type": "stream",
     "text": [
      "-2.006572685786523e-11\n"
     ]
    }
   ],
   "source": [
    "#Intercept\n",
    "print(linreg.intercept_)"
   ]
  },
  {
   "cell_type": "code",
   "execution_count": 85,
   "metadata": {},
   "outputs": [
    {
     "data": {
      "text/html": [
       "<div>\n",
       "<style scoped>\n",
       "    .dataframe tbody tr th:only-of-type {\n",
       "        vertical-align: middle;\n",
       "    }\n",
       "\n",
       "    .dataframe tbody tr th {\n",
       "        vertical-align: top;\n",
       "    }\n",
       "\n",
       "    .dataframe thead th {\n",
       "        text-align: right;\n",
       "    }\n",
       "</style>\n",
       "<table border=\"1\" class=\"dataframe\">\n",
       "  <thead>\n",
       "    <tr style=\"text-align: right;\">\n",
       "      <th></th>\n",
       "      <th>Coefficient</th>\n",
       "      <th>Predictors</th>\n",
       "    </tr>\n",
       "  </thead>\n",
       "  <tbody>\n",
       "    <tr>\n",
       "      <th>0</th>\n",
       "      <td>-3.712732e-20</td>\n",
       "      <td>CAD_INCIDENT_ID</td>\n",
       "    </tr>\n",
       "    <tr>\n",
       "      <th>1</th>\n",
       "      <td>-1.005744e-15</td>\n",
       "      <td>INITIAL_CALL_TYPE</td>\n",
       "    </tr>\n",
       "    <tr>\n",
       "      <th>2</th>\n",
       "      <td>1.921810e-13</td>\n",
       "      <td>INITIAL_SEVERITY_LEVEL_CODE</td>\n",
       "    </tr>\n",
       "    <tr>\n",
       "      <th>3</th>\n",
       "      <td>-1.000000e+00</td>\n",
       "      <td>DISPATCH_RESPONSE_SECONDS_QY</td>\n",
       "    </tr>\n",
       "    <tr>\n",
       "      <th>4</th>\n",
       "      <td>1.000000e+00</td>\n",
       "      <td>INCIDENT_RESPONSE_SECONDS_QY</td>\n",
       "    </tr>\n",
       "    <tr>\n",
       "      <th>5</th>\n",
       "      <td>-1.305259e-13</td>\n",
       "      <td>HELD_INDICATOR</td>\n",
       "    </tr>\n",
       "    <tr>\n",
       "      <th>6</th>\n",
       "      <td>4.101621e-14</td>\n",
       "      <td>BOROUGH</td>\n",
       "    </tr>\n",
       "    <tr>\n",
       "      <th>7</th>\n",
       "      <td>-6.497427e-15</td>\n",
       "      <td>INCIDENT_DISPATCH_AREA</td>\n",
       "    </tr>\n",
       "    <tr>\n",
       "      <th>8</th>\n",
       "      <td>2.196364e-15</td>\n",
       "      <td>ZIPCODE</td>\n",
       "    </tr>\n",
       "    <tr>\n",
       "      <th>9</th>\n",
       "      <td>3.301697e-16</td>\n",
       "      <td>POLICEPRECINCT</td>\n",
       "    </tr>\n",
       "    <tr>\n",
       "      <th>10</th>\n",
       "      <td>8.702590e-18</td>\n",
       "      <td>CITYCOUNCILDISTRICT</td>\n",
       "    </tr>\n",
       "    <tr>\n",
       "      <th>11</th>\n",
       "      <td>7.993457e-16</td>\n",
       "      <td>COMMUNITYDISTRICT</td>\n",
       "    </tr>\n",
       "    <tr>\n",
       "      <th>12</th>\n",
       "      <td>-7.440290e-16</td>\n",
       "      <td>COMMUNITYSCHOOLDISTRICT</td>\n",
       "    </tr>\n",
       "    <tr>\n",
       "      <th>13</th>\n",
       "      <td>6.395817e-16</td>\n",
       "      <td>CONGRESSIONALDISTRICT</td>\n",
       "    </tr>\n",
       "    <tr>\n",
       "      <th>14</th>\n",
       "      <td>-3.615297e-15</td>\n",
       "      <td>TRANSFER_INDICATOR</td>\n",
       "    </tr>\n",
       "    <tr>\n",
       "      <th>15</th>\n",
       "      <td>5.949176e-16</td>\n",
       "      <td>INCIDENT_Hour</td>\n",
       "    </tr>\n",
       "    <tr>\n",
       "      <th>16</th>\n",
       "      <td>2.620285e-14</td>\n",
       "      <td>INCIDENT_Month</td>\n",
       "    </tr>\n",
       "    <tr>\n",
       "      <th>17</th>\n",
       "      <td>-8.274857e-16</td>\n",
       "      <td>FIRST_ASSIGNMENT_Hour</td>\n",
       "    </tr>\n",
       "    <tr>\n",
       "      <th>18</th>\n",
       "      <td>2.620285e-14</td>\n",
       "      <td>FIRST_ASSIGNMENT_Month</td>\n",
       "    </tr>\n",
       "    <tr>\n",
       "      <th>19</th>\n",
       "      <td>1.630330e-16</td>\n",
       "      <td>FIRST_ACTIVATION_Hour</td>\n",
       "    </tr>\n",
       "    <tr>\n",
       "      <th>20</th>\n",
       "      <td>2.620285e-14</td>\n",
       "      <td>FIRST_ACTIVATION_Month</td>\n",
       "    </tr>\n",
       "    <tr>\n",
       "      <th>21</th>\n",
       "      <td>3.795124e-16</td>\n",
       "      <td>FIRST_ON_SCENE_Hour</td>\n",
       "    </tr>\n",
       "    <tr>\n",
       "      <th>22</th>\n",
       "      <td>-7.447303e-14</td>\n",
       "      <td>FIRST_ON_SCENE_Month</td>\n",
       "    </tr>\n",
       "  </tbody>\n",
       "</table>\n",
       "</div>"
      ],
      "text/plain": [
       "     Coefficient                    Predictors\n",
       "0  -3.712732e-20               CAD_INCIDENT_ID\n",
       "1  -1.005744e-15             INITIAL_CALL_TYPE\n",
       "2   1.921810e-13   INITIAL_SEVERITY_LEVEL_CODE\n",
       "3  -1.000000e+00  DISPATCH_RESPONSE_SECONDS_QY\n",
       "4   1.000000e+00  INCIDENT_RESPONSE_SECONDS_QY\n",
       "5  -1.305259e-13                HELD_INDICATOR\n",
       "6   4.101621e-14                       BOROUGH\n",
       "7  -6.497427e-15        INCIDENT_DISPATCH_AREA\n",
       "8   2.196364e-15                       ZIPCODE\n",
       "9   3.301697e-16                POLICEPRECINCT\n",
       "10  8.702590e-18           CITYCOUNCILDISTRICT\n",
       "11  7.993457e-16             COMMUNITYDISTRICT\n",
       "12 -7.440290e-16       COMMUNITYSCHOOLDISTRICT\n",
       "13  6.395817e-16         CONGRESSIONALDISTRICT\n",
       "14 -3.615297e-15            TRANSFER_INDICATOR\n",
       "15  5.949176e-16                 INCIDENT_Hour\n",
       "16  2.620285e-14                INCIDENT_Month\n",
       "17 -8.274857e-16         FIRST_ASSIGNMENT_Hour\n",
       "18  2.620285e-14        FIRST_ASSIGNMENT_Month\n",
       "19  1.630330e-16         FIRST_ACTIVATION_Hour\n",
       "20  2.620285e-14        FIRST_ACTIVATION_Month\n",
       "21  3.795124e-16           FIRST_ON_SCENE_Hour\n",
       "22 -7.447303e-14          FIRST_ON_SCENE_Month"
      ]
     },
     "execution_count": 85,
     "metadata": {},
     "output_type": "execute_result"
    }
   ],
   "source": [
    "#Coefficients/Slopes for each predictor (betas)\n",
    "#Need to get rid of DISPATCH_RESPONSE_SECONDS_QY & INCIDENT_RESPONSE_SECONDS_QY - they exactly predict target\n",
    "a = pd.DataFrame(linreg.coef_.transpose(),columns = [\"Coefficient\"])\n",
    "b = pd.DataFrame(X_train.columns, columns = [\"Predictors\"])\n",
    "coeff = pd.concat([a,b],axis=1)\n",
    "coeff"
   ]
  },
  {
   "cell_type": "code",
   "execution_count": 86,
   "metadata": {},
   "outputs": [
    {
     "data": {
      "text/plain": [
       "1.0"
      ]
     },
     "execution_count": 86,
     "metadata": {},
     "output_type": "execute_result"
    }
   ],
   "source": [
    "#R2 value\n",
    "#tells us what % of the variability of our target is explained by our predictors\n",
    "r_sq = linreg.score(X_test,Y_test)\n",
    "r_sq"
   ]
  },
  {
   "cell_type": "markdown",
   "metadata": {},
   "source": [
    "***Model Predictions***"
   ]
  },
  {
   "cell_type": "code",
   "execution_count": 87,
   "metadata": {},
   "outputs": [
    {
     "data": {
      "text/plain": [
       "array([ 381.,  315., 1019., ..., 1472.,  438.,  511.])"
      ]
     },
     "execution_count": 87,
     "metadata": {},
     "output_type": "execute_result"
    }
   ],
   "source": [
    "#estimate predictions from model\n",
    "Y_pred = linreg.predict(X_test)\n",
    "Y_pred"
   ]
  },
  {
   "cell_type": "markdown",
   "metadata": {},
   "source": [
    "Plot real vs predicted travel times as scatterplot."
   ]
  },
  {
   "cell_type": "code",
   "execution_count": 89,
   "metadata": {},
   "outputs": [
    {
     "data": {
      "text/html": [
       "<div>\n",
       "<style scoped>\n",
       "    .dataframe tbody tr th:only-of-type {\n",
       "        vertical-align: middle;\n",
       "    }\n",
       "\n",
       "    .dataframe tbody tr th {\n",
       "        vertical-align: top;\n",
       "    }\n",
       "\n",
       "    .dataframe thead th {\n",
       "        text-align: right;\n",
       "    }\n",
       "</style>\n",
       "<table border=\"1\" class=\"dataframe\">\n",
       "  <thead>\n",
       "    <tr style=\"text-align: right;\">\n",
       "      <th></th>\n",
       "      <th>Actual</th>\n",
       "      <th>Predicted</th>\n",
       "    </tr>\n",
       "  </thead>\n",
       "  <tbody>\n",
       "    <tr>\n",
       "      <th>51610</th>\n",
       "      <td>381.0</td>\n",
       "      <td>381.0</td>\n",
       "    </tr>\n",
       "    <tr>\n",
       "      <th>74578</th>\n",
       "      <td>315.0</td>\n",
       "      <td>315.0</td>\n",
       "    </tr>\n",
       "    <tr>\n",
       "      <th>3247</th>\n",
       "      <td>1019.0</td>\n",
       "      <td>1019.0</td>\n",
       "    </tr>\n",
       "    <tr>\n",
       "      <th>1017</th>\n",
       "      <td>776.0</td>\n",
       "      <td>776.0</td>\n",
       "    </tr>\n",
       "    <tr>\n",
       "      <th>26876</th>\n",
       "      <td>359.0</td>\n",
       "      <td>359.0</td>\n",
       "    </tr>\n",
       "  </tbody>\n",
       "</table>\n",
       "</div>"
      ],
      "text/plain": [
       "       Actual  Predicted\n",
       "51610   381.0      381.0\n",
       "74578   315.0      315.0\n",
       "3247   1019.0     1019.0\n",
       "1017    776.0      776.0\n",
       "26876   359.0      359.0"
      ]
     },
     "execution_count": 89,
     "metadata": {},
     "output_type": "execute_result"
    }
   ],
   "source": [
    "vals = pd.DataFrame({\"Actual\": Y_test,\"Predicted\": Y_pred})\n",
    "vals.head()"
   ]
  },
  {
   "cell_type": "code",
   "execution_count": 90,
   "metadata": {},
   "outputs": [
    {
     "data": {
      "image/png": "[encoded data removed]",
      "text/plain": [
       "<Figure size 432x288 with 1 Axes>"
      ]
     },
     "metadata": {
      "needs_background": "light"
     },
     "output_type": "display_data"
    }
   ],
   "source": [
    "plt.scatter(Y_test,Y_pred)\n",
    "plt.xlabel('Y_test')\n",
    "plt.ylabel('Y_pred')\n",
    "plt.title(\"Real vs. Predicted\")\n",
    "plt.show()"
   ]
  },
  {
   "cell_type": "code",
   "execution_count": 104,
   "metadata": {},
   "outputs": [
    {
     "name": "stdout",
     "output_type": "stream",
     "text": [
      "Mean Absolute Error: 1.6450958462144172e-12\n",
      "Mean Squared Error: 9.325613081744782e-24\n",
      "Root Mean Squared Error: 3.053786679148493e-12\n"
     ]
    }
   ],
   "source": [
    "#compare RMSE against mean value of target var; what % greater is it? will determine how accurate our algo is\n",
    "\n",
    "print('Mean Absolute Error:', metrics.mean_absolute_error(Y_test, Y_pred))  \n",
    "print('Mean Squared Error:', metrics.mean_squared_error(Y_test, Y_pred))  \n",
    "print('Root Mean Squared Error:', np.sqrt(metrics.mean_squared_error(Y_test, Y_pred)))"
   ]
  },
  {
   "cell_type": "markdown",
   "metadata": {},
   "source": [
    "***RESIDUALS***"
   ]
  },
  {
   "cell_type": "markdown",
   "metadata": {},
   "source": [
    "Residual = Actual - Predicted"
   ]
  },
  {
   "cell_type": "code",
   "execution_count": 105,
   "metadata": {},
   "outputs": [
    {
     "data": {
      "text/html": [
       "<div>\n",
       "<style scoped>\n",
       "    .dataframe tbody tr th:only-of-type {\n",
       "        vertical-align: middle;\n",
       "    }\n",
       "\n",
       "    .dataframe tbody tr th {\n",
       "        vertical-align: top;\n",
       "    }\n",
       "\n",
       "    .dataframe thead th {\n",
       "        text-align: right;\n",
       "    }\n",
       "</style>\n",
       "<table border=\"1\" class=\"dataframe\">\n",
       "  <thead>\n",
       "    <tr style=\"text-align: right;\">\n",
       "      <th></th>\n",
       "      <th>Actual</th>\n",
       "      <th>Predicted</th>\n",
       "      <th>residuals</th>\n",
       "    </tr>\n",
       "  </thead>\n",
       "  <tbody>\n",
       "    <tr>\n",
       "      <th>51610</th>\n",
       "      <td>381.0</td>\n",
       "      <td>381.0</td>\n",
       "      <td>1.364242e-12</td>\n",
       "    </tr>\n",
       "    <tr>\n",
       "      <th>74578</th>\n",
       "      <td>315.0</td>\n",
       "      <td>315.0</td>\n",
       "      <td>2.160050e-12</td>\n",
       "    </tr>\n",
       "    <tr>\n",
       "      <th>3247</th>\n",
       "      <td>1019.0</td>\n",
       "      <td>1019.0</td>\n",
       "      <td>-3.410605e-12</td>\n",
       "    </tr>\n",
       "    <tr>\n",
       "      <th>1017</th>\n",
       "      <td>776.0</td>\n",
       "      <td>776.0</td>\n",
       "      <td>1.136868e-12</td>\n",
       "    </tr>\n",
       "    <tr>\n",
       "      <th>26876</th>\n",
       "      <td>359.0</td>\n",
       "      <td>359.0</td>\n",
       "      <td>1.364242e-12</td>\n",
       "    </tr>\n",
       "  </tbody>\n",
       "</table>\n",
       "</div>"
      ],
      "text/plain": [
       "       Actual  Predicted     residuals\n",
       "51610   381.0      381.0  1.364242e-12\n",
       "74578   315.0      315.0  2.160050e-12\n",
       "3247   1019.0     1019.0 -3.410605e-12\n",
       "1017    776.0      776.0  1.136868e-12\n",
       "26876   359.0      359.0  1.364242e-12"
      ]
     },
     "execution_count": 105,
     "metadata": {},
     "output_type": "execute_result"
    }
   ],
   "source": [
    "vals[\"residuals\"] = vals[\"Actual\"]-vals[\"Predicted\"]\n",
    "vals.head()"
   ]
  },
  {
   "cell_type": "markdown",
   "metadata": {},
   "source": [
    "***Best Fit Line***"
   ]
  },
  {
   "cell_type": "code",
   "execution_count": 107,
   "metadata": {},
   "outputs": [
    {
     "data": {
      "text/html": [
       "<div>\n",
       "<style scoped>\n",
       "    .dataframe tbody tr th:only-of-type {\n",
       "        vertical-align: middle;\n",
       "    }\n",
       "\n",
       "    .dataframe tbody tr th {\n",
       "        vertical-align: top;\n",
       "    }\n",
       "\n",
       "    .dataframe thead th {\n",
       "        text-align: right;\n",
       "    }\n",
       "</style>\n",
       "<table border=\"1\" class=\"dataframe\">\n",
       "  <thead>\n",
       "    <tr style=\"text-align: right;\">\n",
       "      <th></th>\n",
       "      <th>Actual</th>\n",
       "      <th>Predicted</th>\n",
       "      <th>residuals</th>\n",
       "      <th>rss</th>\n",
       "    </tr>\n",
       "  </thead>\n",
       "  <tbody>\n",
       "    <tr>\n",
       "      <th>51610</th>\n",
       "      <td>381.0</td>\n",
       "      <td>381.0</td>\n",
       "      <td>1.364242e-12</td>\n",
       "      <td>1.861156e-24</td>\n",
       "    </tr>\n",
       "    <tr>\n",
       "      <th>74578</th>\n",
       "      <td>315.0</td>\n",
       "      <td>315.0</td>\n",
       "      <td>2.160050e-12</td>\n",
       "      <td>4.665816e-24</td>\n",
       "    </tr>\n",
       "    <tr>\n",
       "      <th>3247</th>\n",
       "      <td>1019.0</td>\n",
       "      <td>1019.0</td>\n",
       "      <td>-3.410605e-12</td>\n",
       "      <td>1.163223e-23</td>\n",
       "    </tr>\n",
       "    <tr>\n",
       "      <th>1017</th>\n",
       "      <td>776.0</td>\n",
       "      <td>776.0</td>\n",
       "      <td>1.136868e-12</td>\n",
       "      <td>1.292470e-24</td>\n",
       "    </tr>\n",
       "    <tr>\n",
       "      <th>26876</th>\n",
       "      <td>359.0</td>\n",
       "      <td>359.0</td>\n",
       "      <td>1.364242e-12</td>\n",
       "      <td>1.861156e-24</td>\n",
       "    </tr>\n",
       "  </tbody>\n",
       "</table>\n",
       "</div>"
      ],
      "text/plain": [
       "       Actual  Predicted     residuals           rss\n",
       "51610   381.0      381.0  1.364242e-12  1.861156e-24\n",
       "74578   315.0      315.0  2.160050e-12  4.665816e-24\n",
       "3247   1019.0     1019.0 -3.410605e-12  1.163223e-23\n",
       "1017    776.0      776.0  1.136868e-12  1.292470e-24\n",
       "26876   359.0      359.0  1.364242e-12  1.861156e-24"
      ]
     },
     "execution_count": 107,
     "metadata": {},
     "output_type": "execute_result"
    }
   ],
   "source": [
    "vals[\"rss\"] = (vals[\"residuals\"])**2\n",
    "vals.head()"
   ]
  },
  {
   "cell_type": "code",
   "execution_count": 128,
   "metadata": {},
   "outputs": [],
   "source": [
    "#line created by min RSS value of all tests\n",
    "y_eq = linreg.intercept_ +linreg.coef_ *X_test.loc[vals[\"rss\"].idxmin()]"
   ]
  },
  {
   "cell_type": "code",
   "execution_count": 129,
   "metadata": {},
   "outputs": [
    {
     "data": {
      "text/plain": [
       "CAD_INCIDENT_ID                -2.638125e-11\n",
       "INITIAL_CALL_TYPE              -2.014719e-11\n",
       "INITIAL_SEVERITY_LEVEL_CODE    -1.891264e-11\n",
       "DISPATCH_RESPONSE_SECONDS_QY   -3.400000e+01\n",
       "INCIDENT_RESPONSE_SECONDS_QY    6.770000e+02\n",
       "HELD_INDICATOR                 -2.006573e-11\n",
       "BOROUGH                        -2.006573e-11\n",
       "INCIDENT_DISPATCH_AREA         -2.006573e-11\n",
       "ZIPCODE                         2.897263e-12\n",
       "POLICEPRECINCT                 -2.005252e-11\n",
       "CITYCOUNCILDISTRICT            -2.006566e-11\n",
       "COMMUNITYDISTRICT              -1.990506e-11\n",
       "COMMUNITYSCHOOLDISTRICT        -2.007094e-11\n",
       "CONGRESSIONALDISTRICT          -2.005613e-11\n",
       "TRANSFER_INDICATOR             -2.006573e-11\n",
       "INCIDENT_Hour                  -2.005204e-11\n",
       "INCIDENT_Month                 -2.003952e-11\n",
       "FIRST_ASSIGNMENT_Hour          -2.008476e-11\n",
       "FIRST_ASSIGNMENT_Month         -2.003952e-11\n",
       "FIRST_ACTIVATION_Hour          -2.006198e-11\n",
       "FIRST_ACTIVATION_Month         -2.003952e-11\n",
       "FIRST_ON_SCENE_Hour            -2.005700e-11\n",
       "FIRST_ON_SCENE_Month           -2.014020e-11\n",
       "Name: 76752, dtype: float64"
      ]
     },
     "execution_count": 129,
     "metadata": {},
     "output_type": "execute_result"
    }
   ],
   "source": [
    "y_eq"
   ]
  },
  {
   "cell_type": "code",
   "execution_count": null,
   "metadata": {},
   "outputs": [],
   "source": [
    "#Make the eq relating each predictor to its coeff above and plot"
   ]
  },
  {
   "cell_type": "markdown",
   "metadata": {},
   "source": [
    "***Distribution of Residuals***"
   ]
  },
  {
   "cell_type": "markdown",
   "metadata": {},
   "source": [
    "Residuals should be approx normally distributed - they shouldn't follow a pattern. This can be inspected by plotting residuals as a histogram and/or using a probability plot."
   ]
  },
  {
   "cell_type": "code",
   "execution_count": 93,
   "metadata": {},
   "outputs": [],
   "source": [
    "from scipy import stats"
   ]
  },
  {
   "cell_type": "code",
   "execution_count": 94,
   "metadata": {},
   "outputs": [
    {
     "data": {
      "text/plain": [
       "(array([1.0000e+00, 0.0000e+00, 0.0000e+00, 0.0000e+00, 1.0000e+00,\n",
       "        2.0000e+00, 3.0000e+00, 2.5000e+01, 1.3200e+02, 2.4836e+04]),\n",
       " array([-1.65528036e-10, -1.48543933e-10, -1.31559830e-10, -1.14575727e-10,\n",
       "        -9.75916237e-11, -8.06075207e-11, -6.36234176e-11, -4.66393146e-11,\n",
       "        -2.96552116e-11, -1.26711086e-11,  4.31299441e-12]),\n",
       " <a list of 10 Patch objects>)"
      ]
     },
     "execution_count": 94,
     "metadata": {},
     "output_type": "execute_result"
    },
    {
     "data": {
      "image/png": "[encoded data removed]",
      "text/plain": [
       "<Figure size 432x288 with 1 Axes>"
      ]
     },
     "metadata": {
      "needs_background": "light"
     },
     "output_type": "display_data"
    }
   ],
   "source": [
    "plt.hist(vals[\"residuals\"])"
   ]
  },
  {
   "cell_type": "code",
   "execution_count": 140,
   "metadata": {},
   "outputs": [
    {
     "data": {
      "image/png": "[encoded data removed]",
      "text/plain": [
       "<Figure size 432x288 with 1 Axes>"
      ]
     },
     "metadata": {
      "needs_background": "light"
     },
     "output_type": "display_data"
    }
   ],
   "source": [
    "sns.distplot(vals[\"residuals\"])\n",
    "plt.show()"
   ]
  },
  {
   "cell_type": "markdown",
   "metadata": {},
   "source": [
    "Plot residuals vs normal distribution: red line shows best-fit line for the data. Plot shows actual distr of residual quantiles and a perfectly normal distr residuals. If graph perfectly overlaying on diagonal, the residuals are normally distr."
   ]
  },
  {
   "cell_type": "code",
   "execution_count": 141,
   "metadata": {},
   "outputs": [
    {
     "data": {
      "text/plain": [
       "((array([-4.03137704, -3.81788977, -3.70118272, ...,  3.70118272,\n",
       "          3.81788977,  4.03137704]),\n",
       "  array([-1.65528036e-10, -8.34461389e-11, -6.88942237e-11, ...,\n",
       "          4.07851530e-12,  4.24549285e-12,  4.31299441e-12])),\n",
       " (2.309062144920517e-12, -5.2994284516215956e-14, 0.7561267527406553))"
      ]
     },
     "execution_count": 141,
     "metadata": {},
     "output_type": "execute_result"
    },
    {
     "data": {
      "image/png": "[encoded data removed]",
      "text/plain": [
       "<Figure size 432x288 with 1 Axes>"
      ]
     },
     "metadata": {
      "needs_background": "light"
     },
     "output_type": "display_data"
    }
   ],
   "source": [
    "stats.probplot(vals[\"residuals\"],plot=plt)"
   ]
  },
  {
   "cell_type": "code",
   "execution_count": 96,
   "metadata": {},
   "outputs": [
    {
     "data": {
      "text/plain": [
       "KstestResult(statistic=0.4999999999982794, pvalue=0.0)"
      ]
     },
     "execution_count": 96,
     "metadata": {},
     "output_type": "execute_result"
    }
   ],
   "source": [
    "stats.kstest(vals[\"residuals\"], 'norm')"
   ]
  },
  {
   "cell_type": "markdown",
   "metadata": {},
   "source": [
    "***Relationship between Residuals & Predictors***"
   ]
  },
  {
   "cell_type": "markdown",
   "metadata": {},
   "source": [
    "Plot relationship between residuals and predicting variables (features in X) to look for the independence assumption. In linear regression, it is assumed that the errors (residuals of fitted model) are independent of each other. If residuals are distributed uniformly randomly around the zero x-axes and don't form specific clusters, then the assumption holds true. If the pts in a residual plot are randomly disperesed around the horiz axis, a linear reg model is appropriate for the data. There shouldn't be patterns in these."
   ]
  },
  {
   "cell_type": "code",
   "execution_count": 97,
   "metadata": {},
   "outputs": [
    {
     "data": {
      "image/png": "[encoded data removed]",
      "text/plain": [
       "<Figure size 432x288 with 1 Axes>"
      ]
     },
     "metadata": {
      "needs_background": "light"
     },
     "output_type": "display_data"
    }
   ],
   "source": [
    "plt.scatter(X_test[\"INITIAL_CALL_TYPE\"],vals[\"residuals\"])\n",
    "plt.xlabel(\"INITIAL_CALL_TYPE - predictor\")\n",
    "plt.ylabel(\"residuals\")\n",
    "plt.title(\"INITIAL CALL TYPE vs res\")\n",
    "plt.show()"
   ]
  },
  {
   "cell_type": "code",
   "execution_count": 98,
   "metadata": {},
   "outputs": [
    {
     "data": {
      "image/png": "[encoded data removed]",
      "text/plain": [
       "<Figure size 432x288 with 1 Axes>"
      ]
     },
     "metadata": {
      "needs_background": "light"
     },
     "output_type": "display_data"
    }
   ],
   "source": [
    "plt.scatter(X_test[\"INITIAL_SEVERITY_LEVEL_CODE\"],vals[\"residuals\"])\n",
    "plt.xlabel(\"INITIAL_SEVERITY_LEVEL_CODE - predictor\")\n",
    "plt.ylabel(\"residual\")\n",
    "plt.title(\"INITIAL SEVERITY LEVEL vs res\")\n",
    "plt.show()"
   ]
  },
  {
   "cell_type": "code",
   "execution_count": 99,
   "metadata": {},
   "outputs": [
    {
     "data": {
      "image/png": "[encoded data removed]",
      "text/plain": [
       "<Figure size 432x288 with 1 Axes>"
      ]
     },
     "metadata": {
      "needs_background": "light"
     },
     "output_type": "display_data"
    }
   ],
   "source": [
    "plt.scatter(X_test[\"INCIDENT_DISPATCH_AREA\"],vals[\"residuals\"])\n",
    "plt.xlabel(\"INCIDENT_DISPATCH_AREA - predictor\")\n",
    "plt.ylabel(\"residual\")\n",
    "plt.title(\"INCIDENT DISPATCH AREA vs res\")\n",
    "plt.show()"
   ]
  },
  {
   "cell_type": "code",
   "execution_count": null,
   "metadata": {},
   "outputs": [],
   "source": []
  }
 ],
 "metadata": {
  "kernelspec": {
   "display_name": "Python 3",
   "language": "python",
   "name": "python3"
  },
  "language_info": {
   "codemirror_mode": {
    "name": "ipython",
    "version": 3
   },
   "file_extension": ".py",
   "mimetype": "text/x-python",
   "name": "python",
   "nbconvert_exporter": "python",
   "pygments_lexer": "ipython3",
   "version": "3.7.3"
  }
 },
 "nbformat": 4,
 "nbformat_minor": 2
}
