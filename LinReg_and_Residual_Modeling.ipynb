{
 "cells": [
  {
   "cell_type": "code",
   "execution_count": 4,
   "metadata": {},
   "outputs": [],
   "source": [
    "import os\n",
    "import numpy as np\n",
    "import pandas as pd\n",
    "import sklearn\n",
    "from sklearn.model_selection import cross_validate\n",
    "from sklearn.model_selection import train_test_split\n",
    "from sklearn import linear_model\n",
    "import matplotlib.pyplot as plt\n",
    "\n",
    "import warnings\n",
    "warnings.filterwarnings('ignore')"
   ]
  },
  {
   "cell_type": "code",
   "execution_count": 15,
   "metadata": {},
   "outputs": [],
   "source": [
    "directory = os.getcwd()\n",
    "data = pd.read_csv(directory + '/EMS_2017_2018_cat_final.csv', sep=',') "
   ]
  },
  {
   "cell_type": "code",
   "execution_count": 16,
   "metadata": {
    "scrolled": true
   },
   "outputs": [
    {
     "data": {
      "text/html": [
       "<div>\n",
       "<style scoped>\n",
       "    .dataframe tbody tr th:only-of-type {\n",
       "        vertical-align: middle;\n",
       "    }\n",
       "\n",
       "    .dataframe tbody tr th {\n",
       "        vertical-align: top;\n",
       "    }\n",
       "\n",
       "    .dataframe thead th {\n",
       "        text-align: right;\n",
       "    }\n",
       "</style>\n",
       "<table border=\"1\" class=\"dataframe\">\n",
       "  <thead>\n",
       "    <tr style=\"text-align: right;\">\n",
       "      <th></th>\n",
       "      <th>CAD_INCIDENT_ID</th>\n",
       "      <th>INCIDENT_DATETIME</th>\n",
       "      <th>INITIAL_CALL_TYPE</th>\n",
       "      <th>INITIAL_SEVERITY_LEVEL_CODE</th>\n",
       "      <th>FIRST_ASSIGNMENT_DATETIME</th>\n",
       "      <th>DISPATCH_RESPONSE_SECONDS_QY</th>\n",
       "      <th>FIRST_ACTIVATION_DATETIME</th>\n",
       "      <th>FIRST_ON_SCENE_DATETIME</th>\n",
       "      <th>INCIDENT_RESPONSE_SECONDS_QY</th>\n",
       "      <th>INCIDENT_TRAVEL_TM_SECONDS_QY</th>\n",
       "      <th>...</th>\n",
       "      <th>CONGRESSIONALDISTRICT</th>\n",
       "      <th>TRANSFER_INDICATOR</th>\n",
       "      <th>INCIDENT_Hour</th>\n",
       "      <th>INCIDENT_Month</th>\n",
       "      <th>FIRST_ASSIGNMENT_Hour</th>\n",
       "      <th>FIRST_ASSIGNMENT_Month</th>\n",
       "      <th>FIRST_ACTIVATION_Hour</th>\n",
       "      <th>FIRST_ACTIVATION_Month</th>\n",
       "      <th>FIRST_ON_SCENE_Hour</th>\n",
       "      <th>FIRST_ON_SCENE_Month</th>\n",
       "    </tr>\n",
       "  </thead>\n",
       "  <tbody>\n",
       "    <tr>\n",
       "      <th>0</th>\n",
       "      <td>183654386</td>\n",
       "      <td>2018-12-31 23:59:46</td>\n",
       "      <td>14</td>\n",
       "      <td>2</td>\n",
       "      <td>2018-12-31 23:59:54</td>\n",
       "      <td>8</td>\n",
       "      <td>2019-01-01 00:00:51</td>\n",
       "      <td>2019-01-01 00:07:27</td>\n",
       "      <td>461.0</td>\n",
       "      <td>453.0</td>\n",
       "      <td>...</td>\n",
       "      <td>8.0</td>\n",
       "      <td>0</td>\n",
       "      <td>23</td>\n",
       "      <td>12</td>\n",
       "      <td>23</td>\n",
       "      <td>12</td>\n",
       "      <td>0</td>\n",
       "      <td>1</td>\n",
       "      <td>0</td>\n",
       "      <td>1</td>\n",
       "    </tr>\n",
       "    <tr>\n",
       "      <th>1</th>\n",
       "      <td>183654358</td>\n",
       "      <td>2018-12-31 23:49:42</td>\n",
       "      <td>92</td>\n",
       "      <td>2</td>\n",
       "      <td>2018-12-31 23:50:07</td>\n",
       "      <td>25</td>\n",
       "      <td>2018-12-31 23:50:27</td>\n",
       "      <td>2018-12-31 23:55:10</td>\n",
       "      <td>328.0</td>\n",
       "      <td>303.0</td>\n",
       "      <td>...</td>\n",
       "      <td>8.0</td>\n",
       "      <td>0</td>\n",
       "      <td>23</td>\n",
       "      <td>12</td>\n",
       "      <td>23</td>\n",
       "      <td>12</td>\n",
       "      <td>23</td>\n",
       "      <td>12</td>\n",
       "      <td>23</td>\n",
       "      <td>12</td>\n",
       "    </tr>\n",
       "    <tr>\n",
       "      <th>2</th>\n",
       "      <td>183654307</td>\n",
       "      <td>2018-12-31 23:38:46</td>\n",
       "      <td>92</td>\n",
       "      <td>2</td>\n",
       "      <td>2018-12-31 23:39:11</td>\n",
       "      <td>25</td>\n",
       "      <td>2018-12-31 23:39:44</td>\n",
       "      <td>2018-12-31 23:41:00</td>\n",
       "      <td>134.0</td>\n",
       "      <td>109.0</td>\n",
       "      <td>...</td>\n",
       "      <td>7.0</td>\n",
       "      <td>0</td>\n",
       "      <td>23</td>\n",
       "      <td>12</td>\n",
       "      <td>23</td>\n",
       "      <td>12</td>\n",
       "      <td>23</td>\n",
       "      <td>12</td>\n",
       "      <td>23</td>\n",
       "      <td>12</td>\n",
       "    </tr>\n",
       "    <tr>\n",
       "      <th>3</th>\n",
       "      <td>183654254</td>\n",
       "      <td>2018-12-31 23:24:58</td>\n",
       "      <td>81</td>\n",
       "      <td>6</td>\n",
       "      <td>2018-12-31 23:25:09</td>\n",
       "      <td>11</td>\n",
       "      <td>2018-12-31 23:25:37</td>\n",
       "      <td>2018-12-31 23:32:03</td>\n",
       "      <td>425.0</td>\n",
       "      <td>414.0</td>\n",
       "      <td>...</td>\n",
       "      <td>7.0</td>\n",
       "      <td>0</td>\n",
       "      <td>23</td>\n",
       "      <td>12</td>\n",
       "      <td>23</td>\n",
       "      <td>12</td>\n",
       "      <td>23</td>\n",
       "      <td>12</td>\n",
       "      <td>23</td>\n",
       "      <td>12</td>\n",
       "    </tr>\n",
       "    <tr>\n",
       "      <th>4</th>\n",
       "      <td>183654246</td>\n",
       "      <td>2018-12-31 23:23:35</td>\n",
       "      <td>84</td>\n",
       "      <td>7</td>\n",
       "      <td>2018-12-31 23:23:45</td>\n",
       "      <td>10</td>\n",
       "      <td>2018-12-31 23:23:57</td>\n",
       "      <td>2018-12-31 23:38:33</td>\n",
       "      <td>898.0</td>\n",
       "      <td>888.0</td>\n",
       "      <td>...</td>\n",
       "      <td>9.0</td>\n",
       "      <td>0</td>\n",
       "      <td>23</td>\n",
       "      <td>12</td>\n",
       "      <td>23</td>\n",
       "      <td>12</td>\n",
       "      <td>23</td>\n",
       "      <td>12</td>\n",
       "      <td>23</td>\n",
       "      <td>12</td>\n",
       "    </tr>\n",
       "  </tbody>\n",
       "</table>\n",
       "<p>5 rows × 28 columns</p>\n",
       "</div>"
      ],
      "text/plain": [
       "   CAD_INCIDENT_ID    INCIDENT_DATETIME  INITIAL_CALL_TYPE  \\\n",
       "0        183654386  2018-12-31 23:59:46                 14   \n",
       "1        183654358  2018-12-31 23:49:42                 92   \n",
       "2        183654307  2018-12-31 23:38:46                 92   \n",
       "3        183654254  2018-12-31 23:24:58                 81   \n",
       "4        183654246  2018-12-31 23:23:35                 84   \n",
       "\n",
       "   INITIAL_SEVERITY_LEVEL_CODE FIRST_ASSIGNMENT_DATETIME  \\\n",
       "0                            2       2018-12-31 23:59:54   \n",
       "1                            2       2018-12-31 23:50:07   \n",
       "2                            2       2018-12-31 23:39:11   \n",
       "3                            6       2018-12-31 23:25:09   \n",
       "4                            7       2018-12-31 23:23:45   \n",
       "\n",
       "   DISPATCH_RESPONSE_SECONDS_QY FIRST_ACTIVATION_DATETIME  \\\n",
       "0                             8       2019-01-01 00:00:51   \n",
       "1                            25       2018-12-31 23:50:27   \n",
       "2                            25       2018-12-31 23:39:44   \n",
       "3                            11       2018-12-31 23:25:37   \n",
       "4                            10       2018-12-31 23:23:57   \n",
       "\n",
       "  FIRST_ON_SCENE_DATETIME  INCIDENT_RESPONSE_SECONDS_QY  \\\n",
       "0     2019-01-01 00:07:27                         461.0   \n",
       "1     2018-12-31 23:55:10                         328.0   \n",
       "2     2018-12-31 23:41:00                         134.0   \n",
       "3     2018-12-31 23:32:03                         425.0   \n",
       "4     2018-12-31 23:38:33                         898.0   \n",
       "\n",
       "   INCIDENT_TRAVEL_TM_SECONDS_QY  ...  CONGRESSIONALDISTRICT  \\\n",
       "0                          453.0  ...                    8.0   \n",
       "1                          303.0  ...                    8.0   \n",
       "2                          109.0  ...                    7.0   \n",
       "3                          414.0  ...                    7.0   \n",
       "4                          888.0  ...                    9.0   \n",
       "\n",
       "   TRANSFER_INDICATOR  INCIDENT_Hour  INCIDENT_Month  FIRST_ASSIGNMENT_Hour  \\\n",
       "0                   0             23              12                     23   \n",
       "1                   0             23              12                     23   \n",
       "2                   0             23              12                     23   \n",
       "3                   0             23              12                     23   \n",
       "4                   0             23              12                     23   \n",
       "\n",
       "   FIRST_ASSIGNMENT_Month  FIRST_ACTIVATION_Hour  FIRST_ACTIVATION_Month  \\\n",
       "0                      12                      0                       1   \n",
       "1                      12                     23                      12   \n",
       "2                      12                     23                      12   \n",
       "3                      12                     23                      12   \n",
       "4                      12                     23                      12   \n",
       "\n",
       "   FIRST_ON_SCENE_Hour  FIRST_ON_SCENE_Month  \n",
       "0                    0                     1  \n",
       "1                   23                    12  \n",
       "2                   23                    12  \n",
       "3                   23                    12  \n",
       "4                   23                    12  \n",
       "\n",
       "[5 rows x 28 columns]"
      ]
     },
     "execution_count": 16,
     "metadata": {},
     "output_type": "execute_result"
    }
   ],
   "source": [
    "data.head()"
   ]
  },
  {
   "cell_type": "code",
   "execution_count": 17,
   "metadata": {},
   "outputs": [],
   "source": [
    "data = data.drop(columns = [\"INCIDENT_DATETIME\",\"FIRST_ASSIGNMENT_DATETIME\",\"FIRST_ACTIVATION_DATETIME\",\"FIRST_ON_SCENE_DATETIME\"])"
   ]
  },
  {
   "cell_type": "code",
   "execution_count": 18,
   "metadata": {},
   "outputs": [
    {
     "data": {
      "text/html": [
       "<div>\n",
       "<style scoped>\n",
       "    .dataframe tbody tr th:only-of-type {\n",
       "        vertical-align: middle;\n",
       "    }\n",
       "\n",
       "    .dataframe tbody tr th {\n",
       "        vertical-align: top;\n",
       "    }\n",
       "\n",
       "    .dataframe thead th {\n",
       "        text-align: right;\n",
       "    }\n",
       "</style>\n",
       "<table border=\"1\" class=\"dataframe\">\n",
       "  <thead>\n",
       "    <tr style=\"text-align: right;\">\n",
       "      <th></th>\n",
       "      <th>CAD_INCIDENT_ID</th>\n",
       "      <th>INITIAL_CALL_TYPE</th>\n",
       "      <th>INITIAL_SEVERITY_LEVEL_CODE</th>\n",
       "      <th>DISPATCH_RESPONSE_SECONDS_QY</th>\n",
       "      <th>INCIDENT_RESPONSE_SECONDS_QY</th>\n",
       "      <th>INCIDENT_TRAVEL_TM_SECONDS_QY</th>\n",
       "      <th>HELD_INDICATOR</th>\n",
       "      <th>BOROUGH</th>\n",
       "      <th>INCIDENT_DISPATCH_AREA</th>\n",
       "      <th>ZIPCODE</th>\n",
       "      <th>...</th>\n",
       "      <th>CONGRESSIONALDISTRICT</th>\n",
       "      <th>TRANSFER_INDICATOR</th>\n",
       "      <th>INCIDENT_Hour</th>\n",
       "      <th>INCIDENT_Month</th>\n",
       "      <th>FIRST_ASSIGNMENT_Hour</th>\n",
       "      <th>FIRST_ASSIGNMENT_Month</th>\n",
       "      <th>FIRST_ACTIVATION_Hour</th>\n",
       "      <th>FIRST_ACTIVATION_Month</th>\n",
       "      <th>FIRST_ON_SCENE_Hour</th>\n",
       "      <th>FIRST_ON_SCENE_Month</th>\n",
       "    </tr>\n",
       "  </thead>\n",
       "  <tbody>\n",
       "    <tr>\n",
       "      <th>0</th>\n",
       "      <td>183654386</td>\n",
       "      <td>14</td>\n",
       "      <td>2</td>\n",
       "      <td>8</td>\n",
       "      <td>461.0</td>\n",
       "      <td>453.0</td>\n",
       "      <td>0</td>\n",
       "      <td>1</td>\n",
       "      <td>12</td>\n",
       "      <td>11201.0</td>\n",
       "      <td>...</td>\n",
       "      <td>8.0</td>\n",
       "      <td>0</td>\n",
       "      <td>23</td>\n",
       "      <td>12</td>\n",
       "      <td>23</td>\n",
       "      <td>12</td>\n",
       "      <td>0</td>\n",
       "      <td>1</td>\n",
       "      <td>0</td>\n",
       "      <td>1</td>\n",
       "    </tr>\n",
       "    <tr>\n",
       "      <th>1</th>\n",
       "      <td>183654358</td>\n",
       "      <td>92</td>\n",
       "      <td>2</td>\n",
       "      <td>25</td>\n",
       "      <td>328.0</td>\n",
       "      <td>303.0</td>\n",
       "      <td>0</td>\n",
       "      <td>1</td>\n",
       "      <td>12</td>\n",
       "      <td>11201.0</td>\n",
       "      <td>...</td>\n",
       "      <td>8.0</td>\n",
       "      <td>0</td>\n",
       "      <td>23</td>\n",
       "      <td>12</td>\n",
       "      <td>23</td>\n",
       "      <td>12</td>\n",
       "      <td>23</td>\n",
       "      <td>12</td>\n",
       "      <td>23</td>\n",
       "      <td>12</td>\n",
       "    </tr>\n",
       "    <tr>\n",
       "      <th>2</th>\n",
       "      <td>183654307</td>\n",
       "      <td>92</td>\n",
       "      <td>2</td>\n",
       "      <td>25</td>\n",
       "      <td>134.0</td>\n",
       "      <td>109.0</td>\n",
       "      <td>0</td>\n",
       "      <td>1</td>\n",
       "      <td>12</td>\n",
       "      <td>11215.0</td>\n",
       "      <td>...</td>\n",
       "      <td>7.0</td>\n",
       "      <td>0</td>\n",
       "      <td>23</td>\n",
       "      <td>12</td>\n",
       "      <td>23</td>\n",
       "      <td>12</td>\n",
       "      <td>23</td>\n",
       "      <td>12</td>\n",
       "      <td>23</td>\n",
       "      <td>12</td>\n",
       "    </tr>\n",
       "    <tr>\n",
       "      <th>3</th>\n",
       "      <td>183654254</td>\n",
       "      <td>81</td>\n",
       "      <td>6</td>\n",
       "      <td>11</td>\n",
       "      <td>425.0</td>\n",
       "      <td>414.0</td>\n",
       "      <td>0</td>\n",
       "      <td>1</td>\n",
       "      <td>12</td>\n",
       "      <td>11201.0</td>\n",
       "      <td>...</td>\n",
       "      <td>7.0</td>\n",
       "      <td>0</td>\n",
       "      <td>23</td>\n",
       "      <td>12</td>\n",
       "      <td>23</td>\n",
       "      <td>12</td>\n",
       "      <td>23</td>\n",
       "      <td>12</td>\n",
       "      <td>23</td>\n",
       "      <td>12</td>\n",
       "    </tr>\n",
       "    <tr>\n",
       "      <th>4</th>\n",
       "      <td>183654246</td>\n",
       "      <td>84</td>\n",
       "      <td>7</td>\n",
       "      <td>10</td>\n",
       "      <td>898.0</td>\n",
       "      <td>888.0</td>\n",
       "      <td>0</td>\n",
       "      <td>1</td>\n",
       "      <td>12</td>\n",
       "      <td>11215.0</td>\n",
       "      <td>...</td>\n",
       "      <td>9.0</td>\n",
       "      <td>0</td>\n",
       "      <td>23</td>\n",
       "      <td>12</td>\n",
       "      <td>23</td>\n",
       "      <td>12</td>\n",
       "      <td>23</td>\n",
       "      <td>12</td>\n",
       "      <td>23</td>\n",
       "      <td>12</td>\n",
       "    </tr>\n",
       "  </tbody>\n",
       "</table>\n",
       "<p>5 rows × 24 columns</p>\n",
       "</div>"
      ],
      "text/plain": [
       "   CAD_INCIDENT_ID  INITIAL_CALL_TYPE  INITIAL_SEVERITY_LEVEL_CODE  \\\n",
       "0        183654386                 14                            2   \n",
       "1        183654358                 92                            2   \n",
       "2        183654307                 92                            2   \n",
       "3        183654254                 81                            6   \n",
       "4        183654246                 84                            7   \n",
       "\n",
       "   DISPATCH_RESPONSE_SECONDS_QY  INCIDENT_RESPONSE_SECONDS_QY  \\\n",
       "0                             8                         461.0   \n",
       "1                            25                         328.0   \n",
       "2                            25                         134.0   \n",
       "3                            11                         425.0   \n",
       "4                            10                         898.0   \n",
       "\n",
       "   INCIDENT_TRAVEL_TM_SECONDS_QY  HELD_INDICATOR  BOROUGH  \\\n",
       "0                          453.0               0        1   \n",
       "1                          303.0               0        1   \n",
       "2                          109.0               0        1   \n",
       "3                          414.0               0        1   \n",
       "4                          888.0               0        1   \n",
       "\n",
       "   INCIDENT_DISPATCH_AREA  ZIPCODE  ...  CONGRESSIONALDISTRICT  \\\n",
       "0                      12  11201.0  ...                    8.0   \n",
       "1                      12  11201.0  ...                    8.0   \n",
       "2                      12  11215.0  ...                    7.0   \n",
       "3                      12  11201.0  ...                    7.0   \n",
       "4                      12  11215.0  ...                    9.0   \n",
       "\n",
       "   TRANSFER_INDICATOR  INCIDENT_Hour  INCIDENT_Month  FIRST_ASSIGNMENT_Hour  \\\n",
       "0                   0             23              12                     23   \n",
       "1                   0             23              12                     23   \n",
       "2                   0             23              12                     23   \n",
       "3                   0             23              12                     23   \n",
       "4                   0             23              12                     23   \n",
       "\n",
       "   FIRST_ASSIGNMENT_Month  FIRST_ACTIVATION_Hour  FIRST_ACTIVATION_Month  \\\n",
       "0                      12                      0                       1   \n",
       "1                      12                     23                      12   \n",
       "2                      12                     23                      12   \n",
       "3                      12                     23                      12   \n",
       "4                      12                     23                      12   \n",
       "\n",
       "   FIRST_ON_SCENE_Hour  FIRST_ON_SCENE_Month  \n",
       "0                    0                     1  \n",
       "1                   23                    12  \n",
       "2                   23                    12  \n",
       "3                   23                    12  \n",
       "4                   23                    12  \n",
       "\n",
       "[5 rows x 24 columns]"
      ]
     },
     "execution_count": 18,
     "metadata": {},
     "output_type": "execute_result"
    }
   ],
   "source": [
    "data.head()"
   ]
  },
  {
   "cell_type": "code",
   "execution_count": 19,
   "metadata": {},
   "outputs": [],
   "source": [
    "#shuffle the data\n",
    "data['r'] = np.random.random(data.shape[0]) \n",
    "data = data.sort_values(by = 'r').reset_index(drop = True)\n",
    "data = data.drop('r', 1)"
   ]
  },
  {
   "cell_type": "code",
   "execution_count": 20,
   "metadata": {},
   "outputs": [],
   "source": [
    "#using 100,000 rows just for this exercise - for real modeling use all data\n",
    "data = data[:100000]"
   ]
  },
  {
   "cell_type": "code",
   "execution_count": 21,
   "metadata": {},
   "outputs": [
    {
     "data": {
      "text/plain": [
       "(100000, 24)"
      ]
     },
     "execution_count": 21,
     "metadata": {},
     "output_type": "execute_result"
    }
   ],
   "source": [
    "data.shape"
   ]
  },
  {
   "cell_type": "markdown",
   "metadata": {},
   "source": [
    "***LINEAR REGRESSION***"
   ]
  },
  {
   "cell_type": "markdown",
   "metadata": {},
   "source": [
    "Create linear regression model and fit with training dataset"
   ]
  },
  {
   "cell_type": "code",
   "execution_count": 110,
   "metadata": {},
   "outputs": [],
   "source": [
    "from sklearn.linear_model import LinearRegression"
   ]
  },
  {
   "cell_type": "code",
   "execution_count": 111,
   "metadata": {},
   "outputs": [],
   "source": [
    "#X is predictors, Y is value to be predicted\n",
    "X = data.drop(columns = [\"INCIDENT_TRAVEL_TM_SECONDS_QY\"])\n",
    "Y = data[\"INCIDENT_TRAVEL_TM_SECONDS_QY\"]"
   ]
  },
  {
   "cell_type": "code",
   "execution_count": 112,
   "metadata": {},
   "outputs": [],
   "source": [
    "#splitting into training and testing datasets\n",
    "X_train, X_test, Y_train, Y_test = train_test_split(X, Y, train_size=.75)"
   ]
  },
  {
   "cell_type": "code",
   "execution_count": 113,
   "metadata": {},
   "outputs": [
    {
     "data": {
      "text/plain": [
       "(25000, 23)"
      ]
     },
     "execution_count": 113,
     "metadata": {},
     "output_type": "execute_result"
    }
   ],
   "source": [
    "X_test.shape"
   ]
  },
  {
   "cell_type": "code",
   "execution_count": 123,
   "metadata": {},
   "outputs": [
    {
     "data": {
      "text/plain": [
       "64408    501.0\n",
       "88507    549.0\n",
       "28280    650.0\n",
       "61958    282.0\n",
       "10985    714.0\n",
       "Name: INCIDENT_TRAVEL_TM_SECONDS_QY, dtype: float64"
      ]
     },
     "execution_count": 123,
     "metadata": {},
     "output_type": "execute_result"
    }
   ],
   "source": [
    "Y_test.head()"
   ]
  },
  {
   "cell_type": "code",
   "execution_count": 114,
   "metadata": {},
   "outputs": [],
   "source": [
    "#create linear regression model\n",
    "linreg = LinearRegression()\n",
    "linreg = linreg.fit(X_train,Y_train) #fit model with training data"
   ]
  },
  {
   "cell_type": "code",
   "execution_count": 115,
   "metadata": {},
   "outputs": [
    {
     "name": "stdout",
     "output_type": "stream",
     "text": [
      "-1.7962520360015333e-11\n"
     ]
    }
   ],
   "source": [
    "#Intercept\n",
    "print(linreg.intercept_)"
   ]
  },
  {
   "cell_type": "code",
   "execution_count": 116,
   "metadata": {},
   "outputs": [
    {
     "data": {
      "text/html": [
       "<div>\n",
       "<style scoped>\n",
       "    .dataframe tbody tr th:only-of-type {\n",
       "        vertical-align: middle;\n",
       "    }\n",
       "\n",
       "    .dataframe tbody tr th {\n",
       "        vertical-align: top;\n",
       "    }\n",
       "\n",
       "    .dataframe thead th {\n",
       "        text-align: right;\n",
       "    }\n",
       "</style>\n",
       "<table border=\"1\" class=\"dataframe\">\n",
       "  <thead>\n",
       "    <tr style=\"text-align: right;\">\n",
       "      <th></th>\n",
       "      <th>Coefficient</th>\n",
       "      <th>Predictors</th>\n",
       "    </tr>\n",
       "  </thead>\n",
       "  <tbody>\n",
       "    <tr>\n",
       "      <th>0</th>\n",
       "      <td>-6.503478e-21</td>\n",
       "      <td>CAD_INCIDENT_ID</td>\n",
       "    </tr>\n",
       "    <tr>\n",
       "      <th>1</th>\n",
       "      <td>2.684294e-15</td>\n",
       "      <td>INITIAL_CALL_TYPE</td>\n",
       "    </tr>\n",
       "    <tr>\n",
       "      <th>2</th>\n",
       "      <td>-3.457545e-14</td>\n",
       "      <td>INITIAL_SEVERITY_LEVEL_CODE</td>\n",
       "    </tr>\n",
       "    <tr>\n",
       "      <th>3</th>\n",
       "      <td>-1.000000e+00</td>\n",
       "      <td>DISPATCH_RESPONSE_SECONDS_QY</td>\n",
       "    </tr>\n",
       "    <tr>\n",
       "      <th>4</th>\n",
       "      <td>1.000000e+00</td>\n",
       "      <td>INCIDENT_RESPONSE_SECONDS_QY</td>\n",
       "    </tr>\n",
       "    <tr>\n",
       "      <th>5</th>\n",
       "      <td>1.268626e-13</td>\n",
       "      <td>HELD_INDICATOR</td>\n",
       "    </tr>\n",
       "    <tr>\n",
       "      <th>6</th>\n",
       "      <td>3.832134e-14</td>\n",
       "      <td>BOROUGH</td>\n",
       "    </tr>\n",
       "    <tr>\n",
       "      <th>7</th>\n",
       "      <td>-3.645286e-15</td>\n",
       "      <td>INCIDENT_DISPATCH_AREA</td>\n",
       "    </tr>\n",
       "    <tr>\n",
       "      <th>8</th>\n",
       "      <td>1.778060e-15</td>\n",
       "      <td>ZIPCODE</td>\n",
       "    </tr>\n",
       "    <tr>\n",
       "      <th>9</th>\n",
       "      <td>-2.356746e-16</td>\n",
       "      <td>POLICEPRECINCT</td>\n",
       "    </tr>\n",
       "    <tr>\n",
       "      <th>10</th>\n",
       "      <td>4.498649e-16</td>\n",
       "      <td>CITYCOUNCILDISTRICT</td>\n",
       "    </tr>\n",
       "    <tr>\n",
       "      <th>11</th>\n",
       "      <td>-2.750863e-16</td>\n",
       "      <td>COMMUNITYDISTRICT</td>\n",
       "    </tr>\n",
       "    <tr>\n",
       "      <th>12</th>\n",
       "      <td>8.189420e-16</td>\n",
       "      <td>COMMUNITYSCHOOLDISTRICT</td>\n",
       "    </tr>\n",
       "    <tr>\n",
       "      <th>13</th>\n",
       "      <td>9.508859e-16</td>\n",
       "      <td>CONGRESSIONALDISTRICT</td>\n",
       "    </tr>\n",
       "    <tr>\n",
       "      <th>14</th>\n",
       "      <td>1.665873e-14</td>\n",
       "      <td>TRANSFER_INDICATOR</td>\n",
       "    </tr>\n",
       "    <tr>\n",
       "      <th>15</th>\n",
       "      <td>-1.334236e-15</td>\n",
       "      <td>INCIDENT_Hour</td>\n",
       "    </tr>\n",
       "    <tr>\n",
       "      <th>16</th>\n",
       "      <td>5.364236e-14</td>\n",
       "      <td>INCIDENT_Month</td>\n",
       "    </tr>\n",
       "    <tr>\n",
       "      <th>17</th>\n",
       "      <td>1.680523e-15</td>\n",
       "      <td>FIRST_ASSIGNMENT_Hour</td>\n",
       "    </tr>\n",
       "    <tr>\n",
       "      <th>18</th>\n",
       "      <td>-2.830797e-14</td>\n",
       "      <td>FIRST_ASSIGNMENT_Month</td>\n",
       "    </tr>\n",
       "    <tr>\n",
       "      <th>19</th>\n",
       "      <td>-5.756749e-16</td>\n",
       "      <td>FIRST_ACTIVATION_Hour</td>\n",
       "    </tr>\n",
       "    <tr>\n",
       "      <th>20</th>\n",
       "      <td>-2.830797e-14</td>\n",
       "      <td>FIRST_ACTIVATION_Month</td>\n",
       "    </tr>\n",
       "    <tr>\n",
       "      <th>21</th>\n",
       "      <td>1.762057e-16</td>\n",
       "      <td>FIRST_ON_SCENE_Hour</td>\n",
       "    </tr>\n",
       "    <tr>\n",
       "      <th>22</th>\n",
       "      <td>1.687875e-14</td>\n",
       "      <td>FIRST_ON_SCENE_Month</td>\n",
       "    </tr>\n",
       "  </tbody>\n",
       "</table>\n",
       "</div>"
      ],
      "text/plain": [
       "     Coefficient                    Predictors\n",
       "0  -6.503478e-21               CAD_INCIDENT_ID\n",
       "1   2.684294e-15             INITIAL_CALL_TYPE\n",
       "2  -3.457545e-14   INITIAL_SEVERITY_LEVEL_CODE\n",
       "3  -1.000000e+00  DISPATCH_RESPONSE_SECONDS_QY\n",
       "4   1.000000e+00  INCIDENT_RESPONSE_SECONDS_QY\n",
       "5   1.268626e-13                HELD_INDICATOR\n",
       "6   3.832134e-14                       BOROUGH\n",
       "7  -3.645286e-15        INCIDENT_DISPATCH_AREA\n",
       "8   1.778060e-15                       ZIPCODE\n",
       "9  -2.356746e-16                POLICEPRECINCT\n",
       "10  4.498649e-16           CITYCOUNCILDISTRICT\n",
       "11 -2.750863e-16             COMMUNITYDISTRICT\n",
       "12  8.189420e-16       COMMUNITYSCHOOLDISTRICT\n",
       "13  9.508859e-16         CONGRESSIONALDISTRICT\n",
       "14  1.665873e-14            TRANSFER_INDICATOR\n",
       "15 -1.334236e-15                 INCIDENT_Hour\n",
       "16  5.364236e-14                INCIDENT_Month\n",
       "17  1.680523e-15         FIRST_ASSIGNMENT_Hour\n",
       "18 -2.830797e-14        FIRST_ASSIGNMENT_Month\n",
       "19 -5.756749e-16         FIRST_ACTIVATION_Hour\n",
       "20 -2.830797e-14        FIRST_ACTIVATION_Month\n",
       "21  1.762057e-16           FIRST_ON_SCENE_Hour\n",
       "22  1.687875e-14          FIRST_ON_SCENE_Month"
      ]
     },
     "execution_count": 116,
     "metadata": {},
     "output_type": "execute_result"
    }
   ],
   "source": [
    "#Coefficients/Slopes for each predictor\n",
    "a = pd.DataFrame(linreg.coef_.transpose(),columns = [\"Coefficient\"])\n",
    "b = pd.DataFrame(X_train.columns, columns = [\"Predictors\"])\n",
    "coeff = pd.concat([a,b],axis=1)\n",
    "coeff"
   ]
  },
  {
   "cell_type": "code",
   "execution_count": 117,
   "metadata": {},
   "outputs": [
    {
     "data": {
      "text/plain": [
       "1.0"
      ]
     },
     "execution_count": 117,
     "metadata": {},
     "output_type": "execute_result"
    }
   ],
   "source": [
    "#R2 value\n",
    "r_sq = linreg.score(X_test,Y_test)\n",
    "r_sq"
   ]
  },
  {
   "cell_type": "markdown",
   "metadata": {},
   "source": [
    "***Model Predictions***"
   ]
  },
  {
   "cell_type": "code",
   "execution_count": 118,
   "metadata": {},
   "outputs": [
    {
     "data": {
      "text/plain": [
       "array([501., 549., 650., ..., 299., 360., 429.])"
      ]
     },
     "execution_count": 118,
     "metadata": {},
     "output_type": "execute_result"
    }
   ],
   "source": [
    "#estimate predictions from model\n",
    "Y_pred = linreg.predict(X_test)\n",
    "Y_pred"
   ]
  },
  {
   "cell_type": "markdown",
   "metadata": {},
   "source": [
    "***Linear Regression Equation***"
   ]
  },
  {
   "cell_type": "code",
   "execution_count": 119,
   "metadata": {},
   "outputs": [],
   "source": [
    "#This is the same as y_pred above but calculated using linear equation\n",
    "y_eq = linreg.intercept_ +np.sum(linreg.coef_ *X_test, axis=1)"
   ]
  },
  {
   "cell_type": "markdown",
   "metadata": {},
   "source": [
    "Plot real vs predicted travel times as scatterplot."
   ]
  },
  {
   "cell_type": "code",
   "execution_count": 125,
   "metadata": {},
   "outputs": [
    {
     "data": {
      "text/plain": [
       "array([501., 549., 650., ..., 299., 360., 429.])"
      ]
     },
     "execution_count": 125,
     "metadata": {},
     "output_type": "execute_result"
    }
   ],
   "source": [
    "Y_pred"
   ]
  },
  {
   "cell_type": "code",
   "execution_count": 137,
   "metadata": {},
   "outputs": [
    {
     "data": {
      "text/html": [
       "<div>\n",
       "<style scoped>\n",
       "    .dataframe tbody tr th:only-of-type {\n",
       "        vertical-align: middle;\n",
       "    }\n",
       "\n",
       "    .dataframe tbody tr th {\n",
       "        vertical-align: top;\n",
       "    }\n",
       "\n",
       "    .dataframe thead th {\n",
       "        text-align: right;\n",
       "    }\n",
       "</style>\n",
       "<table border=\"1\" class=\"dataframe\">\n",
       "  <thead>\n",
       "    <tr style=\"text-align: right;\">\n",
       "      <th></th>\n",
       "      <th>Actual</th>\n",
       "      <th>Predicted</th>\n",
       "    </tr>\n",
       "  </thead>\n",
       "  <tbody>\n",
       "    <tr>\n",
       "      <th>64408</th>\n",
       "      <td>501.0</td>\n",
       "      <td>501.0</td>\n",
       "    </tr>\n",
       "    <tr>\n",
       "      <th>88507</th>\n",
       "      <td>549.0</td>\n",
       "      <td>549.0</td>\n",
       "    </tr>\n",
       "    <tr>\n",
       "      <th>28280</th>\n",
       "      <td>650.0</td>\n",
       "      <td>650.0</td>\n",
       "    </tr>\n",
       "    <tr>\n",
       "      <th>61958</th>\n",
       "      <td>282.0</td>\n",
       "      <td>282.0</td>\n",
       "    </tr>\n",
       "    <tr>\n",
       "      <th>10985</th>\n",
       "      <td>714.0</td>\n",
       "      <td>714.0</td>\n",
       "    </tr>\n",
       "  </tbody>\n",
       "</table>\n",
       "</div>"
      ],
      "text/plain": [
       "       Actual  Predicted\n",
       "64408   501.0      501.0\n",
       "88507   549.0      549.0\n",
       "28280   650.0      650.0\n",
       "61958   282.0      282.0\n",
       "10985   714.0      714.0"
      ]
     },
     "execution_count": 137,
     "metadata": {},
     "output_type": "execute_result"
    }
   ],
   "source": [
    "vals = pd.DataFrame({\"Actual\": Y_test,\"Predicted\": Y_pred})\n",
    "vals.head()"
   ]
  },
  {
   "cell_type": "code",
   "execution_count": 126,
   "metadata": {},
   "outputs": [
    {
     "data": {
      "image/png": "[encoded data removed]",
      "text/plain": [
       "<Figure size 432x288 with 1 Axes>"
      ]
     },
     "metadata": {
      "needs_background": "light"
     },
     "output_type": "display_data"
    }
   ],
   "source": [
    "plt.scatter(Y_test,Y_pred)\n",
    "plt.xlabel('Y_test')\n",
    "plt.ylabel('Y_pred')\n",
    "plt.title(\"Real vs. Predicted\")\n",
    "plt.show()"
   ]
  },
  {
   "cell_type": "markdown",
   "metadata": {},
   "source": [
    "***RESIDUALS***"
   ]
  },
  {
   "cell_type": "markdown",
   "metadata": {},
   "source": [
    "Residual = Actual - Predicted"
   ]
  },
  {
   "cell_type": "code",
   "execution_count": null,
   "metadata": {},
   "outputs": [],
   "source": [
    "#ISSUES: putting Y_test & Y_pred in a single df: how to match??"
   ]
  },
  {
   "cell_type": "code",
   "execution_count": 128,
   "metadata": {},
   "outputs": [
    {
     "data": {
      "text/html": [
       "<div>\n",
       "<style scoped>\n",
       "    .dataframe tbody tr th:only-of-type {\n",
       "        vertical-align: middle;\n",
       "    }\n",
       "\n",
       "    .dataframe tbody tr th {\n",
       "        vertical-align: top;\n",
       "    }\n",
       "\n",
       "    .dataframe thead th {\n",
       "        text-align: right;\n",
       "    }\n",
       "</style>\n",
       "<table border=\"1\" class=\"dataframe\">\n",
       "  <thead>\n",
       "    <tr style=\"text-align: right;\">\n",
       "      <th></th>\n",
       "      <th>Actual</th>\n",
       "      <th>Predicted</th>\n",
       "      <th>residuals</th>\n",
       "    </tr>\n",
       "  </thead>\n",
       "  <tbody>\n",
       "    <tr>\n",
       "      <th>64408</th>\n",
       "      <td>501.0</td>\n",
       "      <td>501.0</td>\n",
       "      <td>1.477929e-12</td>\n",
       "    </tr>\n",
       "    <tr>\n",
       "      <th>88507</th>\n",
       "      <td>549.0</td>\n",
       "      <td>549.0</td>\n",
       "      <td>-4.547474e-13</td>\n",
       "    </tr>\n",
       "    <tr>\n",
       "      <th>28280</th>\n",
       "      <td>650.0</td>\n",
       "      <td>650.0</td>\n",
       "      <td>-1.023182e-12</td>\n",
       "    </tr>\n",
       "    <tr>\n",
       "      <th>61958</th>\n",
       "      <td>282.0</td>\n",
       "      <td>282.0</td>\n",
       "      <td>-1.477929e-12</td>\n",
       "    </tr>\n",
       "    <tr>\n",
       "      <th>10985</th>\n",
       "      <td>714.0</td>\n",
       "      <td>714.0</td>\n",
       "      <td>9.094947e-13</td>\n",
       "    </tr>\n",
       "    <tr>\n",
       "      <th>38068</th>\n",
       "      <td>522.0</td>\n",
       "      <td>522.0</td>\n",
       "      <td>-7.958079e-13</td>\n",
       "    </tr>\n",
       "    <tr>\n",
       "      <th>90814</th>\n",
       "      <td>428.0</td>\n",
       "      <td>428.0</td>\n",
       "      <td>-9.663381e-13</td>\n",
       "    </tr>\n",
       "    <tr>\n",
       "      <th>83990</th>\n",
       "      <td>397.0</td>\n",
       "      <td>397.0</td>\n",
       "      <td>-9.094947e-13</td>\n",
       "    </tr>\n",
       "    <tr>\n",
       "      <th>64501</th>\n",
       "      <td>419.0</td>\n",
       "      <td>419.0</td>\n",
       "      <td>5.115908e-13</td>\n",
       "    </tr>\n",
       "    <tr>\n",
       "      <th>85662</th>\n",
       "      <td>489.0</td>\n",
       "      <td>489.0</td>\n",
       "      <td>-7.389644e-13</td>\n",
       "    </tr>\n",
       "    <tr>\n",
       "      <th>54079</th>\n",
       "      <td>368.0</td>\n",
       "      <td>368.0</td>\n",
       "      <td>1.307399e-12</td>\n",
       "    </tr>\n",
       "    <tr>\n",
       "      <th>40321</th>\n",
       "      <td>114.0</td>\n",
       "      <td>114.0</td>\n",
       "      <td>-7.958079e-13</td>\n",
       "    </tr>\n",
       "    <tr>\n",
       "      <th>88387</th>\n",
       "      <td>204.0</td>\n",
       "      <td>204.0</td>\n",
       "      <td>-9.379164e-13</td>\n",
       "    </tr>\n",
       "    <tr>\n",
       "      <th>52418</th>\n",
       "      <td>542.0</td>\n",
       "      <td>542.0</td>\n",
       "      <td>-9.094947e-13</td>\n",
       "    </tr>\n",
       "    <tr>\n",
       "      <th>43197</th>\n",
       "      <td>303.0</td>\n",
       "      <td>303.0</td>\n",
       "      <td>6.252776e-13</td>\n",
       "    </tr>\n",
       "    <tr>\n",
       "      <th>70089</th>\n",
       "      <td>153.0</td>\n",
       "      <td>153.0</td>\n",
       "      <td>-1.136868e-12</td>\n",
       "    </tr>\n",
       "    <tr>\n",
       "      <th>18121</th>\n",
       "      <td>925.0</td>\n",
       "      <td>925.0</td>\n",
       "      <td>-5.684342e-13</td>\n",
       "    </tr>\n",
       "    <tr>\n",
       "      <th>57067</th>\n",
       "      <td>725.0</td>\n",
       "      <td>725.0</td>\n",
       "      <td>-4.547474e-13</td>\n",
       "    </tr>\n",
       "    <tr>\n",
       "      <th>65524</th>\n",
       "      <td>376.0</td>\n",
       "      <td>376.0</td>\n",
       "      <td>3.979039e-13</td>\n",
       "    </tr>\n",
       "    <tr>\n",
       "      <th>95833</th>\n",
       "      <td>278.0</td>\n",
       "      <td>278.0</td>\n",
       "      <td>-1.307399e-12</td>\n",
       "    </tr>\n",
       "    <tr>\n",
       "      <th>92149</th>\n",
       "      <td>791.0</td>\n",
       "      <td>791.0</td>\n",
       "      <td>-7.958079e-13</td>\n",
       "    </tr>\n",
       "    <tr>\n",
       "      <th>24707</th>\n",
       "      <td>391.0</td>\n",
       "      <td>391.0</td>\n",
       "      <td>-1.136868e-12</td>\n",
       "    </tr>\n",
       "    <tr>\n",
       "      <th>71142</th>\n",
       "      <td>293.0</td>\n",
       "      <td>293.0</td>\n",
       "      <td>-6.821210e-13</td>\n",
       "    </tr>\n",
       "    <tr>\n",
       "      <th>72664</th>\n",
       "      <td>2499.0</td>\n",
       "      <td>2499.0</td>\n",
       "      <td>1.818989e-12</td>\n",
       "    </tr>\n",
       "    <tr>\n",
       "      <th>38216</th>\n",
       "      <td>1043.0</td>\n",
       "      <td>1043.0</td>\n",
       "      <td>4.547474e-13</td>\n",
       "    </tr>\n",
       "    <tr>\n",
       "      <th>36195</th>\n",
       "      <td>460.0</td>\n",
       "      <td>460.0</td>\n",
       "      <td>6.252776e-13</td>\n",
       "    </tr>\n",
       "    <tr>\n",
       "      <th>74960</th>\n",
       "      <td>349.0</td>\n",
       "      <td>349.0</td>\n",
       "      <td>1.250555e-12</td>\n",
       "    </tr>\n",
       "    <tr>\n",
       "      <th>76437</th>\n",
       "      <td>587.0</td>\n",
       "      <td>587.0</td>\n",
       "      <td>6.821210e-13</td>\n",
       "    </tr>\n",
       "    <tr>\n",
       "      <th>13553</th>\n",
       "      <td>499.0</td>\n",
       "      <td>499.0</td>\n",
       "      <td>-1.250555e-12</td>\n",
       "    </tr>\n",
       "    <tr>\n",
       "      <th>19252</th>\n",
       "      <td>186.0</td>\n",
       "      <td>186.0</td>\n",
       "      <td>-1.165290e-12</td>\n",
       "    </tr>\n",
       "    <tr>\n",
       "      <th>...</th>\n",
       "      <td>...</td>\n",
       "      <td>...</td>\n",
       "      <td>...</td>\n",
       "    </tr>\n",
       "    <tr>\n",
       "      <th>99950</th>\n",
       "      <td>246.0</td>\n",
       "      <td>246.0</td>\n",
       "      <td>8.242296e-13</td>\n",
       "    </tr>\n",
       "    <tr>\n",
       "      <th>62500</th>\n",
       "      <td>476.0</td>\n",
       "      <td>476.0</td>\n",
       "      <td>1.193712e-12</td>\n",
       "    </tr>\n",
       "    <tr>\n",
       "      <th>24011</th>\n",
       "      <td>1009.0</td>\n",
       "      <td>1009.0</td>\n",
       "      <td>1.023182e-12</td>\n",
       "    </tr>\n",
       "    <tr>\n",
       "      <th>30210</th>\n",
       "      <td>292.0</td>\n",
       "      <td>292.0</td>\n",
       "      <td>1.250555e-12</td>\n",
       "    </tr>\n",
       "    <tr>\n",
       "      <th>30359</th>\n",
       "      <td>706.0</td>\n",
       "      <td>706.0</td>\n",
       "      <td>-6.821210e-13</td>\n",
       "    </tr>\n",
       "    <tr>\n",
       "      <th>63452</th>\n",
       "      <td>320.0</td>\n",
       "      <td>320.0</td>\n",
       "      <td>1.250555e-12</td>\n",
       "    </tr>\n",
       "    <tr>\n",
       "      <th>90458</th>\n",
       "      <td>399.0</td>\n",
       "      <td>399.0</td>\n",
       "      <td>5.115908e-13</td>\n",
       "    </tr>\n",
       "    <tr>\n",
       "      <th>76148</th>\n",
       "      <td>337.0</td>\n",
       "      <td>337.0</td>\n",
       "      <td>1.307399e-12</td>\n",
       "    </tr>\n",
       "    <tr>\n",
       "      <th>45953</th>\n",
       "      <td>879.0</td>\n",
       "      <td>879.0</td>\n",
       "      <td>4.547474e-13</td>\n",
       "    </tr>\n",
       "    <tr>\n",
       "      <th>76562</th>\n",
       "      <td>255.0</td>\n",
       "      <td>255.0</td>\n",
       "      <td>1.421085e-12</td>\n",
       "    </tr>\n",
       "    <tr>\n",
       "      <th>71348</th>\n",
       "      <td>312.0</td>\n",
       "      <td>312.0</td>\n",
       "      <td>-7.389644e-13</td>\n",
       "    </tr>\n",
       "    <tr>\n",
       "      <th>20879</th>\n",
       "      <td>1303.0</td>\n",
       "      <td>1303.0</td>\n",
       "      <td>4.547474e-13</td>\n",
       "    </tr>\n",
       "    <tr>\n",
       "      <th>65047</th>\n",
       "      <td>286.0</td>\n",
       "      <td>286.0</td>\n",
       "      <td>-8.526513e-13</td>\n",
       "    </tr>\n",
       "    <tr>\n",
       "      <th>66657</th>\n",
       "      <td>2356.0</td>\n",
       "      <td>2356.0</td>\n",
       "      <td>-7.275958e-12</td>\n",
       "    </tr>\n",
       "    <tr>\n",
       "      <th>90990</th>\n",
       "      <td>539.0</td>\n",
       "      <td>539.0</td>\n",
       "      <td>-7.958079e-13</td>\n",
       "    </tr>\n",
       "    <tr>\n",
       "      <th>78560</th>\n",
       "      <td>623.0</td>\n",
       "      <td>623.0</td>\n",
       "      <td>4.547474e-13</td>\n",
       "    </tr>\n",
       "    <tr>\n",
       "      <th>65567</th>\n",
       "      <td>585.0</td>\n",
       "      <td>585.0</td>\n",
       "      <td>5.684342e-13</td>\n",
       "    </tr>\n",
       "    <tr>\n",
       "      <th>53263</th>\n",
       "      <td>257.0</td>\n",
       "      <td>257.0</td>\n",
       "      <td>1.193712e-12</td>\n",
       "    </tr>\n",
       "    <tr>\n",
       "      <th>69215</th>\n",
       "      <td>409.0</td>\n",
       "      <td>409.0</td>\n",
       "      <td>-5.684342e-13</td>\n",
       "    </tr>\n",
       "    <tr>\n",
       "      <th>73409</th>\n",
       "      <td>278.0</td>\n",
       "      <td>278.0</td>\n",
       "      <td>5.115908e-13</td>\n",
       "    </tr>\n",
       "    <tr>\n",
       "      <th>73021</th>\n",
       "      <td>493.0</td>\n",
       "      <td>493.0</td>\n",
       "      <td>-6.821210e-13</td>\n",
       "    </tr>\n",
       "    <tr>\n",
       "      <th>71552</th>\n",
       "      <td>447.0</td>\n",
       "      <td>447.0</td>\n",
       "      <td>-9.663381e-13</td>\n",
       "    </tr>\n",
       "    <tr>\n",
       "      <th>30967</th>\n",
       "      <td>231.0</td>\n",
       "      <td>231.0</td>\n",
       "      <td>4.831691e-13</td>\n",
       "    </tr>\n",
       "    <tr>\n",
       "      <th>19809</th>\n",
       "      <td>476.0</td>\n",
       "      <td>476.0</td>\n",
       "      <td>-7.958079e-13</td>\n",
       "    </tr>\n",
       "    <tr>\n",
       "      <th>62389</th>\n",
       "      <td>396.0</td>\n",
       "      <td>396.0</td>\n",
       "      <td>-8.526513e-13</td>\n",
       "    </tr>\n",
       "    <tr>\n",
       "      <th>91007</th>\n",
       "      <td>480.0</td>\n",
       "      <td>480.0</td>\n",
       "      <td>2.273737e-13</td>\n",
       "    </tr>\n",
       "    <tr>\n",
       "      <th>55338</th>\n",
       "      <td>430.0</td>\n",
       "      <td>430.0</td>\n",
       "      <td>3.410605e-13</td>\n",
       "    </tr>\n",
       "    <tr>\n",
       "      <th>56855</th>\n",
       "      <td>299.0</td>\n",
       "      <td>299.0</td>\n",
       "      <td>-1.080025e-12</td>\n",
       "    </tr>\n",
       "    <tr>\n",
       "      <th>41441</th>\n",
       "      <td>360.0</td>\n",
       "      <td>360.0</td>\n",
       "      <td>-1.193712e-12</td>\n",
       "    </tr>\n",
       "    <tr>\n",
       "      <th>35693</th>\n",
       "      <td>429.0</td>\n",
       "      <td>429.0</td>\n",
       "      <td>-7.958079e-13</td>\n",
       "    </tr>\n",
       "  </tbody>\n",
       "</table>\n",
       "<p>25000 rows × 3 columns</p>\n",
       "</div>"
      ],
      "text/plain": [
       "       Actual  Predicted     residuals\n",
       "64408   501.0      501.0  1.477929e-12\n",
       "88507   549.0      549.0 -4.547474e-13\n",
       "28280   650.0      650.0 -1.023182e-12\n",
       "61958   282.0      282.0 -1.477929e-12\n",
       "10985   714.0      714.0  9.094947e-13\n",
       "38068   522.0      522.0 -7.958079e-13\n",
       "90814   428.0      428.0 -9.663381e-13\n",
       "83990   397.0      397.0 -9.094947e-13\n",
       "64501   419.0      419.0  5.115908e-13\n",
       "85662   489.0      489.0 -7.389644e-13\n",
       "54079   368.0      368.0  1.307399e-12\n",
       "40321   114.0      114.0 -7.958079e-13\n",
       "88387   204.0      204.0 -9.379164e-13\n",
       "52418   542.0      542.0 -9.094947e-13\n",
       "43197   303.0      303.0  6.252776e-13\n",
       "70089   153.0      153.0 -1.136868e-12\n",
       "18121   925.0      925.0 -5.684342e-13\n",
       "57067   725.0      725.0 -4.547474e-13\n",
       "65524   376.0      376.0  3.979039e-13\n",
       "95833   278.0      278.0 -1.307399e-12\n",
       "92149   791.0      791.0 -7.958079e-13\n",
       "24707   391.0      391.0 -1.136868e-12\n",
       "71142   293.0      293.0 -6.821210e-13\n",
       "72664  2499.0     2499.0  1.818989e-12\n",
       "38216  1043.0     1043.0  4.547474e-13\n",
       "36195   460.0      460.0  6.252776e-13\n",
       "74960   349.0      349.0  1.250555e-12\n",
       "76437   587.0      587.0  6.821210e-13\n",
       "13553   499.0      499.0 -1.250555e-12\n",
       "19252   186.0      186.0 -1.165290e-12\n",
       "...       ...        ...           ...\n",
       "99950   246.0      246.0  8.242296e-13\n",
       "62500   476.0      476.0  1.193712e-12\n",
       "24011  1009.0     1009.0  1.023182e-12\n",
       "30210   292.0      292.0  1.250555e-12\n",
       "30359   706.0      706.0 -6.821210e-13\n",
       "63452   320.0      320.0  1.250555e-12\n",
       "90458   399.0      399.0  5.115908e-13\n",
       "76148   337.0      337.0  1.307399e-12\n",
       "45953   879.0      879.0  4.547474e-13\n",
       "76562   255.0      255.0  1.421085e-12\n",
       "71348   312.0      312.0 -7.389644e-13\n",
       "20879  1303.0     1303.0  4.547474e-13\n",
       "65047   286.0      286.0 -8.526513e-13\n",
       "66657  2356.0     2356.0 -7.275958e-12\n",
       "90990   539.0      539.0 -7.958079e-13\n",
       "78560   623.0      623.0  4.547474e-13\n",
       "65567   585.0      585.0  5.684342e-13\n",
       "53263   257.0      257.0  1.193712e-12\n",
       "69215   409.0      409.0 -5.684342e-13\n",
       "73409   278.0      278.0  5.115908e-13\n",
       "73021   493.0      493.0 -6.821210e-13\n",
       "71552   447.0      447.0 -9.663381e-13\n",
       "30967   231.0      231.0  4.831691e-13\n",
       "19809   476.0      476.0 -7.958079e-13\n",
       "62389   396.0      396.0 -8.526513e-13\n",
       "91007   480.0      480.0  2.273737e-13\n",
       "55338   430.0      430.0  3.410605e-13\n",
       "56855   299.0      299.0 -1.080025e-12\n",
       "41441   360.0      360.0 -1.193712e-12\n",
       "35693   429.0      429.0 -7.958079e-13\n",
       "\n",
       "[25000 rows x 3 columns]"
      ]
     },
     "execution_count": 128,
     "metadata": {},
     "output_type": "execute_result"
    }
   ],
   "source": [
    "vals[\"residuals\"] = vals[\"Actual\"]-vals[\"Predicted\"]\n",
    "vals"
   ]
  },
  {
   "cell_type": "markdown",
   "metadata": {},
   "source": [
    "***Distribution of Residuals***"
   ]
  },
  {
   "cell_type": "markdown",
   "metadata": {},
   "source": [
    "Residuals should be approx normally distributed - they shouldn't follow a pattern. This can be inspected by plotting residuals as a histogram and/or using a probability plot."
   ]
  },
  {
   "cell_type": "code",
   "execution_count": 74,
   "metadata": {},
   "outputs": [],
   "source": [
    "from scipy import stats"
   ]
  },
  {
   "cell_type": "code",
   "execution_count": 129,
   "metadata": {},
   "outputs": [
    {
     "data": {
      "text/plain": [
       "(array([1.0000e+00, 1.0000e+00, 0.0000e+00, 0.0000e+00, 0.0000e+00,\n",
       "        2.0000e+00, 2.3000e+01, 1.1500e+02, 1.6735e+04, 8.1230e+03]),\n",
       " array([-2.68300937e-11, -2.37832865e-11, -2.07364792e-11, -1.76896719e-11,\n",
       "        -1.46428647e-11, -1.15960574e-11, -8.54925020e-12, -5.50244295e-12,\n",
       "        -2.45563569e-12,  5.91171556e-13,  3.63797881e-12]),\n",
       " <a list of 10 Patch objects>)"
      ]
     },
     "execution_count": 129,
     "metadata": {},
     "output_type": "execute_result"
    },
    {
     "data": {
      "image/png": "[encoded data removed]",
      "text/plain": [
       "<Figure size 432x288 with 1 Axes>"
      ]
     },
     "metadata": {
      "needs_background": "light"
     },
     "output_type": "display_data"
    }
   ],
   "source": [
    "plt.hist(vals[\"residuals\"])"
   ]
  },
  {
   "cell_type": "code",
   "execution_count": 130,
   "metadata": {},
   "outputs": [
    {
     "data": {
      "text/plain": [
       "((array([-4.03137704, -3.81788977, -3.70118272, ...,  3.70118272,\n",
       "          3.81788977,  4.03137704]),\n",
       "  array([-2.68300937e-11, -2.19984031e-11, -1.04591891e-11, ...,\n",
       "          3.63797881e-12,  3.63797881e-12,  3.63797881e-12])),\n",
       " (9.6831211021595e-13, -2.6732358548997228e-14, 0.9333092244275399))"
      ]
     },
     "execution_count": 130,
     "metadata": {},
     "output_type": "execute_result"
    },
    {
     "data": {
      "image/png": "[encoded data removed]",
      "text/plain": [
       "<Figure size 432x288 with 1 Axes>"
      ]
     },
     "metadata": {
      "needs_background": "light"
     },
     "output_type": "display_data"
    }
   ],
   "source": [
    "#plots residuals vs normal distribution, red line shows best-fit line for the data\n",
    "stats.probplot(vals[\"residuals\"],plot=plt)"
   ]
  },
  {
   "cell_type": "code",
   "execution_count": 131,
   "metadata": {},
   "outputs": [
    {
     "data": {
      "text/plain": [
       "KstestResult(statistic=0.4999999999985486, pvalue=0.0)"
      ]
     },
     "execution_count": 131,
     "metadata": {},
     "output_type": "execute_result"
    }
   ],
   "source": [
    "stats.kstest(vals[\"residuals\"], 'norm')"
   ]
  },
  {
   "cell_type": "markdown",
   "metadata": {},
   "source": [
    "***Relationship between Residuals & Predictors***"
   ]
  },
  {
   "cell_type": "markdown",
   "metadata": {},
   "source": [
    "Plot relationship between residuals and predicting variables (features in X) to look for the independence assumption. In linear regression, it is assumed that the errors (residuals of fitted model) are independent of each other. If residuals are distributed uniformly randomly around the zero x-axes and don't form specific clusters, then the assumption holds true. "
   ]
  },
  {
   "cell_type": "code",
   "execution_count": 132,
   "metadata": {},
   "outputs": [
    {
     "data": {
      "image/png": "[encoded data removed]",
      "text/plain": [
       "<Figure size 432x288 with 1 Axes>"
      ]
     },
     "metadata": {
      "needs_background": "light"
     },
     "output_type": "display_data"
    }
   ],
   "source": [
    "plt.scatter(X_test[\"INITIAL_CALL_TYPE\"],vals[\"residuals\"])\n",
    "plt.xlabel(\"INITIAL_CALL_TYPE - predictor\")\n",
    "plt.ylabel(\"residuals\")\n",
    "plt.title(\"INITIAL CALL TYPE vs res\")\n",
    "plt.show()"
   ]
  },
  {
   "cell_type": "code",
   "execution_count": 135,
   "metadata": {},
   "outputs": [
    {
     "data": {
      "image/png": "[encoded data removed]",
      "text/plain": [
       "<Figure size 432x288 with 1 Axes>"
      ]
     },
     "metadata": {
      "needs_background": "light"
     },
     "output_type": "display_data"
    }
   ],
   "source": [
    "plt.scatter(X_test[\"INITIAL_SEVERITY_LEVEL_CODE\"],vals[\"residuals\"])\n",
    "plt.xlabel(\"INITIAL_SEVERITY_LEVEL_CODE - predictor\")\n",
    "plt.ylabel(\"residual\")\n",
    "plt.title(\"INITIAL SEVERITY LEVEL vs res\")\n",
    "plt.show()"
   ]
  },
  {
   "cell_type": "code",
   "execution_count": 136,
   "metadata": {},
   "outputs": [
    {
     "data": {
      "image/png": "[encoded data removed]",
      "text/plain": [
       "<Figure size 432x288 with 1 Axes>"
      ]
     },
     "metadata": {
      "needs_background": "light"
     },
     "output_type": "display_data"
    }
   ],
   "source": [
    "plt.scatter(X_test[\"INCIDENT_DISPATCH_AREA\"],vals[\"residuals\"])\n",
    "plt.xlabel(\"INCIDENT_DISPATCH_AREA - predictor\")\n",
    "plt.ylabel(\"residual\")\n",
    "plt.title(\"INCIDENT DISPATCH AREA vs res\")\n",
    "plt.show()"
   ]
  },
  {
   "cell_type": "code",
   "execution_count": null,
   "metadata": {},
   "outputs": [],
   "source": []
  }
 ],
 "metadata": {
  "kernelspec": {
   "display_name": "Python 3",
   "language": "python",
   "name": "python3"
  },
  "language_info": {
   "codemirror_mode": {
    "name": "ipython",
    "version": 3
   },
   "file_extension": ".py",
   "mimetype": "text/x-python",
   "name": "python",
   "nbconvert_exporter": "python",
   "pygments_lexer": "ipython3",
   "version": "3.7.3"
  }
 },
 "nbformat": 4,
 "nbformat_minor": 2
}
