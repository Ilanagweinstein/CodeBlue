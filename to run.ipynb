{
 "cells": [
  {
   "cell_type": "code",
   "execution_count": null,
   "metadata": {},
   "outputs": [],
   "source": [
    "import pandas as pd\n",
    "import numpy as np\n",
    "import matplotlib.pyplot as plt\n",
    "%matplotlib inline\n",
    "import seaborn as sns\n",
    "# from sklearn import preprocessing\n",
    "# import statistics\n",
    "# import math\n",
    "# import os\n",
    "# import warnings\n",
    "# warnings.filterwarnings('ignore')\n",
    "from datetime import datetime as dt\n",
    "pd.set_option('display.max_columns', None)\n",
    "import os"
   ]
  },
  {
   "cell_type": "code",
   "execution_count": null,
   "metadata": {},
   "outputs": [],
   "source": [
    "#import clean and cat data\n",
    "directory = os.getcwd()\n",
    "\n",
    "data_wrk = pd.read_csv(directory + '/EMS_2017_2018_cat_final.csv', sep=',')\n",
    "cat_values = pd.read_csv(directory + '/cat_values.csv', sep=',')"
   ]
  },
  {
   "cell_type": "code",
   "execution_count": null,
   "metadata": {},
   "outputs": [],
   "source": [
    "data_wrk = data_wrk.drop(['INCIDENT_DATETIME','FIRST_ASSIGNMENT_DATETIME', \n",
    "                         'FIRST_ACTIVATION_DATETIME', 'FIRST_ON_SCENE_DATETIME'], axis=1)\n",
    "\n"
   ]
  },
  {
   "cell_type": "code",
   "execution_count": null,
   "metadata": {},
   "outputs": [],
   "source": [
    "data_wrk = data_wrk.drop(['CAD_INCIDENT_ID','BOROUGH','ZIPCODE','COMMUNITYDISTRICT','COMMUNITYSCHOOLDISTRICT',\n",
    "                         'INCIDENT_Hour','INCIDENT_Month', 'FIRST_ASSIGNMENT_Hour', 'FIRST_ASSIGNMENT_Month','FIRST_ON_SCENE_Hour', 'FIRST_ON_SCENE_Month'], axis=1)\n",
    "\n",
    "\n"
   ]
  },
  {
   "cell_type": "code",
   "execution_count": null,
   "metadata": {},
   "outputs": [],
   "source": [
    "from sklearn.cross_validation import train_test_split\n",
    "\n",
    "X = data_wrk.drop('INCIDENT_TRAVEL_TM_SECONDS_QY', axis=1)\n",
    "Y = data_wrk['INCIDENT_TRAVEL_TM_SECONDS_QY']\n",
    "\n",
    "X_train, X_test, Y_train, Y_test = train_test_split(X, Y, train_size=.75)"
   ]
  },
  {
   "cell_type": "code",
   "execution_count": null,
   "metadata": {},
   "outputs": [],
   "source": [
    "from sklearn.ensemble.forest import RandomForestClassifier\n",
    "from sklearn.feature_selection import SelectFromModel\n",
    "from sklearn import cross_validation\n",
    "from sklearn.cross_validation import train_test_split"
   ]
  },
  {
   "cell_type": "code",
   "execution_count": null,
   "metadata": {},
   "outputs": [],
   "source": [
    "sel = SelectFromModel(RandomForestClassifier(n_estimators = 50))"
   ]
  },
  {
   "cell_type": "code",
   "execution_count": null,
   "metadata": {},
   "outputs": [],
   "source": [
    "#C R A S H E S\n",
    "sel.fit(X_train, Y_train)"
   ]
  },
  {
   "cell_type": "code",
   "execution_count": null,
   "metadata": {},
   "outputs": [],
   "source": [
    "#To see which features are important we can use get_support method on the fitted model.\n",
    "sel.get_support()\n",
    "#It will return an array of boolean values. \n",
    "#True for the features whose importance is greater than the mean importance and False for the rest."
   ]
  },
  {
   "cell_type": "code",
   "execution_count": null,
   "metadata": {},
   "outputs": [],
   "source": [
    "selected_feat= X_train.columns[(sel.get_support())]\n",
    "print(selected_feat)\n",
    "# To get the name of the features selected"
   ]
  }
 ],
 "metadata": {
  "kernelspec": {
   "display_name": "Python 3",
   "language": "python",
   "name": "python3"
  },
  "language_info": {
   "codemirror_mode": {
    "name": "ipython",
    "version": 3
   },
   "file_extension": ".py",
   "mimetype": "text/x-python",
   "name": "python",
   "nbconvert_exporter": "python",
   "pygments_lexer": "ipython3",
   "version": "3.6.4"
  }
 },
 "nbformat": 4,
 "nbformat_minor": 2
}
